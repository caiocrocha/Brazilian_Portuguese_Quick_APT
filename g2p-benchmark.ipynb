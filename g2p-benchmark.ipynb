{
 "cells": [
  {
   "cell_type": "markdown",
   "metadata": {},
   "source": [
    "## Load dataset"
   ]
  },
  {
   "cell_type": "code",
   "execution_count": 116,
   "metadata": {
    "tags": []
   },
   "outputs": [],
   "source": [
    "import pandas as pd\n",
    "import re\n",
    "from PString import PString"
   ]
  },
  {
   "cell_type": "code",
   "execution_count": 117,
   "metadata": {
    "tags": []
   },
   "outputs": [
    {
     "data": {
      "text/html": [
       "<div>\n",
       "<style scoped>\n",
       "    .dataframe tbody tr th:only-of-type {\n",
       "        vertical-align: middle;\n",
       "    }\n",
       "\n",
       "    .dataframe tbody tr th {\n",
       "        vertical-align: top;\n",
       "    }\n",
       "\n",
       "    .dataframe thead th {\n",
       "        text-align: right;\n",
       "    }\n",
       "</style>\n",
       "<table border=\"1\" class=\"dataframe\">\n",
       "  <thead>\n",
       "    <tr style=\"text-align: right;\">\n",
       "      <th></th>\n",
       "      <th>word</th>\n",
       "      <th>category</th>\n",
       "      <th>pronunciation</th>\n",
       "    </tr>\n",
       "  </thead>\n",
       "  <tbody>\n",
       "    <tr>\n",
       "      <th>0</th>\n",
       "      <td>a</td>\n",
       "      <td>artigo</td>\n",
       "      <td>a</td>\n",
       "    </tr>\n",
       "    <tr>\n",
       "      <th>1</th>\n",
       "      <td>a</td>\n",
       "      <td>preposição</td>\n",
       "      <td>a</td>\n",
       "    </tr>\n",
       "    <tr>\n",
       "      <th>2</th>\n",
       "      <td>á-bê-cê</td>\n",
       "      <td>nome masculino</td>\n",
       "      <td>ˌa.bˌe.sˈe</td>\n",
       "    </tr>\n",
       "    <tr>\n",
       "      <th>3</th>\n",
       "      <td>a-pro·pó·si·to</td>\n",
       "      <td>nome masculino</td>\n",
       "      <td>a.pɾo.pˈɔ.zi.tʊ</td>\n",
       "    </tr>\n",
       "    <tr>\n",
       "      <th>4</th>\n",
       "      <td>à-von·ta·de</td>\n",
       "      <td>nome masculino</td>\n",
       "      <td>ˌa.võ.tˈa.dʒi</td>\n",
       "    </tr>\n",
       "  </tbody>\n",
       "</table>\n",
       "</div>"
      ],
      "text/plain": [
       "             word        category    pronunciation\n",
       "0               a          artigo                a\n",
       "1               a      preposição                a\n",
       "2         á-bê-cê  nome masculino       ˌa.bˌe.sˈe\n",
       "3  a-pro·pó·si·to  nome masculino  a.pɾo.pˈɔ.zi.tʊ\n",
       "4     à-von·ta·de  nome masculino   ˌa.võ.tˈa.dʒi"
      ]
     },
     "execution_count": 117,
     "metadata": {},
     "output_type": "execute_result"
    }
   ],
   "source": [
    "df = pd.read_csv('pronunciations/pronunciation_sp.csv')\n",
    "df.head()"
   ]
  },
  {
   "cell_type": "code",
   "execution_count": 118,
   "metadata": {
    "tags": []
   },
   "outputs": [
    {
     "data": {
      "text/plain": [
       "(53397, 3)"
      ]
     },
     "execution_count": 118,
     "metadata": {},
     "output_type": "execute_result"
    }
   ],
   "source": [
    "df.dropna(inplace=True, subset=['word', 'pronunciation'])\n",
    "df.drop_duplicates(inplace=True, subset=['word'])\n",
    "df.shape"
   ]
  },
  {
   "cell_type": "code",
   "execution_count": 119,
   "metadata": {},
   "outputs": [],
   "source": [
    "df['pronunciation'] = df['pronunciation'].apply(lambda v: v.split('$')[0].strip() if '$' in v else v.strip())"
   ]
  },
  {
   "cell_type": "code",
   "execution_count": 120,
   "metadata": {},
   "outputs": [
    {
     "name": "stdout",
     "output_type": "stream",
     "text": [
      "word                     des·co·la·gem\n",
      "category                 nome feminino\n",
      "pronunciation    dʒis.ko.lˈa.ʒẽjʌ̃j_m\n",
      "Name: 18754, dtype: object\n",
      "word                  pa·no-cru\n",
      "category         nome masculino\n",
      "pronunciation       pˌə.nʊ.crˈu\n",
      "Name: 44141, dtype: object\n"
     ]
    }
   ],
   "source": [
    "print(df.loc[18754])\n",
    "df.at[18754, 'pronunciation'] = 'dʒis.ko.lˈa.ʒẽj' # fix pronunciation\n",
    "\n",
    "print(df.loc[44141])\n",
    "df.at[44141, 'pronunciation'] = 'pˌə.nʊ.krˈu' # fix pronunciation"
   ]
  },
  {
   "cell_type": "code",
   "execution_count": 121,
   "metadata": {},
   "outputs": [
    {
     "data": {
      "text/html": [
       "<div>\n",
       "<style scoped>\n",
       "    .dataframe tbody tr th:only-of-type {\n",
       "        vertical-align: middle;\n",
       "    }\n",
       "\n",
       "    .dataframe tbody tr th {\n",
       "        vertical-align: top;\n",
       "    }\n",
       "\n",
       "    .dataframe thead th {\n",
       "        text-align: right;\n",
       "    }\n",
       "</style>\n",
       "<table border=\"1\" class=\"dataframe\">\n",
       "  <thead>\n",
       "    <tr style=\"text-align: right;\">\n",
       "      <th></th>\n",
       "      <th>word</th>\n",
       "      <th>category</th>\n",
       "      <th>pronunciation</th>\n",
       "      <th>pronunciation_clean</th>\n",
       "      <th>word_clean</th>\n",
       "    </tr>\n",
       "  </thead>\n",
       "  <tbody>\n",
       "    <tr>\n",
       "      <th>0</th>\n",
       "      <td>a</td>\n",
       "      <td>artigo</td>\n",
       "      <td>a</td>\n",
       "      <td>a</td>\n",
       "      <td>a</td>\n",
       "    </tr>\n",
       "    <tr>\n",
       "      <th>2</th>\n",
       "      <td>á-bê-cê</td>\n",
       "      <td>nome masculino</td>\n",
       "      <td>ˌa.bˌe.sˈe</td>\n",
       "      <td>abese</td>\n",
       "      <td>á-bê-cê</td>\n",
       "    </tr>\n",
       "    <tr>\n",
       "      <th>3</th>\n",
       "      <td>a-pro·pó·si·to</td>\n",
       "      <td>nome masculino</td>\n",
       "      <td>a.pɾo.pˈɔ.zi.tʊ</td>\n",
       "      <td>apɾopɔzitʊ</td>\n",
       "      <td>a-propósito</td>\n",
       "    </tr>\n",
       "    <tr>\n",
       "      <th>4</th>\n",
       "      <td>à-von·ta·de</td>\n",
       "      <td>nome masculino</td>\n",
       "      <td>ˌa.võ.tˈa.dʒi</td>\n",
       "      <td>avõtadʒi</td>\n",
       "      <td>à-vontade</td>\n",
       "    </tr>\n",
       "    <tr>\n",
       "      <th>5</th>\n",
       "      <td>a·a</td>\n",
       "      <td>nome feminino</td>\n",
       "      <td>a.ˈa</td>\n",
       "      <td>aa</td>\n",
       "      <td>aa</td>\n",
       "    </tr>\n",
       "  </tbody>\n",
       "</table>\n",
       "</div>"
      ],
      "text/plain": [
       "             word        category    pronunciation pronunciation_clean  \\\n",
       "0               a          artigo                a                   a   \n",
       "2         á-bê-cê  nome masculino       ˌa.bˌe.sˈe               abese   \n",
       "3  a-pro·pó·si·to  nome masculino  a.pɾo.pˈɔ.zi.tʊ          apɾopɔzitʊ   \n",
       "4     à-von·ta·de  nome masculino   ˌa.võ.tˈa.dʒi           avõtadʒi   \n",
       "5             a·a   nome feminino             a.ˈa                  aa   \n",
       "\n",
       "    word_clean  \n",
       "0            a  \n",
       "2      á-bê-cê  \n",
       "3  a-propósito  \n",
       "4    à-vontade  \n",
       "5           aa  "
      ]
     },
     "execution_count": 121,
     "metadata": {},
     "output_type": "execute_result"
    }
   ],
   "source": [
    "df['pronunciation_clean'] = df['pronunciation'].apply(lambda v: PString(re.sub('[ ˌ.ˈ_\\-]', '', v)))\n",
    "df['word_clean'] = df['word'].apply(lambda v: re.sub('[ˌ·ˈ\\'_]', '', v).replace(' ', '-').lower())\n",
    "df.head()"
   ]
  },
  {
   "cell_type": "code",
   "execution_count": 122,
   "metadata": {},
   "outputs": [],
   "source": [
    "def get_chars_list(series):\n",
    "    return series.apply(list).apply(pd.Series).stack().unique()"
   ]
  },
  {
   "cell_type": "code",
   "execution_count": 123,
   "metadata": {},
   "outputs": [
    {
     "name": "stdout",
     "output_type": "stream",
     "text": [
      "Tokens: ['a' 'b' 'e' 's' 'p' 'ɾ' 'o' 'ɔ' 'z' 'i' 't' 'ʊ' 'v' 'õ' 'dʒ' 'w' 'x'\n",
      " 'tʃ' 'g' 'd' 'j' 'ə' 'k' 'ə̃' 'ʃ' 'ʒ' 'f' 'm' 'ẽ' 'n' 'u' 'l' 'r' 'ʎ'\n",
      " 'ɛ' 'ɛ̃' 'ɲ' 'ũ' 'ĩ' 'ɨ' 'ɐ̃' 'h' 'ŋ' 'ɫ' 'ɔ̃']\n",
      "Number of tokens: 45\n",
      "Chars: ['a' 'á' '-' 'b' 'ê' 'c' 'p' 'r' 'o' 'ó' 's' 'i' 't' 'à' 'v' 'n' 'd' 'e'\n",
      " 'l' 'g' 'x' 'j' 'f' 'm' 'u' 'ç' 'ã' 'z' 'h' 'q' 'ô' 'é' 'í' 'ú' 'â' 'y'\n",
      " 'õ' 'w' 'k' 'ï']\n",
      "Number of chars: 40\n"
     ]
    }
   ],
   "source": [
    "tokens = get_chars_list(df['pronunciation_clean'])\n",
    "print(f'Tokens: {tokens}')\n",
    "print(f'Number of tokens: {len(tokens)}')\n",
    "\n",
    "chars = get_chars_list(df['word_clean'])\n",
    "print(f'Chars: {chars}')\n",
    "print(f'Number of chars: {len(chars)}')"
   ]
  },
  {
   "cell_type": "code",
   "execution_count": 36,
   "metadata": {},
   "outputs": [],
   "source": [
    "df[['word_clean','pronunciation_clean']].to_csv('pronunciations/pronunciation_sp_clean.csv', index=False)\n",
    "df['word_clean'].to_csv('pronunciations/pronunciation_sp_clean.txt', index=False, header=False)"
   ]
  },
  {
   "cell_type": "code",
   "execution_count": 124,
   "metadata": {
    "tags": []
   },
   "outputs": [
    {
     "data": {
      "text/plain": [
       "(5340, 5)"
      ]
     },
     "execution_count": 124,
     "metadata": {},
     "output_type": "execute_result"
    }
   ],
   "source": [
    "df_val = df.sample(frac=0.1, random_state=82)\n",
    "df_val.shape"
   ]
  },
  {
   "cell_type": "code",
   "execution_count": 11,
   "metadata": {},
   "outputs": [],
   "source": [
    "df_val['word_clean'].to_csv('pronunciations/pronunciation_sp_val.txt', index=False, header=False)"
   ]
  },
  {
   "cell_type": "markdown",
   "metadata": {},
   "source": [
    "## G2P"
   ]
  },
  {
   "cell_type": "markdown",
   "metadata": {},
   "source": [
    "### Epitran G2P"
   ]
  },
  {
   "cell_type": "code",
   "execution_count": 125,
   "metadata": {},
   "outputs": [
    {
     "name": "stdout",
     "output_type": "stream",
     "text": [
      "INFO: Pandarallel will run on 4 workers.\n",
      "INFO: Pandarallel will use Memory file system to transfer data between the main process and workers.\n"
     ]
    }
   ],
   "source": [
    "from pandarallel import pandarallel\n",
    "import epitran\n",
    "\n",
    "pandarallel.initialize(progress_bar=False)\n",
    "\n",
    "def epitran_g2p(text, epi):\n",
    "    \"\"\"\n",
    "    Roda e pré-processa g2p do epitran para uma frase\n",
    "    \"\"\"\n",
    "    return epi.transliterate(u'{}'.format(text))"
   ]
  },
  {
   "cell_type": "code",
   "execution_count": 126,
   "metadata": {},
   "outputs": [],
   "source": [
    "epi = epitran.Epitran('por-Latn')"
   ]
  },
  {
   "cell_type": "code",
   "execution_count": 127,
   "metadata": {},
   "outputs": [
    {
     "data": {
      "text/plain": [
       "32572        impoɾtuno\n",
       "62413           viɾɐdo\n",
       "32298    imɛdiɐtɐmɛntɛ\n",
       "38187          mɐleolo\n",
       "26042     ɛʃtɾɛptokoko\n",
       "Name: epitran_pronunciation, dtype: object"
      ]
     },
     "execution_count": 127,
     "metadata": {},
     "output_type": "execute_result"
    }
   ],
   "source": [
    "df_val['epitran_pronunciation'] = df_val.parallel_apply(lambda row: epitran_g2p(row['word_clean'], epi), axis=1) # too slow\n",
    "df_val['epitran_pronunciation'].head()"
   ]
  },
  {
   "cell_type": "code",
   "execution_count": 128,
   "metadata": {},
   "outputs": [
    {
     "data": {
      "text/plain": [
       "32572        impoɾtuno\n",
       "62413           viɾɐdo\n",
       "32298    imɛdiɐtɐmɛntɛ\n",
       "38187          mɐleolo\n",
       "26042     ɛʃtɾɛptokoko\n",
       "Name: epitran_pronunciation_clean, dtype: object"
      ]
     },
     "execution_count": 128,
     "metadata": {},
     "output_type": "execute_result"
    }
   ],
   "source": [
    "df_val['epitran_pronunciation_clean'] = df_val['epitran_pronunciation'].apply(lambda v: v.replace('-', ''))\n",
    "df_val['epitran_pronunciation_clean'].head()"
   ]
  },
  {
   "cell_type": "markdown",
   "metadata": {},
   "source": [
    "### Read G2P transcripts"
   ]
  },
  {
   "cell_type": "code",
   "execution_count": 129,
   "metadata": {},
   "outputs": [],
   "source": [
    "import subprocess\n",
    "from phonecodes.src.phonecodes import xsampa2ipa\n",
    "\n",
    "def translate_xsampa(text):\n",
    "    \"\"\"\n",
    "    Transforma XSAMPA para IPA (saída do falabrasil é em XSAMPA)\n",
    "    \"\"\"\n",
    "    return ' '.join('_'.join(xsampa2ipa(char, 'por-BR') for char in word.split('_')) for word in text.split())"
   ]
  },
  {
   "cell_type": "code",
   "execution_count": 130,
   "metadata": {},
   "outputs": [],
   "source": [
    "def clean_espeak_transcript(transcript):\n",
    "    transcript = transcript.strip().replace('ɾ_ə', 'ɾ')\n",
    "    return re.sub('__(a_ɡ_u_d_ʊ|s_i_r_k_ũ_ŋ_f_l_ɛ_k_s_ʊ|ɡ_r_a_v_i|tʃ_iʊ)_', '', transcript).replace('_', '')\n",
    "\n",
    "def remove_whitespaces(transcript):\n",
    "    return translate_xsampa(transcript).replace(' ', '')"
   ]
  },
  {
   "cell_type": "code",
   "execution_count": 131,
   "metadata": {
    "scrolled": true
   },
   "outputs": [
    {
     "data": {
      "text/html": [
       "<div>\n",
       "<style scoped>\n",
       "    .dataframe tbody tr th:only-of-type {\n",
       "        vertical-align: middle;\n",
       "    }\n",
       "\n",
       "    .dataframe tbody tr th {\n",
       "        vertical-align: top;\n",
       "    }\n",
       "\n",
       "    .dataframe thead th {\n",
       "        text-align: right;\n",
       "    }\n",
       "</style>\n",
       "<table border=\"1\" class=\"dataframe\">\n",
       "  <thead>\n",
       "    <tr style=\"text-align: right;\">\n",
       "      <th></th>\n",
       "      <th>word_clean</th>\n",
       "      <th>espeak_pronunciation</th>\n",
       "    </tr>\n",
       "  </thead>\n",
       "  <tbody>\n",
       "    <tr>\n",
       "      <th>0</th>\n",
       "      <td>importuno</td>\n",
       "      <td>i_m_p_o_ɾ_ə_t_u_n_ʊ</td>\n",
       "    </tr>\n",
       "    <tr>\n",
       "      <th>1</th>\n",
       "      <td>virado</td>\n",
       "      <td>v_i_ɾ_a_d_ʊ</td>\n",
       "    </tr>\n",
       "    <tr>\n",
       "      <th>2</th>\n",
       "      <td>imediatamente</td>\n",
       "      <td>i_m_e_dʒ_i__a_t_æ_m_eɪ_ŋ_tʃ_y</td>\n",
       "    </tr>\n",
       "    <tr>\n",
       "      <th>3</th>\n",
       "      <td>maléolo</td>\n",
       "      <td>m_a_l_ɛ_ɔ_l_ʊ</td>\n",
       "    </tr>\n",
       "    <tr>\n",
       "      <th>4</th>\n",
       "      <td>estreptococo</td>\n",
       "      <td>e_s_t_r_e_p_t_o_k_ɔ_k_ʊ</td>\n",
       "    </tr>\n",
       "  </tbody>\n",
       "</table>\n",
       "</div>"
      ],
      "text/plain": [
       "      word_clean            espeak_pronunciation\n",
       "0      importuno             i_m_p_o_ɾ_ə_t_u_n_ʊ\n",
       "1         virado                     v_i_ɾ_a_d_ʊ\n",
       "2  imediatamente   i_m_e_dʒ_i__a_t_æ_m_eɪ_ŋ_tʃ_y\n",
       "3        maléolo                   m_a_l_ɛ_ɔ_l_ʊ\n",
       "4   estreptococo         e_s_t_r_e_p_t_o_k_ɔ_k_ʊ"
      ]
     },
     "execution_count": 131,
     "metadata": {},
     "output_type": "execute_result"
    }
   ],
   "source": [
    "df_espeak = pd.read_csv('pronunciations/pronunciation_sp_val_espeak.csv', header=None)\n",
    "df_espeak.columns = ['word_clean', 'espeak_pronunciation']\n",
    "df_espeak.head()"
   ]
  },
  {
   "cell_type": "code",
   "execution_count": 132,
   "metadata": {},
   "outputs": [
    {
     "data": {
      "text/plain": [
       "0           impoɾtunʊ\n",
       "1              viɾadʊ\n",
       "2    imedʒiatæmeɪŋtʃy\n",
       "3             malɛɔlʊ\n",
       "4        estreptokɔkʊ\n",
       "Name: espeak_pronunciation_clean, dtype: object"
      ]
     },
     "execution_count": 132,
     "metadata": {},
     "output_type": "execute_result"
    }
   ],
   "source": [
    "df_espeak['espeak_pronunciation_clean'] = df_espeak['espeak_pronunciation'].apply(clean_espeak_transcript)\n",
    "df_espeak['espeak_pronunciation_clean'].head()"
   ]
  },
  {
   "cell_type": "code",
   "execution_count": 133,
   "metadata": {
    "scrolled": true
   },
   "outputs": [
    {
     "data": {
      "text/html": [
       "<div>\n",
       "<style scoped>\n",
       "    .dataframe tbody tr th:only-of-type {\n",
       "        vertical-align: middle;\n",
       "    }\n",
       "\n",
       "    .dataframe tbody tr th {\n",
       "        vertical-align: top;\n",
       "    }\n",
       "\n",
       "    .dataframe thead th {\n",
       "        text-align: right;\n",
       "    }\n",
       "</style>\n",
       "<table border=\"1\" class=\"dataframe\">\n",
       "  <thead>\n",
       "    <tr style=\"text-align: right;\">\n",
       "      <th></th>\n",
       "      <th>word_clean</th>\n",
       "      <th>falabrasil_pronunciation</th>\n",
       "    </tr>\n",
       "  </thead>\n",
       "  <tbody>\n",
       "    <tr>\n",
       "      <th>0</th>\n",
       "      <td>importuno</td>\n",
       "      <td>i~  p o X t u~ n u</td>\n",
       "    </tr>\n",
       "    <tr>\n",
       "      <th>1</th>\n",
       "      <td>virado</td>\n",
       "      <td>v i r a d u</td>\n",
       "    </tr>\n",
       "    <tr>\n",
       "      <th>2</th>\n",
       "      <td>imediatamente</td>\n",
       "      <td>i~ m e dZ i a t a m e~  tS i</td>\n",
       "    </tr>\n",
       "    <tr>\n",
       "      <th>3</th>\n",
       "      <td>maléolo</td>\n",
       "      <td>m a l E o l u</td>\n",
       "    </tr>\n",
       "    <tr>\n",
       "      <th>4</th>\n",
       "      <td>estreptococo</td>\n",
       "      <td>e s t r e p t o k o k u</td>\n",
       "    </tr>\n",
       "  </tbody>\n",
       "</table>\n",
       "</div>"
      ],
      "text/plain": [
       "      word_clean      falabrasil_pronunciation\n",
       "0      importuno            i~  p o X t u~ n u\n",
       "1         virado                   v i r a d u\n",
       "2  imediatamente  i~ m e dZ i a t a m e~  tS i\n",
       "3        maléolo                 m a l E o l u\n",
       "4   estreptococo       e s t r e p t o k o k u"
      ]
     },
     "execution_count": 133,
     "metadata": {},
     "output_type": "execute_result"
    }
   ],
   "source": [
    "df_falabrasil = pd.read_csv('pronunciations/pronunciation_sp_val_falabrasil.csv', header=None)\n",
    "df_falabrasil.columns = ['word_clean', 'falabrasil_pronunciation']\n",
    "df_falabrasil.head()"
   ]
  },
  {
   "cell_type": "code",
   "execution_count": 134,
   "metadata": {
    "scrolled": true
   },
   "outputs": [
    {
     "data": {
      "text/plain": [
       "0          ĩpoχtũnu\n",
       "1              viradu\n",
       "2    ĩmedʒiatamẽtʃi\n",
       "3             malɛolu\n",
       "4        estreptokoku\n",
       "Name: falabrasil_pronunciation_clean, dtype: object"
      ]
     },
     "execution_count": 134,
     "metadata": {},
     "output_type": "execute_result"
    }
   ],
   "source": [
    "df_falabrasil['falabrasil_pronunciation_clean'] = df_falabrasil['falabrasil_pronunciation'].apply(remove_whitespaces)\n",
    "df_falabrasil['falabrasil_pronunciation_clean'].head()"
   ]
  },
  {
   "cell_type": "code",
   "execution_count": 135,
   "metadata": {},
   "outputs": [
    {
     "data": {
      "text/html": [
       "<div>\n",
       "<style scoped>\n",
       "    .dataframe tbody tr th:only-of-type {\n",
       "        vertical-align: middle;\n",
       "    }\n",
       "\n",
       "    .dataframe tbody tr th {\n",
       "        vertical-align: top;\n",
       "    }\n",
       "\n",
       "    .dataframe thead th {\n",
       "        text-align: right;\n",
       "    }\n",
       "</style>\n",
       "<table border=\"1\" class=\"dataframe\">\n",
       "  <thead>\n",
       "    <tr style=\"text-align: right;\">\n",
       "      <th></th>\n",
       "      <th>word_clean</th>\n",
       "      <th>phonetisaurus_pronunciation</th>\n",
       "    </tr>\n",
       "  </thead>\n",
       "  <tbody>\n",
       "    <tr>\n",
       "      <th>0</th>\n",
       "      <td>importuno</td>\n",
       "      <td>i m p o ʁ t u n o</td>\n",
       "    </tr>\n",
       "    <tr>\n",
       "      <th>1</th>\n",
       "      <td>virado</td>\n",
       "      <td>v i ʁ a d o</td>\n",
       "    </tr>\n",
       "    <tr>\n",
       "      <th>2</th>\n",
       "      <td>imediatamente</td>\n",
       "      <td>i m e d i a t a m e n t e</td>\n",
       "    </tr>\n",
       "    <tr>\n",
       "      <th>3</th>\n",
       "      <td>maléolo</td>\n",
       "      <td>m a ɫ ɛ o ɫ o</td>\n",
       "    </tr>\n",
       "    <tr>\n",
       "      <th>4</th>\n",
       "      <td>estreptococo</td>\n",
       "      <td>e s t ʁ e p t o k o k o</td>\n",
       "    </tr>\n",
       "  </tbody>\n",
       "</table>\n",
       "</div>"
      ],
      "text/plain": [
       "      word_clean phonetisaurus_pronunciation\n",
       "0      importuno           i m p o ʁ t u n o\n",
       "1         virado                 v i ʁ a d o\n",
       "2  imediatamente   i m e d i a t a m e n t e\n",
       "3        maléolo               m a ɫ ɛ o ɫ o\n",
       "4   estreptococo     e s t ʁ e p t o k o k o"
      ]
     },
     "execution_count": 135,
     "metadata": {},
     "output_type": "execute_result"
    }
   ],
   "source": [
    "df_phonetisaurus = pd.read_csv('pronunciations/pronunciation_sp_val_phonetisaurus.csv', header=None)\n",
    "df_phonetisaurus.columns = ['word_clean', 'phonetisaurus_pronunciation']\n",
    "df_phonetisaurus.head()"
   ]
  },
  {
   "cell_type": "code",
   "execution_count": 136,
   "metadata": {},
   "outputs": [
    {
     "data": {
      "text/plain": [
       "0        impoʁtuno\n",
       "1           viʁado\n",
       "2    imediatamente\n",
       "3          maɫɛoɫo\n",
       "4     estʁeptokoko\n",
       "Name: phonetisaurus_pronunciation_clean, dtype: object"
      ]
     },
     "execution_count": 136,
     "metadata": {},
     "output_type": "execute_result"
    }
   ],
   "source": [
    "df_phonetisaurus['phonetisaurus_pronunciation_clean'] = df_phonetisaurus['phonetisaurus_pronunciation'].\\\n",
    "apply(lambda v: v.replace('ˈ', '')).apply(remove_whitespaces)\n",
    "df_phonetisaurus['phonetisaurus_pronunciation_clean'].head()"
   ]
  },
  {
   "cell_type": "code",
   "execution_count": 137,
   "metadata": {},
   "outputs": [
    {
     "data": {
      "text/html": [
       "<div>\n",
       "<style scoped>\n",
       "    .dataframe tbody tr th:only-of-type {\n",
       "        vertical-align: middle;\n",
       "    }\n",
       "\n",
       "    .dataframe tbody tr th {\n",
       "        vertical-align: top;\n",
       "    }\n",
       "\n",
       "    .dataframe thead th {\n",
       "        text-align: right;\n",
       "    }\n",
       "</style>\n",
       "<table border=\"1\" class=\"dataframe\">\n",
       "  <thead>\n",
       "    <tr style=\"text-align: right;\">\n",
       "      <th></th>\n",
       "      <th>word</th>\n",
       "      <th>category</th>\n",
       "      <th>pronunciation</th>\n",
       "      <th>pronunciation_clean</th>\n",
       "      <th>word_clean</th>\n",
       "      <th>epitran_pronunciation</th>\n",
       "      <th>epitran_pronunciation_clean</th>\n",
       "      <th>espeak_pronunciation</th>\n",
       "      <th>espeak_pronunciation_clean</th>\n",
       "      <th>falabrasil_pronunciation</th>\n",
       "      <th>falabrasil_pronunciation_clean</th>\n",
       "      <th>phonetisaurus_pronunciation</th>\n",
       "      <th>phonetisaurus_pronunciation_clean</th>\n",
       "    </tr>\n",
       "  </thead>\n",
       "  <tbody>\n",
       "    <tr>\n",
       "      <th>0</th>\n",
       "      <td>im·por·tu·no</td>\n",
       "      <td>adjetivo</td>\n",
       "      <td>ĩ.poɾ.tˈu.nʊ</td>\n",
       "      <td>ĩpoɾtunʊ</td>\n",
       "      <td>importuno</td>\n",
       "      <td>impoɾtuno</td>\n",
       "      <td>impoɾtuno</td>\n",
       "      <td>i_m_p_o_ɾ_ə_t_u_n_ʊ</td>\n",
       "      <td>impoɾtunʊ</td>\n",
       "      <td>i~  p o X t u~ n u</td>\n",
       "      <td>ĩpoχtũnu</td>\n",
       "      <td>i m p o ʁ t u n o</td>\n",
       "      <td>impoʁtuno</td>\n",
       "    </tr>\n",
       "    <tr>\n",
       "      <th>1</th>\n",
       "      <td>vi·ra·do</td>\n",
       "      <td>nome masculino</td>\n",
       "      <td>vi.ɾˈa.dʊ</td>\n",
       "      <td>viɾadʊ</td>\n",
       "      <td>virado</td>\n",
       "      <td>viɾɐdo</td>\n",
       "      <td>viɾɐdo</td>\n",
       "      <td>v_i_ɾ_a_d_ʊ</td>\n",
       "      <td>viɾadʊ</td>\n",
       "      <td>v i r a d u</td>\n",
       "      <td>viradu</td>\n",
       "      <td>v i ʁ a d o</td>\n",
       "      <td>viʁado</td>\n",
       "    </tr>\n",
       "    <tr>\n",
       "      <th>2</th>\n",
       "      <td>i·me·di·a·ta·men·te</td>\n",
       "      <td>advérbio</td>\n",
       "      <td>i.me.dʒja.ta.mˈẽj.tʃi</td>\n",
       "      <td>imedʒjatamẽjtʃi</td>\n",
       "      <td>imediatamente</td>\n",
       "      <td>imɛdiɐtɐmɛntɛ</td>\n",
       "      <td>imɛdiɐtɐmɛntɛ</td>\n",
       "      <td>i_m_e_dʒ_i__a_t_æ_m_eɪ_ŋ_tʃ_y</td>\n",
       "      <td>imedʒiatæmeɪŋtʃy</td>\n",
       "      <td>i~ m e dZ i a t a m e~  tS i</td>\n",
       "      <td>ĩmedʒiatamẽtʃi</td>\n",
       "      <td>i m e d i a t a m e n t e</td>\n",
       "      <td>imediatamente</td>\n",
       "    </tr>\n",
       "    <tr>\n",
       "      <th>3</th>\n",
       "      <td>ma·lé·o·lo</td>\n",
       "      <td>nome masculino</td>\n",
       "      <td>ma.lˈɛ.o.lʊ</td>\n",
       "      <td>malɛolʊ</td>\n",
       "      <td>maléolo</td>\n",
       "      <td>mɐleolo</td>\n",
       "      <td>mɐleolo</td>\n",
       "      <td>m_a_l_ɛ_ɔ_l_ʊ</td>\n",
       "      <td>malɛɔlʊ</td>\n",
       "      <td>m a l E o l u</td>\n",
       "      <td>malɛolu</td>\n",
       "      <td>m a ɫ ɛ o ɫ o</td>\n",
       "      <td>maɫɛoɫo</td>\n",
       "    </tr>\n",
       "    <tr>\n",
       "      <th>4</th>\n",
       "      <td>es·trep·to·co·co</td>\n",
       "      <td>nome masculino</td>\n",
       "      <td>is.tɾɛ.pə.to.kˈɔ.kʊ</td>\n",
       "      <td>istɾɛpətokɔkʊ</td>\n",
       "      <td>estreptococo</td>\n",
       "      <td>ɛʃtɾɛptokoko</td>\n",
       "      <td>ɛʃtɾɛptokoko</td>\n",
       "      <td>e_s_t_r_e_p_t_o_k_ɔ_k_ʊ</td>\n",
       "      <td>estreptokɔkʊ</td>\n",
       "      <td>e s t r e p t o k o k u</td>\n",
       "      <td>estreptokoku</td>\n",
       "      <td>e s t ʁ e p t o k o k o</td>\n",
       "      <td>estʁeptokoko</td>\n",
       "    </tr>\n",
       "  </tbody>\n",
       "</table>\n",
       "</div>"
      ],
      "text/plain": [
       "                  word        category           pronunciation  \\\n",
       "0         im·por·tu·no        adjetivo           ĩ.poɾ.tˈu.nʊ   \n",
       "1             vi·ra·do  nome masculino               vi.ɾˈa.dʊ   \n",
       "2  i·me·di·a·ta·men·te        advérbio  i.me.dʒja.ta.mˈẽj.tʃi   \n",
       "3           ma·lé·o·lo  nome masculino             ma.lˈɛ.o.lʊ   \n",
       "4     es·trep·to·co·co  nome masculino     is.tɾɛ.pə.to.kˈɔ.kʊ   \n",
       "\n",
       "  pronunciation_clean     word_clean epitran_pronunciation  \\\n",
       "0           ĩpoɾtunʊ      importuno             impoɾtuno   \n",
       "1              viɾadʊ         virado                viɾɐdo   \n",
       "2    imedʒjatamẽjtʃi  imediatamente         imɛdiɐtɐmɛntɛ   \n",
       "3             malɛolʊ        maléolo               mɐleolo   \n",
       "4       istɾɛpətokɔkʊ   estreptococo          ɛʃtɾɛptokoko   \n",
       "\n",
       "  epitran_pronunciation_clean            espeak_pronunciation  \\\n",
       "0                   impoɾtuno             i_m_p_o_ɾ_ə_t_u_n_ʊ   \n",
       "1                      viɾɐdo                     v_i_ɾ_a_d_ʊ   \n",
       "2               imɛdiɐtɐmɛntɛ   i_m_e_dʒ_i__a_t_æ_m_eɪ_ŋ_tʃ_y   \n",
       "3                     mɐleolo                   m_a_l_ɛ_ɔ_l_ʊ   \n",
       "4                ɛʃtɾɛptokoko         e_s_t_r_e_p_t_o_k_ɔ_k_ʊ   \n",
       "\n",
       "  espeak_pronunciation_clean      falabrasil_pronunciation  \\\n",
       "0                  impoɾtunʊ            i~  p o X t u~ n u   \n",
       "1                     viɾadʊ                   v i r a d u   \n",
       "2           imedʒiatæmeɪŋtʃy  i~ m e dZ i a t a m e~  tS i   \n",
       "3                    malɛɔlʊ                 m a l E o l u   \n",
       "4               estreptokɔkʊ       e s t r e p t o k o k u   \n",
       "\n",
       "  falabrasil_pronunciation_clean phonetisaurus_pronunciation  \\\n",
       "0                     ĩpoχtũnu           i m p o ʁ t u n o   \n",
       "1                         viradu                 v i ʁ a d o   \n",
       "2               ĩmedʒiatamẽtʃi   i m e d i a t a m e n t e   \n",
       "3                        malɛolu               m a ɫ ɛ o ɫ o   \n",
       "4                   estreptokoku     e s t ʁ e p t o k o k o   \n",
       "\n",
       "  phonetisaurus_pronunciation_clean  \n",
       "0                         impoʁtuno  \n",
       "1                            viʁado  \n",
       "2                     imediatamente  \n",
       "3                           maɫɛoɫo  \n",
       "4                      estʁeptokoko  "
      ]
     },
     "execution_count": 137,
     "metadata": {},
     "output_type": "execute_result"
    }
   ],
   "source": [
    "df_val = pd.merge(df_val, df_espeak, left_on='word_clean', right_on='word_clean')\n",
    "df_val = pd.merge(df_val, df_falabrasil, left_on='word_clean', right_on='word_clean')\n",
    "df_val = pd.merge(df_val, df_phonetisaurus, left_on='word_clean', right_on='word_clean')\n",
    "df_val.head()"
   ]
  },
  {
   "cell_type": "markdown",
   "metadata": {},
   "source": [
    "## CER analysis"
   ]
  },
  {
   "cell_type": "code",
   "execution_count": 138,
   "metadata": {
    "scrolled": true
   },
   "outputs": [],
   "source": [
    "from jiwer import cer"
   ]
  },
  {
   "cell_type": "code",
   "execution_count": 139,
   "metadata": {},
   "outputs": [],
   "source": [
    "def get_cer_df(df, ref_col, cols):\n",
    "    d = {}\n",
    "    for col in cols:\n",
    "        d[col] = cer(df[ref_col].tolist(), df[col].tolist())\n",
    "    return d"
   ]
  },
  {
   "cell_type": "code",
   "execution_count": 140,
   "metadata": {},
   "outputs": [],
   "source": [
    "cols = [\n",
    "    'espeak_pronunciation_clean', \n",
    "    'falabrasil_pronunciation_clean', \n",
    "    'epitran_pronunciation_clean', \n",
    "    'phonetisaurus_pronunciation_clean'\n",
    "]\n",
    "\n",
    "cols_with_ref = ['pronunciation_clean'] + cols\n",
    "df_val[cols_with_ref] = df_val[cols_with_ref].applymap(lambda v: PString(v))"
   ]
  },
  {
   "cell_type": "code",
   "execution_count": 141,
   "metadata": {},
   "outputs": [
    {
     "name": "stdout",
     "output_type": "stream",
     "text": [
      "espeak_pronunciation_clean           0.307494\n",
      "falabrasil_pronunciation_clean       0.277775\n",
      "epitran_pronunciation_clean          0.533056\n",
      "phonetisaurus_pronunciation_clean    0.453848\n",
      "dtype: float64\n"
     ]
    }
   ],
   "source": [
    "cer_s = pd.Series(get_cer_df(df_val, 'pronunciation_clean', cols))\n",
    "print(cer_s)"
   ]
  },
  {
   "cell_type": "code",
   "execution_count": 142,
   "metadata": {},
   "outputs": [
    {
     "name": "stdout",
     "output_type": "stream",
     "text": [
      "Number of chars and chars list:\n",
      "espeak: 39 ['i' 'm' 'p' 'o' 'ɾ' 't' 'u' 'n' 'ʊ' 'v' 'a' 'd' 'e' 'dʒ' 'æ' 'ɪ' 'ŋ' 'tʃ'\n",
      " 'y' 'l' 'ɛ' 'ɔ' 's' 'r' 'k' 'x' 'f' 'ɐ̃' 'ʊ̃' 'ɲ' 'ɡ' 'z' 'j' 'ʃ' 'b' 'w'\n",
      " 'ʒ' 'ũ' 'õ']\n",
      "falabrasil: 38 ['ĩ' 'p' 'o' 'χ' 't' 'ũ' 'n' 'u' 'v' 'i' 'r' 'a' 'd' 'm' 'e' 'dʒ' 'ẽ'\n",
      " 'tʃ' 'l' 'ɛ' 's' 'k' 'ʁ' 'f' 'ã' 'w̃' 'ɲ' 'ɔ' 'ɡ' 'z' 'w' 'j' 'ʃ' 'b'\n",
      " 'õ' 'ʒ' 'ʎ' 'j̃']\n",
      "epitran: 40 ['i' 'm' 'p' 'o' 'ɾ' 't' 'u' 'n' 'v' 'ɐ' 'd' 'ɛ' 'l' 'e' 'ʃ' 'k' 'ʁ' 'kʷ'\n",
      " 's' 'a' 'f' 'z' 'ɐ̃' 'w̃' 'ɔ' 'ɡ' 'j' 'w' 'b' 'ʒ' 'lʒ' 'ĩ' 'ɡʷ' 'j́' 'ɛ̃'\n",
      " 'ẽ' 'ũ' 'dʒ' 'ẃ' 'õ']\n",
      "phonetisaurus 34 ['i' 'm' 'p' 'o' 'ʁ' 't' 'u' 'n' 'v' 'a' 'd' 'e' 'ɫ' 'ɛ' 's' 'k' 'f' 'ɐ̃'\n",
      " 'ɲ' 'ɔ' 'ɡ' 'ẽ' 'z' 'ʃ' 'b' 'ʒ' 'ʎ' 'ã' 'õ' 'dʒ' 'õ' 'w' 'ɾ' 'ʀ']\n"
     ]
    }
   ],
   "source": [
    "espeak_list = get_chars_list(df_val['espeak_pronunciation_clean'])\n",
    "falabrasil_list = get_chars_list(df_val['falabrasil_pronunciation_clean'])\n",
    "epitran_list = get_chars_list(df_val['epitran_pronunciation_clean'])\n",
    "phonetisaurus_list = get_chars_list(df_val['phonetisaurus_pronunciation_clean'])\n",
    "\n",
    "print('Number of chars and chars list:')\n",
    "print(f'espeak: {len(espeak_list)} {espeak_list}')\n",
    "print(f'falabrasil: {len(falabrasil_list)} {falabrasil_list}')\n",
    "print(f'epitran: {len(epitran_list)} {epitran_list}')\n",
    "print(f'phonetisaurus {len(phonetisaurus_list)} {phonetisaurus_list}')"
   ]
  },
  {
   "cell_type": "code",
   "execution_count": 143,
   "metadata": {},
   "outputs": [
    {
     "name": "stdout",
     "output_type": "stream",
     "text": [
      "falabrasil (X-SAMPA): 38 ['i~' 'p' 'o' 'X' 't' 'u~' 'n' 'u' 'v' 'i' 'r' 'a' 'd' 'm' 'e' 'dZ' 'e~'\n",
      " 'tS' 'l' 'E' 's' 'k' 'R' 'f' 'a~' 'w~' 'J' 'O' 'g' 'z' 'w' 'j' 'S' 'b'\n",
      " 'o~' 'Z' 'L' 'j~']\n"
     ]
    }
   ],
   "source": [
    "falabrasil_xsampa = get_chars_list(df_falabrasil['falabrasil_pronunciation'].apply(str.split))\n",
    "print('falabrasil (X-SAMPA):', len(falabrasil_xsampa), falabrasil_xsampa)"
   ]
  },
  {
   "cell_type": "code",
   "execution_count": 144,
   "metadata": {},
   "outputs": [
    {
     "name": "stdout",
     "output_type": "stream",
     "text": [
      "reference tokens: 42 ['p', 'b', 't', 'd', 'k', 'ɡ', 'tʃ', 'dʒ', 'f', 'v', 's', 'z', 'ʃ', 'ʒ', 'χ', 'ɣ', 'h', 'ɦ', 'm', 'n', 'ɲ', 'ɾ', 'r', 'ɹ', 'l', 'ʎ', 'lʲ', 'i', 'ĩ', 'ɪ', 'e', 'ẽ', 'ɛ', 'ə', 'ã', 'a', 'ʊ', 'ũ', 'u', 'õ', 'o', 'ɔ']\n",
      "dictionnary tokens: 45 ['a' 'b' 'e' 's' 'p' 'ɾ' 'o' 'ɔ' 'z' 'i' 't' 'ʊ' 'v' 'õ' 'dʒ' 'w' 'x'\n",
      " 'tʃ' 'g' 'd' 'j' 'ə' 'k' 'ə̃' 'ʃ' 'ʒ' 'f' 'm' 'ẽ' 'n' 'u' 'l' 'r' 'ʎ'\n",
      " 'ɛ' 'ɛ̃' 'ɲ' 'ũ' 'ĩ' 'ɨ' 'ɐ̃' 'h' 'ŋ' 'ɫ' 'ɔ̃']\n"
     ]
    }
   ],
   "source": [
    "reference_tokens = ['p', 'b', 't', 'd', 'k', 'ɡ', 'tʃ', 'dʒ', 'f', 'v', 's', 'z', 'ʃ', 'ʒ', \n",
    "                    'χ', 'ɣ', 'h', 'ɦ', 'm', 'n', 'ɲ', 'ɾ', 'r', 'ɹ', 'l', 'ʎ',\n",
    "                   'i', 'ĩ', 'ɪ', 'e', 'ẽ', 'ɛ', 'ə', 'ã', 'a', 'ʊ', 'ũ', 'u', 'õ', 'o', 'ɔ']\n",
    "print(f'reference tokens: {len(reference_tokens)} {reference_tokens}')\n",
    "print(f'dictionnary tokens: {len(tokens)} {tokens}')"
   ]
  },
  {
   "cell_type": "code",
   "execution_count": 145,
   "metadata": {},
   "outputs": [
    {
     "name": "stdout",
     "output_type": "stream",
     "text": [
      "dictionnary tokens not in reference: {'ə̃', 'j', 'ɫ', 'g', 'x', 'ɔ̃', 'ɐ̃', 'ŋ', 'ɨ', 'õ', 'w', 'ɛ̃'}\n",
      "espeak tokens not in reference: {'j', 'y', 'x', 'ʊ̃', 'ɐ̃', 'æ', 'ŋ', 'õ', 'w'}\n",
      "falabrasil tokens not in reference: {'j', 'ʁ', 'ã', 'w̃', 'j̃', 'õ', 'w'}\n",
      "epitran tokens not in reference: {'j', 'ɡʷ', 'ʁ', 'kʷ', 'ẃ', 'w̃', 'j́', 'ĩ', 'ũ', 'ɛ̃', 'ɐ̃', 'ẽ', 'lʒ', 'w', 'ɐ'}\n",
      "phonetisaurus tokens not in reference: {'ʁ', 'ɫ', 'ɐ̃', 'õ', 'ʀ', 'w'}\n"
     ]
    }
   ],
   "source": [
    "print(f'dictionnary tokens not in reference: {set(tokens) - set(reference_tokens)}')\n",
    "print(f'espeak tokens not in reference: {set(espeak_list) - set(reference_tokens)}')\n",
    "print(f'falabrasil tokens not in reference: {set(falabrasil_list) - set(reference_tokens)}')\n",
    "print(f'epitran tokens not in reference: {set(epitran_list) - set(reference_tokens)}')\n",
    "print(f'phonetisaurus tokens not in reference: {set(phonetisaurus_list) - set(reference_tokens)}')"
   ]
  },
  {
   "cell_type": "markdown",
   "metadata": {},
   "source": [
    "### Mapping of phonemes"
   ]
  },
  {
   "cell_type": "code",
   "execution_count": 151,
   "metadata": {},
   "outputs": [],
   "source": [
    "def simplify(c):\n",
    "    d = {\n",
    "        'w': 'ʊ',\n",
    "        'ŋ': 'n',\n",
    "        'j': 'ɪ',\n",
    "        'ɨ': 'i',\n",
    "        'ə̃': 'ã',\n",
    "        'ɐ̃': 'ã',\n",
    "        'ɛ̃': 'ẽ', \n",
    "        'ɔ̃': 'õ',\n",
    "        'x': 'χ',\n",
    "        'g': 'ɡ',\n",
    "        'y': 'i',\n",
    "        'æ': 'a',\n",
    "        'w̃': 'ʊ̃',\n",
    "        'j̃': 'ɪ',\n",
    "        'ʁ': 'χ',\n",
    "        'ã': 'ã',\n",
    "        'ʀ': 'χ',\n",
    "        'õ': 'õ',\n",
    "        'j́': 'ɪ',\n",
    "        'ĩ': 'ĩ',\n",
    "        'ɡʷ': 'ɡ',\n",
    "        'kʷ': 'k',\n",
    "        'ẃ': 'u',\n",
    "        'lʲ': 'ʎ',\n",
    "        'ỹ': 'ɲ',\n",
    "        'ɫ': 'l',\n",
    "    }\n",
    "    try:\n",
    "        return d[c]\n",
    "    except KeyError:\n",
    "        return c"
   ]
  },
  {
   "cell_type": "code",
   "execution_count": 152,
   "metadata": {
    "scrolled": true
   },
   "outputs": [
    {
     "data": {
      "text/html": [
       "<div>\n",
       "<style scoped>\n",
       "    .dataframe tbody tr th:only-of-type {\n",
       "        vertical-align: middle;\n",
       "    }\n",
       "\n",
       "    .dataframe tbody tr th {\n",
       "        vertical-align: top;\n",
       "    }\n",
       "\n",
       "    .dataframe thead th {\n",
       "        text-align: right;\n",
       "    }\n",
       "</style>\n",
       "<table border=\"1\" class=\"dataframe\">\n",
       "  <thead>\n",
       "    <tr style=\"text-align: right;\">\n",
       "      <th></th>\n",
       "      <th>pronunciation_clean</th>\n",
       "      <th>espeak_pronunciation_clean</th>\n",
       "      <th>falabrasil_pronunciation_clean</th>\n",
       "      <th>epitran_pronunciation_clean</th>\n",
       "      <th>phonetisaurus_pronunciation_clean</th>\n",
       "    </tr>\n",
       "  </thead>\n",
       "  <tbody>\n",
       "    <tr>\n",
       "      <th>0</th>\n",
       "      <td>ĩpoɾtunʊ</td>\n",
       "      <td>impoɾtunʊ</td>\n",
       "      <td>ĩpoχtũnu</td>\n",
       "      <td>impoɾtuno</td>\n",
       "      <td>impoχtuno</td>\n",
       "    </tr>\n",
       "    <tr>\n",
       "      <th>1</th>\n",
       "      <td>viɾadʊ</td>\n",
       "      <td>viɾadʊ</td>\n",
       "      <td>viradu</td>\n",
       "      <td>viɾɐdo</td>\n",
       "      <td>viχado</td>\n",
       "    </tr>\n",
       "    <tr>\n",
       "      <th>2</th>\n",
       "      <td>imedʒɪatamẽɪtʃi</td>\n",
       "      <td>imedʒiatameɪntʃi</td>\n",
       "      <td>ĩmedʒiatamẽtʃi</td>\n",
       "      <td>imɛdiɐtɐmɛntɛ</td>\n",
       "      <td>imediatamente</td>\n",
       "    </tr>\n",
       "    <tr>\n",
       "      <th>3</th>\n",
       "      <td>malɛolʊ</td>\n",
       "      <td>malɛɔlʊ</td>\n",
       "      <td>malɛolu</td>\n",
       "      <td>mɐleolo</td>\n",
       "      <td>malɛolo</td>\n",
       "    </tr>\n",
       "    <tr>\n",
       "      <th>4</th>\n",
       "      <td>istɾɛpətokɔkʊ</td>\n",
       "      <td>estreptokɔkʊ</td>\n",
       "      <td>estreptokoku</td>\n",
       "      <td>ɛʃtɾɛptokoko</td>\n",
       "      <td>estχeptokoko</td>\n",
       "    </tr>\n",
       "  </tbody>\n",
       "</table>\n",
       "</div>"
      ],
      "text/plain": [
       "  pronunciation_clean espeak_pronunciation_clean  \\\n",
       "0           ĩpoɾtunʊ                  impoɾtunʊ   \n",
       "1              viɾadʊ                     viɾadʊ   \n",
       "2    imedʒɪatamẽɪtʃi           imedʒiatameɪntʃi   \n",
       "3             malɛolʊ                    malɛɔlʊ   \n",
       "4       istɾɛpətokɔkʊ               estreptokɔkʊ   \n",
       "\n",
       "  falabrasil_pronunciation_clean epitran_pronunciation_clean  \\\n",
       "0                     ĩpoχtũnu                   impoɾtuno   \n",
       "1                         viradu                      viɾɐdo   \n",
       "2               ĩmedʒiatamẽtʃi               imɛdiɐtɐmɛntɛ   \n",
       "3                        malɛolu                     mɐleolo   \n",
       "4                   estreptokoku                ɛʃtɾɛptokoko   \n",
       "\n",
       "  phonetisaurus_pronunciation_clean  \n",
       "0                         impoχtuno  \n",
       "1                            viχado  \n",
       "2                     imediatamente  \n",
       "3                           malɛolo  \n",
       "4                      estχeptokoko  "
      ]
     },
     "execution_count": 152,
     "metadata": {},
     "output_type": "execute_result"
    }
   ],
   "source": [
    "df_val[cols_with_ref] = df_val[cols_with_ref].applymap(lambda v: ''.join(list(map(simplify, v))))\n",
    "df_val[cols_with_ref].head()"
   ]
  },
  {
   "cell_type": "code",
   "execution_count": 153,
   "metadata": {},
   "outputs": [
    {
     "name": "stdout",
     "output_type": "stream",
     "text": [
      "espeak_pronunciation_clean           0.196089\n",
      "falabrasil_pronunciation_clean       0.223812\n",
      "epitran_pronunciation_clean          0.471154\n",
      "phonetisaurus_pronunciation_clean    0.358374\n",
      "dtype: float64\n"
     ]
    }
   ],
   "source": [
    "new_cer_s = pd.Series(get_cer_df(df_val, 'pronunciation_clean', cols))\n",
    "print(new_cer_s)"
   ]
  },
  {
   "cell_type": "markdown",
   "metadata": {},
   "source": [
    "### Pattern substitution"
   ]
  },
  {
   "cell_type": "code",
   "execution_count": 36,
   "metadata": {},
   "outputs": [],
   "source": [
    "import re\n",
    "\n",
    "def replace_im_with_i_nasal(text):\n",
    "    def replace(match):\n",
    "        return \"ĩ\" + match.group(1)\n",
    "\n",
    "    pattern = r'im([pbtdkɡtʃdʒfvszʃʒχɣhɦmnɲỹɾrɹlɫʎlʲ])'\n",
    "    result = re.sub(pattern, replace, text)\n",
    "    return result\n",
    "\n",
    "def replace_ein_with_ei(text):\n",
    "    def replace(match):\n",
    "        return \"ẽɪ\" + match.group(1)\n",
    "\n",
    "    pattern = r'eɪn([pbtdkɡtʃdʒfvszʃʒχɣhɦmnɲỹɾrɹlɫʎlʲ])'\n",
    "    result = re.sub(pattern, replace, text)\n",
    "    return result\n",
    "\n",
    "def replace_ein_with_en(text):\n",
    "    def replace(match):\n",
    "        return \"en\"\n",
    "\n",
    "    pattern = r'eɪn$'\n",
    "    result = re.sub(pattern, replace, text)\n",
    "    return result\n",
    "\n",
    "def replace_e_nasal_with_ei(text):\n",
    "    def replace(match):\n",
    "        return \"ẽɪ\"\n",
    "\n",
    "    pattern = r'ẽ(?=[pbtdkɡtʃdʒfvszʃʒχɣhɦmɾrɹlɫʎlʲ])'\n",
    "    result = re.sub(pattern, replace, text)\n",
    "    return result\n",
    "\n",
    "def translate(transcript):\n",
    "    transcript = replace_im_with_i_nasal(transcript)\n",
    "    transcript = replace_ein_with_ei(transcript)\n",
    "    transcript = replace_ein_with_en(transcript)\n",
    "    transcript = replace_e_nasal_with_ei(transcript)\n",
    "    return transcript"
   ]
  },
  {
   "cell_type": "code",
   "execution_count": 37,
   "metadata": {
    "scrolled": true
   },
   "outputs": [
    {
     "data": {
      "text/html": [
       "<div>\n",
       "<style scoped>\n",
       "    .dataframe tbody tr th:only-of-type {\n",
       "        vertical-align: middle;\n",
       "    }\n",
       "\n",
       "    .dataframe tbody tr th {\n",
       "        vertical-align: top;\n",
       "    }\n",
       "\n",
       "    .dataframe thead th {\n",
       "        text-align: right;\n",
       "    }\n",
       "</style>\n",
       "<table border=\"1\" class=\"dataframe\">\n",
       "  <thead>\n",
       "    <tr style=\"text-align: right;\">\n",
       "      <th></th>\n",
       "      <th>pronunciation_clean</th>\n",
       "      <th>espeak_pronunciation_clean</th>\n",
       "      <th>falabrasil_pronunciation_clean</th>\n",
       "      <th>epitran_pronunciation_clean</th>\n",
       "      <th>phonetisaurus_pronunciation_clean</th>\n",
       "    </tr>\n",
       "  </thead>\n",
       "  <tbody>\n",
       "    <tr>\n",
       "      <th>0</th>\n",
       "      <td>ĩpoɾtunʊ</td>\n",
       "      <td>ĩpoɾtunʊ</td>\n",
       "      <td>ĩpoχtũnu</td>\n",
       "      <td>ĩpoɾtuno</td>\n",
       "      <td>ĩpoχtuno</td>\n",
       "    </tr>\n",
       "    <tr>\n",
       "      <th>1</th>\n",
       "      <td>viɾadʊ</td>\n",
       "      <td>viɾadʊ</td>\n",
       "      <td>viradu</td>\n",
       "      <td>viɾɐdo</td>\n",
       "      <td>viχado</td>\n",
       "    </tr>\n",
       "    <tr>\n",
       "      <th>2</th>\n",
       "      <td>imedʒɪatamẽɪtʃi</td>\n",
       "      <td>imedʒiatamẽɪtʃi</td>\n",
       "      <td>ĩmedʒiatamẽɪtʃi</td>\n",
       "      <td>imɛdiɐtɐmɛntɛ</td>\n",
       "      <td>imediatamente</td>\n",
       "    </tr>\n",
       "    <tr>\n",
       "      <th>3</th>\n",
       "      <td>malɛolʊ</td>\n",
       "      <td>malɛɔlʊ</td>\n",
       "      <td>malɛolu</td>\n",
       "      <td>mɐleolo</td>\n",
       "      <td>maɫɛoɫo</td>\n",
       "    </tr>\n",
       "    <tr>\n",
       "      <th>4</th>\n",
       "      <td>istɾɛpətokɔkʊ</td>\n",
       "      <td>estreptokɔkʊ</td>\n",
       "      <td>estreptokoku</td>\n",
       "      <td>ɛʃtɾɛptokoko</td>\n",
       "      <td>estχeptokoko</td>\n",
       "    </tr>\n",
       "  </tbody>\n",
       "</table>\n",
       "</div>"
      ],
      "text/plain": [
       "  pronunciation_clean espeak_pronunciation_clean  \\\n",
       "0           ĩpoɾtunʊ                  ĩpoɾtunʊ   \n",
       "1              viɾadʊ                     viɾadʊ   \n",
       "2    imedʒɪatamẽɪtʃi           imedʒiatamẽɪtʃi   \n",
       "3             malɛolʊ                    malɛɔlʊ   \n",
       "4       istɾɛpətokɔkʊ               estreptokɔkʊ   \n",
       "\n",
       "  falabrasil_pronunciation_clean epitran_pronunciation_clean  \\\n",
       "0                     ĩpoχtũnu                   ĩpoɾtuno   \n",
       "1                         viradu                      viɾɐdo   \n",
       "2              ĩmedʒiatamẽɪtʃi               imɛdiɐtɐmɛntɛ   \n",
       "3                        malɛolu                     mɐleolo   \n",
       "4                   estreptokoku                ɛʃtɾɛptokoko   \n",
       "\n",
       "  phonetisaurus_pronunciation_clean  \n",
       "0                         ĩpoχtuno  \n",
       "1                            viχado  \n",
       "2                     imediatamente  \n",
       "3                           maɫɛoɫo  \n",
       "4                      estχeptokoko  "
      ]
     },
     "execution_count": 37,
     "metadata": {},
     "output_type": "execute_result"
    }
   ],
   "source": [
    "df_val[cols] = df_val[cols].applymap(lambda v: translate(v))\n",
    "df_val[cols_with_ref].head()"
   ]
  },
  {
   "cell_type": "code",
   "execution_count": 38,
   "metadata": {},
   "outputs": [
    {
     "name": "stdout",
     "output_type": "stream",
     "text": [
      "espeak_pronunciation_clean           0.167298\n",
      "falabrasil_pronunciation_clean       0.222144\n",
      "epitran_pronunciation_clean          0.467830\n",
      "phonetisaurus_pronunciation_clean    0.385282\n",
      "dtype: float64\n"
     ]
    }
   ],
   "source": [
    "new_cer_s = pd.Series(get_cer_df(df_val, 'pronunciation_clean', cols))\n",
    "print(new_cer_s)"
   ]
  },
  {
   "cell_type": "markdown",
   "metadata": {},
   "source": [
    "## Standardizing"
   ]
  },
  {
   "cell_type": "code",
   "execution_count": 104,
   "metadata": {},
   "outputs": [
    {
     "name": "stdout",
     "output_type": "stream",
     "text": [
      "falabrasil_pronunciation_cleaned_1    0.237357\n",
      "dtype: float64\n"
     ]
    }
   ],
   "source": [
    "df_val['pronunciation_cleaned_standard'] = df_val['pronunciation_cleaned'].apply(\n",
    "    lambda v: v.replace('ə̃', 'ã').replace('ə', 'a').replace('ʊ', 'u')\\\n",
    "    .replace('x', 'ʁ').replace('iɲ', 'ĩ').replace('ẽj', 'ẽ')\n",
    ")\n",
    "df_val['pronunciation_cleaned_standard'] = df_val['pronunciation_cleaned_standard'].apply(lambda v: re.sub(r'(.)\\1+', r'\\1', v))\n",
    "df_val['pronunciation_cleaned_standard'] = df_val.apply(lambda row: re.sub('iz', 'ez', row['pronunciation_cleaned_standard']) if re.search('ex[eé]', row['word_cleaned']) else row['pronunciation_cleaned_standard'], axis=1)\n",
    "df_val['pronunciation_cleaned_standard'] = df_val.apply(lambda row: re.sub('[ʁɾ]*$', 'ʁ', row['pronunciation_cleaned_standard']) if re.search('[aeiou]r$', row['word_cleaned']) else row['pronunciation_cleaned_standard'], axis=1)\n",
    "\n",
    "df_val['pronunciation_cleaned_standard'] = df_val['pronunciation_cleaned_standard'].apply(lambda v: re.sub('ɾ$', 'ʁ', v))\n",
    "df_val['pronunciation_cleaned_standard'] = df_val['pronunciation_cleaned_standard'].apply(lambda v: re.sub('ɾ([ptnvdmlskxfɲgzʃbʒʎhɫŋ])', r'ʁ\\1', v))\n",
    "\n",
    "df_val.loc[3024, 'pronunciation_cleaned_standard'] = 'mikrovowtʃ' # corrige pronuncia de microvolt\n",
    "cer_standard_falabrasil = pd.Series(get_cer(df_val, 'pronunciation_cleaned_standard', \n",
    "                           ['falabrasil_pronunciation_cleaned_1']\n",
    "                        )\n",
    "                    )\n",
    "print(cer_standard_falabrasil)"
   ]
  },
  {
   "cell_type": "code",
   "execution_count": 105,
   "metadata": {},
   "outputs": [],
   "source": [
    "df['pronunciation_cleaned_standard'] = df['pronunciation_cleaned'].apply(\n",
    "    lambda v: v.replace('ə̃', 'ã').replace('ə', 'a').replace('ʊ', 'u')\\\n",
    "    .replace('x', 'ʁ').replace('iɲ', 'ĩ').replace('ẽj', 'ẽ')\n",
    ")\n",
    "df['pronunciation_cleaned_standard'] = df.apply(lambda row: re.sub('iz', 'ez', row['pronunciation_cleaned_standard']) if re.search('ex[eé]', row['word_cleaned']) else row['pronunciation_cleaned_standard'], axis=1)\n",
    "df['pronunciation_cleaned_standard'] = df.apply(lambda row: re.sub('[ʁɾ]*$', 'ʁ', row['pronunciation_cleaned_standard']) if re.search('[aeiou]r$', row['word_cleaned']) else row['pronunciation_cleaned_standard'], axis=1)\n",
    "\n",
    "df['pronunciation_cleaned_standard'] = df['pronunciation_cleaned_standard'].apply(lambda v: re.sub('ɾ$', 'ʁ', v))\n",
    "df['pronunciation_cleaned_standard'] = df['pronunciation_cleaned_standard'].apply(lambda v: re.sub('ɾ([ptnvdmlskxfɲgzʃbʒʎhɫŋ])', r'ʁ\\1', v))"
   ]
  },
  {
   "cell_type": "code",
   "execution_count": 62,
   "metadata": {},
   "outputs": [],
   "source": [
    "standard_df_cer = df_val.apply(lambda row: [cer(row['pronunciation_cleaned_standard'], row[col]) \\\n",
    "                                   for col in cols_1\n",
    "                                  ], \n",
    "                      axis=1, result_type='expand')\n",
    "standard_df_cer.columns = cols_1"
   ]
  },
  {
   "cell_type": "code",
   "execution_count": 63,
   "metadata": {},
   "outputs": [
    {
     "data": {
      "text/html": [
       "<div>\n",
       "<style scoped>\n",
       "    .dataframe tbody tr th:only-of-type {\n",
       "        vertical-align: middle;\n",
       "    }\n",
       "\n",
       "    .dataframe tbody tr th {\n",
       "        vertical-align: top;\n",
       "    }\n",
       "\n",
       "    .dataframe thead th {\n",
       "        text-align: right;\n",
       "    }\n",
       "</style>\n",
       "<table border=\"1\" class=\"dataframe\">\n",
       "  <thead>\n",
       "    <tr style=\"text-align: right;\">\n",
       "      <th></th>\n",
       "      <th>word_cleaned</th>\n",
       "      <th>pronunciation_cleaned_standard</th>\n",
       "      <th>falabrasil_pronunciation_cleaned_1</th>\n",
       "    </tr>\n",
       "  </thead>\n",
       "  <tbody>\n",
       "    <tr>\n",
       "      <th>116</th>\n",
       "      <td>empertigar</td>\n",
       "      <td>ĩpeɾtʃigaʁ</td>\n",
       "      <td>ẽpeʁtʃiɡaʁ</td>\n",
       "    </tr>\n",
       "    <tr>\n",
       "      <th>530</th>\n",
       "      <td>timor</td>\n",
       "      <td>tʃimoʁʁ</td>\n",
       "      <td>tʃĩmoʁ</td>\n",
       "    </tr>\n",
       "    <tr>\n",
       "      <th>714</th>\n",
       "      <td>outrem</td>\n",
       "      <td>otɾeɲ</td>\n",
       "      <td>owtɾẽj̃</td>\n",
       "    </tr>\n",
       "    <tr>\n",
       "      <th>858</th>\n",
       "      <td>indiciar</td>\n",
       "      <td>ĩdʒisjaʁ</td>\n",
       "      <td>ĩdʒisiaʁ</td>\n",
       "    </tr>\n",
       "    <tr>\n",
       "      <th>1624</th>\n",
       "      <td>xingar</td>\n",
       "      <td>ʃĩɲgaʁ</td>\n",
       "      <td>ʃĩɡaʁ</td>\n",
       "    </tr>\n",
       "    <tr>\n",
       "      <th>1649</th>\n",
       "      <td>langor</td>\n",
       "      <td>lãgoʁʁ</td>\n",
       "      <td>lãɡoʁ</td>\n",
       "    </tr>\n",
       "    <tr>\n",
       "      <th>1917</th>\n",
       "      <td>amnistiar</td>\n",
       "      <td>aministʃjaʁ</td>\n",
       "      <td>ãnistʃiaʁ</td>\n",
       "    </tr>\n",
       "    <tr>\n",
       "      <th>2008</th>\n",
       "      <td>reação</td>\n",
       "      <td>ʁiasãw</td>\n",
       "      <td>ʁeasãw̃</td>\n",
       "    </tr>\n",
       "    <tr>\n",
       "      <th>2171</th>\n",
       "      <td>hexano</td>\n",
       "      <td>egazanu</td>\n",
       "      <td>ɛkzãnu</td>\n",
       "    </tr>\n",
       "    <tr>\n",
       "      <th>2280</th>\n",
       "      <td>saxónio</td>\n",
       "      <td>sakasɔnju</td>\n",
       "      <td>saʃõniu</td>\n",
       "    </tr>\n",
       "    <tr>\n",
       "      <th>3003</th>\n",
       "      <td>condimentar</td>\n",
       "      <td>kõdʒimẽtaʁ</td>\n",
       "      <td>kõdʒĩmẽtaʁ</td>\n",
       "    </tr>\n",
       "    <tr>\n",
       "      <th>3286</th>\n",
       "      <td>radiouvinte</td>\n",
       "      <td>ʁadʒiovĩtʃi</td>\n",
       "      <td>ʁadʒiowvĩtʃi</td>\n",
       "    </tr>\n",
       "    <tr>\n",
       "      <th>3303</th>\n",
       "      <td>mentir</td>\n",
       "      <td>mẽtʃiʁ</td>\n",
       "      <td>mẽtʃiʁ</td>\n",
       "    </tr>\n",
       "    <tr>\n",
       "      <th>3410</th>\n",
       "      <td>glam</td>\n",
       "      <td>glam</td>\n",
       "      <td>ɡlãw̃</td>\n",
       "    </tr>\n",
       "    <tr>\n",
       "      <th>3639</th>\n",
       "      <td>enrugar</td>\n",
       "      <td>ĩhugaʁ</td>\n",
       "      <td>ẽɾuɡaʁ</td>\n",
       "    </tr>\n",
       "    <tr>\n",
       "      <th>4042</th>\n",
       "      <td>desmentir</td>\n",
       "      <td>dʒizmẽtʃiʁ</td>\n",
       "      <td>dezmẽtʃiʁ</td>\n",
       "    </tr>\n",
       "    <tr>\n",
       "      <th>4338</th>\n",
       "      <td>ardina</td>\n",
       "      <td>aɾdʒina</td>\n",
       "      <td>aʁdʒĩna</td>\n",
       "    </tr>\n",
       "    <tr>\n",
       "      <th>4864</th>\n",
       "      <td>gás</td>\n",
       "      <td>gas</td>\n",
       "      <td>ɡajs</td>\n",
       "    </tr>\n",
       "    <tr>\n",
       "      <th>4906</th>\n",
       "      <td>hambúrguer</td>\n",
       "      <td>ãbuɾgeʁʁ</td>\n",
       "      <td>ãbuʁɡeʁ</td>\n",
       "    </tr>\n",
       "    <tr>\n",
       "      <th>4968</th>\n",
       "      <td>alguém</td>\n",
       "      <td>awgeɲ</td>\n",
       "      <td>awɡẽj̃</td>\n",
       "    </tr>\n",
       "    <tr>\n",
       "      <th>5040</th>\n",
       "      <td>luandense</td>\n",
       "      <td>lwãdẽsi</td>\n",
       "      <td>luãdẽsi</td>\n",
       "    </tr>\n",
       "  </tbody>\n",
       "</table>\n",
       "</div>"
      ],
      "text/plain": [
       "     word_cleaned pronunciation_cleaned_standard  \\\n",
       "116    empertigar                    ĩpeɾtʃigaʁ   \n",
       "530         timor                        tʃimoʁʁ   \n",
       "714        outrem                          otɾeɲ   \n",
       "858      indiciar                      ĩdʒisjaʁ   \n",
       "1624       xingar                        ʃĩɲgaʁ   \n",
       "1649       langor                        lãgoʁʁ   \n",
       "1917    amnistiar                    aministʃjaʁ   \n",
       "2008       reação                        ʁiasãw   \n",
       "2171       hexano                        egazanu   \n",
       "2280      saxónio                      sakasɔnju   \n",
       "3003  condimentar                   kõdʒimẽtaʁ   \n",
       "3286  radiouvinte                   ʁadʒiovĩtʃi   \n",
       "3303       mentir                        mẽtʃiʁ   \n",
       "3410         glam                           glam   \n",
       "3639      enrugar                        ĩhugaʁ   \n",
       "4042    desmentir                    dʒizmẽtʃiʁ   \n",
       "4338       ardina                        aɾdʒina   \n",
       "4864          gás                            gas   \n",
       "4906   hambúrguer                      ãbuɾgeʁʁ   \n",
       "4968       alguém                          awgeɲ   \n",
       "5040    luandense                      lwãdẽsi   \n",
       "\n",
       "     falabrasil_pronunciation_cleaned_1  \n",
       "116                         ẽpeʁtʃiɡaʁ  \n",
       "530                             tʃĩmoʁ  \n",
       "714                            owtɾẽj̃  \n",
       "858                           ĩdʒisiaʁ  \n",
       "1624                             ʃĩɡaʁ  \n",
       "1649                             lãɡoʁ  \n",
       "1917                         ãnistʃiaʁ  \n",
       "2008                           ʁeasãw̃  \n",
       "2171                            ɛkzãnu  \n",
       "2280                           saʃõniu  \n",
       "3003                      kõdʒĩmẽtaʁ  \n",
       "3286                      ʁadʒiowvĩtʃi  \n",
       "3303                            mẽtʃiʁ  \n",
       "3410                             ɡlãw̃  \n",
       "3639                            ẽɾuɡaʁ  \n",
       "4042                         dezmẽtʃiʁ  \n",
       "4338                           aʁdʒĩna  \n",
       "4864                               ɡajs  \n",
       "4906                           ãbuʁɡeʁ  \n",
       "4968                            awɡẽj̃  \n",
       "5040                          luãdẽsi  "
      ]
     },
     "execution_count": 63,
     "metadata": {},
     "output_type": "execute_result"
    }
   ],
   "source": [
    "highest_error = standard_df_cer[standard_df_cer['falabrasil_pronunciation_cleaned_1'] > 0.5].index\n",
    "df_val.loc[highest_error, ['word_cleaned', 'pronunciation_cleaned_standard', 'falabrasil_pronunciation_cleaned_1']]"
   ]
  },
  {
   "cell_type": "code",
   "execution_count": 70,
   "metadata": {},
   "outputs": [
    {
     "data": {
      "image/png": "[encoded data removed]",
      "text/plain": [
       "<Figure size 640x480 with 1 Axes>"
      ]
     },
     "metadata": {},
     "output_type": "display_data"
    }
   ],
   "source": [
    "sns.histplot(standard_df_cer['falabrasil_pronunciation_cleaned_1'])\n",
    "plt.title('Histograma do PER')\n",
    "plt.show()"
   ]
  },
  {
   "cell_type": "code",
   "execution_count": null,
   "metadata": {},
   "outputs": [],
   "source": []
  }
 ],
 "metadata": {
  "kernelspec": {
   "display_name": "Python 3 (ipykernel)",
   "language": "python",
   "name": "python3"
  },
  "language_info": {
   "codemirror_mode": {
    "name": "ipython",
    "version": 3
   },
   "file_extension": ".py",
   "mimetype": "text/x-python",
   "name": "python",
   "nbconvert_exporter": "python",
   "pygments_lexer": "ipython3",
   "version": "3.11.4"
  }
 },
 "nbformat": 4,
 "nbformat_minor": 4
}
