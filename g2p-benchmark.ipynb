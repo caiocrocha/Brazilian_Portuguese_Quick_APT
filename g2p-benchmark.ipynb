{
 "cells": [
  {
   "cell_type": "markdown",
   "metadata": {},
   "source": [
    "## Load dataset"
   ]
  },
  {
   "cell_type": "code",
   "execution_count": 1,
   "metadata": {
    "tags": []
   },
   "outputs": [],
   "source": [
    "import pandas as pd\n",
    "import re\n",
    "from PString import PString"
   ]
  },
  {
   "cell_type": "code",
   "execution_count": 2,
   "metadata": {
    "tags": []
   },
   "outputs": [
    {
     "data": {
      "text/html": [
       "<div>\n",
       "<style scoped>\n",
       "    .dataframe tbody tr th:only-of-type {\n",
       "        vertical-align: middle;\n",
       "    }\n",
       "\n",
       "    .dataframe tbody tr th {\n",
       "        vertical-align: top;\n",
       "    }\n",
       "\n",
       "    .dataframe thead th {\n",
       "        text-align: right;\n",
       "    }\n",
       "</style>\n",
       "<table border=\"1\" class=\"dataframe\">\n",
       "  <thead>\n",
       "    <tr style=\"text-align: right;\">\n",
       "      <th></th>\n",
       "      <th>word</th>\n",
       "      <th>category</th>\n",
       "      <th>pronunciation</th>\n",
       "    </tr>\n",
       "  </thead>\n",
       "  <tbody>\n",
       "    <tr>\n",
       "      <th>0</th>\n",
       "      <td>a</td>\n",
       "      <td>artigo</td>\n",
       "      <td>a</td>\n",
       "    </tr>\n",
       "    <tr>\n",
       "      <th>1</th>\n",
       "      <td>a</td>\n",
       "      <td>preposição</td>\n",
       "      <td>a</td>\n",
       "    </tr>\n",
       "    <tr>\n",
       "      <th>2</th>\n",
       "      <td>á-bê-cê</td>\n",
       "      <td>nome masculino</td>\n",
       "      <td>ˌa.bˌe.sˈe</td>\n",
       "    </tr>\n",
       "    <tr>\n",
       "      <th>3</th>\n",
       "      <td>a-pro·pó·si·to</td>\n",
       "      <td>nome masculino</td>\n",
       "      <td>a.pɾo.pˈɔ.zi.tʊ</td>\n",
       "    </tr>\n",
       "    <tr>\n",
       "      <th>4</th>\n",
       "      <td>à-von·ta·de</td>\n",
       "      <td>nome masculino</td>\n",
       "      <td>ˌa.võ.tˈa.dʒi</td>\n",
       "    </tr>\n",
       "  </tbody>\n",
       "</table>\n",
       "</div>"
      ],
      "text/plain": [
       "             word        category    pronunciation\n",
       "0               a          artigo                a\n",
       "1               a      preposição                a\n",
       "2         á-bê-cê  nome masculino       ˌa.bˌe.sˈe\n",
       "3  a-pro·pó·si·to  nome masculino  a.pɾo.pˈɔ.zi.tʊ\n",
       "4     à-von·ta·de  nome masculino   ˌa.võ.tˈa.dʒi"
      ]
     },
     "execution_count": 2,
     "metadata": {},
     "output_type": "execute_result"
    }
   ],
   "source": [
    "df = pd.read_csv('data/pronunciation_sp.csv')\n",
    "df.head()"
   ]
  },
  {
   "cell_type": "code",
   "execution_count": 3,
   "metadata": {
    "tags": []
   },
   "outputs": [
    {
     "data": {
      "text/plain": [
       "(53397, 3)"
      ]
     },
     "execution_count": 3,
     "metadata": {},
     "output_type": "execute_result"
    }
   ],
   "source": [
    "df.dropna(inplace=True, subset=['word', 'pronunciation'])\n",
    "df.drop_duplicates(inplace=True, subset=['word'])\n",
    "df.shape"
   ]
  },
  {
   "cell_type": "code",
   "execution_count": 4,
   "metadata": {},
   "outputs": [],
   "source": [
    "df['pronunciation'] = df['pronunciation'].apply(lambda v: v.split('$')[0].strip() if '$' in v else v.strip())"
   ]
  },
  {
   "cell_type": "markdown",
   "metadata": {},
   "source": [
    "## Clean dataset\n",
    "\n",
    "When manipulating the dataset, some inconsistencies were detected. These are addressed below."
   ]
  },
  {
   "cell_type": "code",
   "execution_count": 5,
   "metadata": {},
   "outputs": [
    {
     "name": "stdout",
     "output_type": "stream",
     "text": [
      "(686, 3)\n"
     ]
    },
    {
     "data": {
      "text/html": [
       "<div>\n",
       "<style scoped>\n",
       "    .dataframe tbody tr th:only-of-type {\n",
       "        vertical-align: middle;\n",
       "    }\n",
       "\n",
       "    .dataframe tbody tr th {\n",
       "        vertical-align: top;\n",
       "    }\n",
       "\n",
       "    .dataframe thead th {\n",
       "        text-align: right;\n",
       "    }\n",
       "</style>\n",
       "<table border=\"1\" class=\"dataframe\">\n",
       "  <thead>\n",
       "    <tr style=\"text-align: right;\">\n",
       "      <th></th>\n",
       "      <th>word</th>\n",
       "      <th>category</th>\n",
       "      <th>pronunciation</th>\n",
       "    </tr>\n",
       "  </thead>\n",
       "  <tbody>\n",
       "    <tr>\n",
       "      <th>204</th>\n",
       "      <td>a·be·ta</td>\n",
       "      <td>nome feminino</td>\n",
       "      <td>a.bˈe.tə ou a.bˈɛ.tə</td>\n",
       "    </tr>\n",
       "    <tr>\n",
       "      <th>209</th>\n",
       "      <td>a·bi·be</td>\n",
       "      <td>nome masculino</td>\n",
       "      <td>a.bˈi.bi ou a.bˈi.bi</td>\n",
       "    </tr>\n",
       "    <tr>\n",
       "      <th>401</th>\n",
       "      <td>ab·sen·tis·ta</td>\n",
       "      <td>nome masculino</td>\n",
       "      <td>a.bi.sẽ.tʃˈis.tə ou a.bi.sẽ.tʃˈis.tə</td>\n",
       "    </tr>\n",
       "    <tr>\n",
       "      <th>447</th>\n",
       "      <td>abs·tra·ção</td>\n",
       "      <td>nome feminino</td>\n",
       "      <td>abs.tɾa.sˈə̃w ou abs.tɾa.sˈə̃w</td>\n",
       "    </tr>\n",
       "    <tr>\n",
       "      <th>457</th>\n",
       "      <td>abs·tra·to</td>\n",
       "      <td>adjetivo</td>\n",
       "      <td>abs.tɾˈa.tʊ ou abs.tɾˈa.tʊ</td>\n",
       "    </tr>\n",
       "  </tbody>\n",
       "</table>\n",
       "</div>"
      ],
      "text/plain": [
       "              word        category                           pronunciation\n",
       "204        a·be·ta   nome feminino                    a.bˈe.tə ou a.bˈɛ.tə\n",
       "209        a·bi·be  nome masculino                    a.bˈi.bi ou a.bˈi.bi\n",
       "401  ab·sen·tis·ta  nome masculino  a.bi.sẽ.tʃˈis.tə ou a.bi.sẽ.tʃˈis.tə\n",
       "447    abs·tra·ção   nome feminino          abs.tɾa.sˈə̃w ou abs.tɾa.sˈə̃w\n",
       "457     abs·tra·to        adjetivo              abs.tɾˈa.tʊ ou abs.tɾˈa.tʊ"
      ]
     },
     "execution_count": 5,
     "metadata": {},
     "output_type": "execute_result"
    }
   ],
   "source": [
    "# double pronunciations (\"ou\" == \"or\" in English)\n",
    "idx = df.loc[df['pronunciation'].str.contains(' ou')].index\n",
    "print(df.loc[idx].shape)\n",
    "df.loc[idx].head()"
   ]
  },
  {
   "cell_type": "code",
   "execution_count": 6,
   "metadata": {},
   "outputs": [],
   "source": [
    "# keep only first pronunciation\n",
    "df.loc[idx, 'pronunciation'] = df.loc[idx, 'pronunciation'].apply(lambda v: v.split('ou')[0].strip())"
   ]
  },
  {
   "cell_type": "code",
   "execution_count": 7,
   "metadata": {},
   "outputs": [
    {
     "name": "stdout",
     "output_type": "stream",
     "text": [
      "(26, 3)\n"
     ]
    },
    {
     "data": {
      "text/html": [
       "<div>\n",
       "<style scoped>\n",
       "    .dataframe tbody tr th:only-of-type {\n",
       "        vertical-align: middle;\n",
       "    }\n",
       "\n",
       "    .dataframe tbody tr th {\n",
       "        vertical-align: top;\n",
       "    }\n",
       "\n",
       "    .dataframe thead th {\n",
       "        text-align: right;\n",
       "    }\n",
       "</style>\n",
       "<table border=\"1\" class=\"dataframe\">\n",
       "  <thead>\n",
       "    <tr style=\"text-align: right;\">\n",
       "      <th></th>\n",
       "      <th>word</th>\n",
       "      <th>category</th>\n",
       "      <th>pronunciation</th>\n",
       "    </tr>\n",
       "  </thead>\n",
       "  <tbody>\n",
       "    <tr>\n",
       "      <th>7310</th>\n",
       "      <td>ba·by-sit·ter</td>\n",
       "      <td>nome masculino</td>\n",
       "      <td>ou</td>\n",
       "    </tr>\n",
       "    <tr>\n",
       "      <th>12390</th>\n",
       "      <td>chauf·feur</td>\n",
       "      <td>nome masculino</td>\n",
       "      <td>ou</td>\n",
       "    </tr>\n",
       "    <tr>\n",
       "      <th>15835</th>\n",
       "      <td>cor·don-bleu</td>\n",
       "      <td>nome masculino</td>\n",
       "      <td>ou</td>\n",
       "    </tr>\n",
       "    <tr>\n",
       "      <th>19794</th>\n",
       "      <td>de·sig·ner</td>\n",
       "      <td>nome masculino</td>\n",
       "      <td>ou</td>\n",
       "    </tr>\n",
       "    <tr>\n",
       "      <th>28998</th>\n",
       "      <td>free·lan·ce</td>\n",
       "      <td>nome masculino</td>\n",
       "      <td>ou</td>\n",
       "    </tr>\n",
       "  </tbody>\n",
       "</table>\n",
       "</div>"
      ],
      "text/plain": [
       "                word        category pronunciation\n",
       "7310   ba·by-sit·ter  nome masculino            ou\n",
       "12390     chauf·feur  nome masculino            ou\n",
       "15835   cor·don-bleu  nome masculino            ou\n",
       "19794     de·sig·ner  nome masculino            ou\n",
       "28998    free·lan·ce  nome masculino            ou"
      ]
     },
     "execution_count": 7,
     "metadata": {},
     "output_type": "execute_result"
    }
   ],
   "source": [
    "# some words don't have a valid transcription\n",
    "# instead their pronunciation appears as \"ou\"\n",
    "# which is incorrect\n",
    "idx = df.loc[df['pronunciation'].str.contains('ou')].index.tolist()\n",
    "print(df.loc[idx].shape)\n",
    "df.loc[idx].head()"
   ]
  },
  {
   "cell_type": "code",
   "execution_count": 8,
   "metadata": {},
   "outputs": [],
   "source": [
    "# remove these invalid words\n",
    "df = df.loc[~df.index.isin(idx)]"
   ]
  },
  {
   "cell_type": "code",
   "execution_count": 9,
   "metadata": {},
   "outputs": [
    {
     "name": "stdout",
     "output_type": "stream",
     "text": [
      "                word       category          pronunciation\n",
      "18754  des·co·la·gem  nome feminino  dʒis.ko.lˈa.ʒẽjʌ̃j_m\n",
      "\n",
      "                word        category pronunciation\n",
      "39932  mi·cro·fa·rad  nome masculino       mi.kɾo.\n",
      "\n",
      "              word        category pronunciation\n",
      "40017  mi·cro·volt  nome masculino       mi.kɾo.\n",
      "\n",
      "            word        category pronunciation\n",
      "44141  pa·no-cru  nome masculino   pˌə.nʊ.crˈu\n",
      "\n",
      "                word        category   pronunciation\n",
      "16085  cor·ta-u·nhas  nome masculino  kˌɔɾ.tə.fˈo.gʊ\n",
      "59627        tra·ção  nome masculino       se.lˈɛ.tʊ\n"
     ]
    }
   ],
   "source": [
    "# fix pronunciations\n",
    "idx = df.query('word == \"des·co·la·gem\"').index\n",
    "print(df.loc[idx]) # wrong suffix\n",
    "df.at[idx[0], 'pronunciation'] = 'dʒis.ko.lˈa.ʒẽj' \n",
    "\n",
    "print()\n",
    "idx = df.query('word == \"mi·cro·fa·rad\"').index\n",
    "print(df.loc[idx]) # missing suffix\n",
    "df.at[idx[0], 'pronunciation'] = 'mi.kɾo.fˈa.ɾad'\n",
    "\n",
    "print()\n",
    "idx = df.query('word == \"mi·cro·volt\"').index\n",
    "print(df.loc[idx]) # missing suffix\n",
    "df.at[idx[0], 'pronunciation'] = 'mi.kɾo.vˈoʊtʃ'\n",
    "\n",
    "print()\n",
    "idx = df.query('word == \"pa·no-cru\"').index\n",
    "print(df.loc[idx]) # wrong phoneme (/c/ instead of /k/)\n",
    "df.at[idx[0], 'pronunciation'] = 'pˌə.nʊ.krˈu'\n",
    "\n",
    "# these two words have pronunciations that correspond to completely different words\n",
    "idx_1 = df.query('word == \"cor·ta-u·nhas\"').index.tolist()\n",
    "idx_2 = df.query('word == \"tra·ção\"').index.tolist()\n",
    "idx = idx_1 + idx_2\n",
    "print()\n",
    "print(df.loc[idx])\n",
    "\n",
    "# remove these invalid words\n",
    "df = df.loc[~df.index.isin(idx)]"
   ]
  },
  {
   "cell_type": "markdown",
   "metadata": {},
   "source": [
    "## Preprocess dataset"
   ]
  },
  {
   "cell_type": "code",
   "execution_count": 10,
   "metadata": {},
   "outputs": [
    {
     "data": {
      "text/html": [
       "<div>\n",
       "<style scoped>\n",
       "    .dataframe tbody tr th:only-of-type {\n",
       "        vertical-align: middle;\n",
       "    }\n",
       "\n",
       "    .dataframe tbody tr th {\n",
       "        vertical-align: top;\n",
       "    }\n",
       "\n",
       "    .dataframe thead th {\n",
       "        text-align: right;\n",
       "    }\n",
       "</style>\n",
       "<table border=\"1\" class=\"dataframe\">\n",
       "  <thead>\n",
       "    <tr style=\"text-align: right;\">\n",
       "      <th></th>\n",
       "      <th>word</th>\n",
       "      <th>category</th>\n",
       "      <th>pronunciation</th>\n",
       "      <th>pronunciation_clean</th>\n",
       "      <th>word_clean</th>\n",
       "    </tr>\n",
       "  </thead>\n",
       "  <tbody>\n",
       "    <tr>\n",
       "      <th>0</th>\n",
       "      <td>a</td>\n",
       "      <td>artigo</td>\n",
       "      <td>a</td>\n",
       "      <td>a</td>\n",
       "      <td>a</td>\n",
       "    </tr>\n",
       "    <tr>\n",
       "      <th>2</th>\n",
       "      <td>á-bê-cê</td>\n",
       "      <td>nome masculino</td>\n",
       "      <td>ˌa.bˌe.sˈe</td>\n",
       "      <td>abese</td>\n",
       "      <td>á-bê-cê</td>\n",
       "    </tr>\n",
       "    <tr>\n",
       "      <th>3</th>\n",
       "      <td>a-pro·pó·si·to</td>\n",
       "      <td>nome masculino</td>\n",
       "      <td>a.pɾo.pˈɔ.zi.tʊ</td>\n",
       "      <td>apɾopɔzitʊ</td>\n",
       "      <td>a-propósito</td>\n",
       "    </tr>\n",
       "    <tr>\n",
       "      <th>4</th>\n",
       "      <td>à-von·ta·de</td>\n",
       "      <td>nome masculino</td>\n",
       "      <td>ˌa.võ.tˈa.dʒi</td>\n",
       "      <td>avõtadʒi</td>\n",
       "      <td>à-vontade</td>\n",
       "    </tr>\n",
       "    <tr>\n",
       "      <th>5</th>\n",
       "      <td>a·a</td>\n",
       "      <td>nome feminino</td>\n",
       "      <td>a.ˈa</td>\n",
       "      <td>aa</td>\n",
       "      <td>aa</td>\n",
       "    </tr>\n",
       "  </tbody>\n",
       "</table>\n",
       "</div>"
      ],
      "text/plain": [
       "             word        category    pronunciation pronunciation_clean  \\\n",
       "0               a          artigo                a                   a   \n",
       "2         á-bê-cê  nome masculino       ˌa.bˌe.sˈe               abese   \n",
       "3  a-pro·pó·si·to  nome masculino  a.pɾo.pˈɔ.zi.tʊ          apɾopɔzitʊ   \n",
       "4     à-von·ta·de  nome masculino   ˌa.võ.tˈa.dʒi           avõtadʒi   \n",
       "5             a·a   nome feminino             a.ˈa                  aa   \n",
       "\n",
       "    word_clean  \n",
       "0            a  \n",
       "2      á-bê-cê  \n",
       "3  a-propósito  \n",
       "4    à-vontade  \n",
       "5           aa  "
      ]
     },
     "execution_count": 10,
     "metadata": {},
     "output_type": "execute_result"
    }
   ],
   "source": [
    "df['pronunciation_clean'] = df['pronunciation'].apply(lambda v: PString(re.sub('[ ˌ.ˈ_\\-]', '', v)))\n",
    "df['word_clean'] = df['word'].apply(lambda v: re.sub('[ˌ·ˈ\\'_]', '', v).replace(' ', '-').lower())\n",
    "df.head()"
   ]
  },
  {
   "cell_type": "code",
   "execution_count": 11,
   "metadata": {},
   "outputs": [],
   "source": [
    "def get_chars_list(series):\n",
    "    return series.apply(list).apply(pd.Series).stack().unique()"
   ]
  },
  {
   "cell_type": "code",
   "execution_count": 12,
   "metadata": {},
   "outputs": [
    {
     "name": "stdout",
     "output_type": "stream",
     "text": [
      "Tokens: ['a' 'b' 'e' 's' 'p' 'ɾ' 'o' 'ɔ' 'z' 'i' 't' 'ʊ' 'v' 'õ' 'dʒ' 'w' 'x'\n",
      " 'tʃ' 'g' 'd' 'j' 'ə' 'k' 'ə̃' 'ʃ' 'ʒ' 'f' 'm' 'ẽ' 'n' 'u' 'l' 'r' 'ʎ'\n",
      " 'ɛ' 'ɛ̃' 'ɲ' 'ũ' 'ĩ' 'ɨ' 'ɐ̃' 'h' 'ŋ' 'ɫ' 'ɔ̃']\n",
      "Number of tokens: 45\n",
      "Chars: ['a' 'á' '-' 'b' 'ê' 'c' 'p' 'r' 'o' 'ó' 's' 'i' 't' 'à' 'v' 'n' 'd' 'e'\n",
      " 'l' 'g' 'x' 'j' 'f' 'm' 'u' 'ç' 'ã' 'z' 'h' 'q' 'ô' 'é' 'í' 'ú' 'â' 'y'\n",
      " 'õ' 'w' 'k']\n",
      "Number of chars: 39\n"
     ]
    }
   ],
   "source": [
    "tokens = get_chars_list(df['pronunciation_clean'])\n",
    "print(f'Tokens: {tokens}')\n",
    "print(f'Number of tokens: {len(tokens)}')\n",
    "\n",
    "chars = get_chars_list(df['word_clean'])\n",
    "print(f'Chars: {chars}')\n",
    "print(f'Number of chars: {len(chars)}')"
   ]
  },
  {
   "cell_type": "code",
   "execution_count": 13,
   "metadata": {},
   "outputs": [],
   "source": [
    "df[['word_clean','pronunciation_clean']].to_csv('data/pronunciation_sp_clean.csv', index=False)\n",
    "df['word_clean'].to_csv('data/pronunciation_sp_clean.txt', index=False, header=False)"
   ]
  },
  {
   "cell_type": "code",
   "execution_count": 14,
   "metadata": {
    "tags": []
   },
   "outputs": [
    {
     "name": "stdout",
     "output_type": "stream",
     "text": [
      "(5337, 5)\n"
     ]
    }
   ],
   "source": [
    "# select random sample of 10% of the words\n",
    "df = df.sample(frac=0.1, random_state=82)\n",
    "print(df.shape)\n",
    "df['word_clean'].to_csv('data/pronunciation_sp_val.txt', index=False, header=False)"
   ]
  },
  {
   "cell_type": "markdown",
   "metadata": {},
   "source": [
    "## G2P"
   ]
  },
  {
   "cell_type": "markdown",
   "metadata": {},
   "source": [
    "### Epitran G2P"
   ]
  },
  {
   "cell_type": "code",
   "execution_count": 15,
   "metadata": {},
   "outputs": [
    {
     "name": "stdout",
     "output_type": "stream",
     "text": [
      "INFO: Pandarallel will run on 4 workers.\n",
      "INFO: Pandarallel will use Memory file system to transfer data between the main process and workers.\n"
     ]
    }
   ],
   "source": [
    "from pandarallel import pandarallel\n",
    "import epitran\n",
    "\n",
    "pandarallel.initialize(progress_bar=False)\n",
    "\n",
    "def epitran_g2p(text, epi):\n",
    "    \"\"\"\n",
    "    Roda e pré-processa g2p do epitran para uma frase\n",
    "    \"\"\"\n",
    "    return epi.transliterate(u'{}'.format(text))\n",
    "\n",
    "epi = epitran.Epitran('por-Latn')"
   ]
  },
  {
   "cell_type": "code",
   "execution_count": 16,
   "metadata": {},
   "outputs": [
    {
     "data": {
      "text/plain": [
       "37553            lukɐʃ\n",
       "12373           kɐɾuto\n",
       "39936    mikʁofilmɐʒɛ̃\n",
       "51608          ʁɛʒɛjto\n",
       "43076       olɛɐʒinozo\n",
       "Name: epitran_pronunciation, dtype: object"
      ]
     },
     "execution_count": 16,
     "metadata": {},
     "output_type": "execute_result"
    }
   ],
   "source": [
    "df['epitran_pronunciation'] = df.parallel_apply(lambda row: epitran_g2p(row['word_clean'], epi), axis=1) # too slow\n",
    "df['epitran_pronunciation'].head()"
   ]
  },
  {
   "cell_type": "code",
   "execution_count": 17,
   "metadata": {},
   "outputs": [],
   "source": [
    "df['epitran_pronunciation_clean'] = df['epitran_pronunciation'].apply(lambda v: v.replace('-', ''))"
   ]
  },
  {
   "cell_type": "markdown",
   "metadata": {},
   "source": [
    "### Read G2P transcriptions"
   ]
  },
  {
   "cell_type": "code",
   "execution_count": 18,
   "metadata": {},
   "outputs": [],
   "source": [
    "import subprocess\n",
    "from phonecodes.src.phonecodes import xsampa2ipa\n",
    "\n",
    "def translate_xsampa(text):\n",
    "    \"\"\"\n",
    "    Transforma XSAMPA para IPA (saída do falabrasil é em XSAMPA)\n",
    "    \"\"\"\n",
    "    return ' '.join('_'.join(xsampa2ipa(char, 'por-BR') for char in word.split('_')) for word in text.split())"
   ]
  },
  {
   "cell_type": "code",
   "execution_count": 19,
   "metadata": {},
   "outputs": [],
   "source": [
    "def clean_espeak_transcript(transcript):\n",
    "    transcript = transcript.strip().replace('ɾ_ə', 'ɾ')\n",
    "    return re.sub('__(a_ɡ_u_d_ʊ|s_i_r_k_ũ_ŋ_f_l_ɛ_k_s_ʊ|ɡ_r_a_v_i|tʃ_iʊ)_', '', transcript).replace('_', '')\n",
    "\n",
    "def remove_whitespaces(transcript):\n",
    "    return translate_xsampa(transcript).replace(' ', '')"
   ]
  },
  {
   "cell_type": "code",
   "execution_count": 20,
   "metadata": {
    "scrolled": true
   },
   "outputs": [
    {
     "data": {
      "text/html": [
       "<div>\n",
       "<style scoped>\n",
       "    .dataframe tbody tr th:only-of-type {\n",
       "        vertical-align: middle;\n",
       "    }\n",
       "\n",
       "    .dataframe tbody tr th {\n",
       "        vertical-align: top;\n",
       "    }\n",
       "\n",
       "    .dataframe thead th {\n",
       "        text-align: right;\n",
       "    }\n",
       "</style>\n",
       "<table border=\"1\" class=\"dataframe\">\n",
       "  <thead>\n",
       "    <tr style=\"text-align: right;\">\n",
       "      <th></th>\n",
       "      <th>word_clean</th>\n",
       "      <th>espeak_pronunciation</th>\n",
       "      <th>espeak_pronunciation_clean</th>\n",
       "    </tr>\n",
       "  </thead>\n",
       "  <tbody>\n",
       "    <tr>\n",
       "      <th>0</th>\n",
       "      <td>lucas</td>\n",
       "      <td>l_u_k_æ_s</td>\n",
       "      <td>lukæs</td>\n",
       "    </tr>\n",
       "    <tr>\n",
       "      <th>1</th>\n",
       "      <td>charuto</td>\n",
       "      <td>ʃ_a_ɾ_u_t_ʊ</td>\n",
       "      <td>ʃaɾutʊ</td>\n",
       "    </tr>\n",
       "    <tr>\n",
       "      <th>2</th>\n",
       "      <td>microfilmagem</td>\n",
       "      <td>m_i_k_r_o_f_iʊ_m_a_ʒ_eɪ_ŋ</td>\n",
       "      <td>mikrofiʊmaʒeɪŋ</td>\n",
       "    </tr>\n",
       "    <tr>\n",
       "      <th>3</th>\n",
       "      <td>rejeito</td>\n",
       "      <td>x_e_ʒ_eɪ_t_ʊ</td>\n",
       "      <td>xeʒeɪtʊ</td>\n",
       "    </tr>\n",
       "    <tr>\n",
       "      <th>4</th>\n",
       "      <td>oleaginoso</td>\n",
       "      <td>o_l_e_a_ʒ_i_n_o_z_ʊ</td>\n",
       "      <td>oleaʒinozʊ</td>\n",
       "    </tr>\n",
       "  </tbody>\n",
       "</table>\n",
       "</div>"
      ],
      "text/plain": [
       "      word_clean        espeak_pronunciation espeak_pronunciation_clean\n",
       "0          lucas                   l_u_k_æ_s                      lukæs\n",
       "1        charuto                 ʃ_a_ɾ_u_t_ʊ                     ʃaɾutʊ\n",
       "2  microfilmagem   m_i_k_r_o_f_iʊ_m_a_ʒ_eɪ_ŋ             mikrofiʊmaʒeɪŋ\n",
       "3        rejeito                x_e_ʒ_eɪ_t_ʊ                    xeʒeɪtʊ\n",
       "4     oleaginoso         o_l_e_a_ʒ_i_n_o_z_ʊ                 oleaʒinozʊ"
      ]
     },
     "execution_count": 20,
     "metadata": {},
     "output_type": "execute_result"
    }
   ],
   "source": [
    "df_espeak = pd.read_csv('data/pronunciation_sp_val_espeak.csv', header=None)\n",
    "df_espeak.columns = ['word_clean', 'espeak_pronunciation']\n",
    "df_espeak['espeak_pronunciation_clean'] = df_espeak['espeak_pronunciation'].apply(clean_espeak_transcript)\n",
    "\n",
    "df_espeak.head()"
   ]
  },
  {
   "cell_type": "code",
   "execution_count": 21,
   "metadata": {
    "scrolled": true
   },
   "outputs": [
    {
     "data": {
      "text/html": [
       "<div>\n",
       "<style scoped>\n",
       "    .dataframe tbody tr th:only-of-type {\n",
       "        vertical-align: middle;\n",
       "    }\n",
       "\n",
       "    .dataframe tbody tr th {\n",
       "        vertical-align: top;\n",
       "    }\n",
       "\n",
       "    .dataframe thead th {\n",
       "        text-align: right;\n",
       "    }\n",
       "</style>\n",
       "<table border=\"1\" class=\"dataframe\">\n",
       "  <thead>\n",
       "    <tr style=\"text-align: right;\">\n",
       "      <th></th>\n",
       "      <th>word_clean</th>\n",
       "      <th>falabrasil_pronunciation</th>\n",
       "      <th>falabrasil_pronunciation_clean</th>\n",
       "    </tr>\n",
       "  </thead>\n",
       "  <tbody>\n",
       "    <tr>\n",
       "      <th>0</th>\n",
       "      <td>lucas</td>\n",
       "      <td>l u k a s</td>\n",
       "      <td>lukas</td>\n",
       "    </tr>\n",
       "    <tr>\n",
       "      <th>1</th>\n",
       "      <td>charuto</td>\n",
       "      <td>S  a r u t u</td>\n",
       "      <td>ʃarutu</td>\n",
       "    </tr>\n",
       "    <tr>\n",
       "      <th>2</th>\n",
       "      <td>microfilmagem</td>\n",
       "      <td>m i k r o f i w m a Z e~ j~</td>\n",
       "      <td>mikrofiwmaʒẽj̃</td>\n",
       "    </tr>\n",
       "    <tr>\n",
       "      <th>3</th>\n",
       "      <td>rejeito</td>\n",
       "      <td>R e Z e j  t u</td>\n",
       "      <td>ʁeʒejtu</td>\n",
       "    </tr>\n",
       "    <tr>\n",
       "      <th>4</th>\n",
       "      <td>oleaginoso</td>\n",
       "      <td>o l e a Z i~ n o z u</td>\n",
       "      <td>oleaʒĩnozu</td>\n",
       "    </tr>\n",
       "  </tbody>\n",
       "</table>\n",
       "</div>"
      ],
      "text/plain": [
       "      word_clean     falabrasil_pronunciation falabrasil_pronunciation_clean\n",
       "0          lucas                    l u k a s                          lukas\n",
       "1        charuto                 S  a r u t u                         ʃarutu\n",
       "2  microfilmagem  m i k r o f i w m a Z e~ j~                mikrofiwmaʒẽj̃\n",
       "3        rejeito               R e Z e j  t u                        ʁeʒejtu\n",
       "4     oleaginoso         o l e a Z i~ n o z u                    oleaʒĩnozu"
      ]
     },
     "execution_count": 21,
     "metadata": {},
     "output_type": "execute_result"
    }
   ],
   "source": [
    "df_falabrasil = pd.read_csv('data/pronunciation_sp_val_falabrasil.csv', header=None)\n",
    "df_falabrasil.columns = ['word_clean', 'falabrasil_pronunciation']\n",
    "df_falabrasil['falabrasil_pronunciation_clean'] = df_falabrasil['falabrasil_pronunciation'].apply(remove_whitespaces)\n",
    "\n",
    "df_falabrasil.head()"
   ]
  },
  {
   "cell_type": "code",
   "execution_count": 22,
   "metadata": {},
   "outputs": [
    {
     "data": {
      "text/html": [
       "<div>\n",
       "<style scoped>\n",
       "    .dataframe tbody tr th:only-of-type {\n",
       "        vertical-align: middle;\n",
       "    }\n",
       "\n",
       "    .dataframe tbody tr th {\n",
       "        vertical-align: top;\n",
       "    }\n",
       "\n",
       "    .dataframe thead th {\n",
       "        text-align: right;\n",
       "    }\n",
       "</style>\n",
       "<table border=\"1\" class=\"dataframe\">\n",
       "  <thead>\n",
       "    <tr style=\"text-align: right;\">\n",
       "      <th></th>\n",
       "      <th>word_clean</th>\n",
       "      <th>phonetisaurus_pronunciation</th>\n",
       "      <th>phonetisaurus_pronunciation_clean</th>\n",
       "    </tr>\n",
       "  </thead>\n",
       "  <tbody>\n",
       "    <tr>\n",
       "      <th>0</th>\n",
       "      <td>lucas</td>\n",
       "      <td>ɫ u k a s</td>\n",
       "      <td>ɫukas</td>\n",
       "    </tr>\n",
       "    <tr>\n",
       "      <th>1</th>\n",
       "      <td>charuto</td>\n",
       "      <td>ʃ a ʁ u t o</td>\n",
       "      <td>ʃaʁuto</td>\n",
       "    </tr>\n",
       "    <tr>\n",
       "      <th>2</th>\n",
       "      <td>microfilmagem</td>\n",
       "      <td>m i k ʁ o f i ɫ m a g e m</td>\n",
       "      <td>mikʁofiɫmaɡem</td>\n",
       "    </tr>\n",
       "    <tr>\n",
       "      <th>3</th>\n",
       "      <td>rejeito</td>\n",
       "      <td>ʁ e ʒ e i t o</td>\n",
       "      <td>ʁeʒeito</td>\n",
       "    </tr>\n",
       "    <tr>\n",
       "      <th>4</th>\n",
       "      <td>oleaginoso</td>\n",
       "      <td>o ɫ e a g i n o s o</td>\n",
       "      <td>oɫeaɡinoso</td>\n",
       "    </tr>\n",
       "  </tbody>\n",
       "</table>\n",
       "</div>"
      ],
      "text/plain": [
       "      word_clean phonetisaurus_pronunciation phonetisaurus_pronunciation_clean\n",
       "0          lucas                   ɫ u k a s                             ɫukas\n",
       "1        charuto                 ʃ a ʁ u t o                            ʃaʁuto\n",
       "2  microfilmagem   m i k ʁ o f i ɫ m a g e m                     mikʁofiɫmaɡem\n",
       "3        rejeito               ʁ e ʒ e i t o                           ʁeʒeito\n",
       "4     oleaginoso         o ɫ e a g i n o s o                        oɫeaɡinoso"
      ]
     },
     "execution_count": 22,
     "metadata": {},
     "output_type": "execute_result"
    }
   ],
   "source": [
    "df_phonetisaurus = pd.read_csv('data/pronunciation_sp_val_phonetisaurus.csv', header=None)\n",
    "df_phonetisaurus.columns = ['word_clean', 'phonetisaurus_pronunciation']\n",
    "df_phonetisaurus['phonetisaurus_pronunciation_clean'] = df_phonetisaurus[ \\\n",
    "'phonetisaurus_pronunciation'].apply(lambda v: v.replace('ˈ', '')).apply(remove_whitespaces)\n",
    "\n",
    "df_phonetisaurus.head()"
   ]
  },
  {
   "cell_type": "code",
   "execution_count": 23,
   "metadata": {},
   "outputs": [],
   "source": [
    "df = pd.merge(df, df_espeak, left_on='word_clean', right_on='word_clean')\n",
    "df = pd.merge(df, df_falabrasil, left_on='word_clean', right_on='word_clean')\n",
    "df = pd.merge(df, df_phonetisaurus, left_on='word_clean', right_on='word_clean')"
   ]
  },
  {
   "cell_type": "markdown",
   "metadata": {},
   "source": [
    "## CER analysis"
   ]
  },
  {
   "cell_type": "code",
   "execution_count": 24,
   "metadata": {
    "scrolled": true
   },
   "outputs": [],
   "source": [
    "from jiwer import cer"
   ]
  },
  {
   "cell_type": "code",
   "execution_count": 25,
   "metadata": {},
   "outputs": [],
   "source": [
    "def get_cer_df(df, ref_col, cols):\n",
    "    d = {}\n",
    "    for col in cols:\n",
    "        d[col] = cer(df[ref_col].tolist(), df[col].tolist())\n",
    "    return d"
   ]
  },
  {
   "cell_type": "code",
   "execution_count": 26,
   "metadata": {},
   "outputs": [],
   "source": [
    "cols = [\n",
    "    'espeak_pronunciation_clean', \n",
    "    'falabrasil_pronunciation_clean', \n",
    "    'epitran_pronunciation_clean', \n",
    "    'phonetisaurus_pronunciation_clean'\n",
    "]\n",
    "\n",
    "cols_with_ref = ['pronunciation_clean'] + cols\n",
    "df[cols_with_ref] = df[cols_with_ref].applymap(lambda v: PString(v))"
   ]
  },
  {
   "cell_type": "code",
   "execution_count": 27,
   "metadata": {},
   "outputs": [
    {
     "name": "stdout",
     "output_type": "stream",
     "text": [
      "espeak_pronunciation_clean           0.298216\n",
      "falabrasil_pronunciation_clean       0.265493\n",
      "epitran_pronunciation_clean          0.523652\n",
      "phonetisaurus_pronunciation_clean    0.444099\n",
      "dtype: float64\n"
     ]
    }
   ],
   "source": [
    "cer_s = pd.Series(get_cer_df(df, 'pronunciation_clean', cols))\n",
    "print(cer_s)"
   ]
  },
  {
   "cell_type": "code",
   "execution_count": 28,
   "metadata": {},
   "outputs": [
    {
     "name": "stdout",
     "output_type": "stream",
     "text": [
      "Number of chars and chars list:\n",
      "espeak: 38 ['l' 'u' 'k' 'æ' 's' 'ʃ' 'a' 'ɾ' 't' 'ʊ' 'm' 'i' 'r' 'o' 'f' 'ʒ' 'e' 'ɪ'\n",
      " 'ŋ' 'x' 'n' 'z' 'v' 'ɐ̃' 'ʊ̃' 'b' 'ɛ' 'd' 'dʒ' 'y' 'w' 'j' 'p' 'ɔ' 'ɡ'\n",
      " 'tʃ' 'ũ' 'ɲ']\n",
      "falabrasil: 38 ['l' 'u' 'k' 'a' 's' 'ʃ' 'r' 't' 'm' 'i' 'o' 'f' 'w' 'ʒ' 'ẽ' 'j̃' 'ʁ' 'e'\n",
      " 'j' 'ĩ' 'n' 'z' 'v' 'ã' 'w̃' 'ɛ' 'b' 'χ' 'd' 'dʒ' 'p' 'ɔ' 'ɡ' 'õ' 'tʃ'\n",
      " 'ũ' 'ɲ' 'ʎ']\n",
      "epitran: 41 ['l' 'u' 'k' 'ɐ' 'ʃ' 'ɾ' 't' 'o' 'm' 'i' 'ʁ' 'f' 'ʒ' 'ɛ̃' 'ɛ' 'j' 'n' 'z'\n",
      " 'v' 's' 'ɐ̃' 'w̃' 'b' 'e' 'd' 'kʷ' 'a' 'p' 'ɔ' 'ɡ' 'j́' 'ĩ' 'w' 'ɡʷ' 'ũ'\n",
      " 'õ' 'j̃' 'dʒ' 'ẽ' 'ẃ' 'lʒ']\n",
      "phonetisaurus 33 ['ɫ' 'u' 'k' 'a' 's' 'ʃ' 'ʁ' 't' 'o' 'm' 'i' 'f' 'ɡ' 'e' 'ʒ' 'n' 'v' 'ɐ̃'\n",
      " 'b' 'ɛ' 'd' 'p' 'ɔ' 'z' 'ɲ' 'ẽ' 'ã' 'ʎ' 'õ' 'ʀ' 'ɾ' 'dʒ' 'w']\n"
     ]
    }
   ],
   "source": [
    "espeak_list = get_chars_list(df['espeak_pronunciation_clean'])\n",
    "falabrasil_list = get_chars_list(df['falabrasil_pronunciation_clean'])\n",
    "epitran_list = get_chars_list(df['epitran_pronunciation_clean'])\n",
    "phonetisaurus_list = get_chars_list(df['phonetisaurus_pronunciation_clean'])\n",
    "\n",
    "print('Number of chars and chars list:')\n",
    "print(f'espeak: {len(espeak_list)} {espeak_list}')\n",
    "print(f'falabrasil: {len(falabrasil_list)} {falabrasil_list}')\n",
    "print(f'epitran: {len(epitran_list)} {epitran_list}')\n",
    "print(f'phonetisaurus {len(phonetisaurus_list)} {phonetisaurus_list}')"
   ]
  },
  {
   "cell_type": "code",
   "execution_count": 29,
   "metadata": {},
   "outputs": [
    {
     "name": "stdout",
     "output_type": "stream",
     "text": [
      "falabrasil (X-SAMPA): 38 ['l' 'u' 'k' 'a' 's' 'S' 'r' 't' 'm' 'i' 'o' 'f' 'w' 'Z' 'e~' 'j~' 'R' 'e'\n",
      " 'j' 'i~' 'n' 'z' 'v' 'a~' 'w~' 'E' 'b' 'X' 'd' 'dZ' 'p' 'O' 'g' 'o~' 'tS'\n",
      " 'u~' 'J' 'L']\n"
     ]
    }
   ],
   "source": [
    "falabrasil_xsampa = get_chars_list(df_falabrasil['falabrasil_pronunciation'].apply(str.split))\n",
    "print('falabrasil (X-SAMPA):', len(falabrasil_xsampa), falabrasil_xsampa)"
   ]
  },
  {
   "cell_type": "code",
   "execution_count": 30,
   "metadata": {},
   "outputs": [
    {
     "name": "stdout",
     "output_type": "stream",
     "text": [
      "reference tokens: 41 ['p', 'b', 't', 'd', 'k', 'ɡ', 'tʃ', 'dʒ', 'f', 'v', 's', 'z', 'ʃ', 'ʒ', 'χ', 'ɣ', 'h', 'ɦ', 'm', 'n', 'ɲ', 'ɾ', 'r', 'ɹ', 'l', 'ʎ', 'i', 'ĩ', 'ɪ', 'e', 'ẽ', 'ɛ', 'ə', 'ã', 'a', 'ʊ', 'ũ', 'u', 'õ', 'o', 'ɔ']\n",
      "dictionnary tokens: 45 ['a' 'b' 'e' 's' 'p' 'ɾ' 'o' 'ɔ' 'z' 'i' 't' 'ʊ' 'v' 'õ' 'dʒ' 'w' 'x'\n",
      " 'tʃ' 'g' 'd' 'j' 'ə' 'k' 'ə̃' 'ʃ' 'ʒ' 'f' 'm' 'ẽ' 'n' 'u' 'l' 'r' 'ʎ'\n",
      " 'ɛ' 'ɛ̃' 'ɲ' 'ũ' 'ĩ' 'ɨ' 'ɐ̃' 'h' 'ŋ' 'ɫ' 'ɔ̃']\n"
     ]
    }
   ],
   "source": [
    "reference_tokens = ['p', 'b', 't', 'd', 'k', 'ɡ', 'tʃ', 'dʒ', 'f', 'v', 's', 'z', 'ʃ', 'ʒ', \n",
    "                    'χ', 'ɣ', 'h', 'ɦ', 'm', 'n', 'ɲ', 'ɾ', 'r', 'ɹ', 'l', 'ʎ',\n",
    "                   'i', 'ĩ', 'ɪ', 'e', 'ẽ', 'ɛ', 'ə', 'ã', 'a', 'ʊ', 'ũ', 'u', 'õ', 'o', 'ɔ']\n",
    "print(f'reference tokens: {len(reference_tokens)} {reference_tokens}')\n",
    "print(f'dictionnary tokens: {len(tokens)} {tokens}')"
   ]
  },
  {
   "cell_type": "code",
   "execution_count": 31,
   "metadata": {},
   "outputs": [
    {
     "name": "stdout",
     "output_type": "stream",
     "text": [
      "dictionnary tokens not in reference: {'ŋ', 'x', 'j', 'ɐ̃', 'õ', 'ɨ', 'ɛ̃', 'w', 'ɔ̃', 'g', 'ɫ', 'ə̃'}\n",
      "espeak tokens not in reference: {'ŋ', 'x', 'ʊ̃', 'j', 'ɐ̃', 'y', 'æ', 'w'}\n",
      "falabrasil tokens not in reference: {'j', 'õ', 'ʁ', 'j̃', 'w', 'w̃', 'ã'}\n",
      "epitran tokens not in reference: {'ũ', 'j', 'ẽ', 'ɐ̃', 'lʒ', 'ĩ', 'ẃ', 'ʁ', 'ɐ', 'j̃', 'ɡʷ', 'w', 'ɛ̃', 'w̃', 'j́', 'kʷ'}\n",
      "phonetisaurus tokens not in reference: {'ʀ', 'ɐ̃', 'õ', 'ʁ', 'w', 'ɫ'}\n"
     ]
    }
   ],
   "source": [
    "print(f'dictionnary tokens not in reference: {set(tokens) - set(reference_tokens)}')\n",
    "print(f'espeak tokens not in reference: {set(espeak_list) - set(reference_tokens)}')\n",
    "print(f'falabrasil tokens not in reference: {set(falabrasil_list) - set(reference_tokens)}')\n",
    "print(f'epitran tokens not in reference: {set(epitran_list) - set(reference_tokens)}')\n",
    "print(f'phonetisaurus tokens not in reference: {set(phonetisaurus_list) - set(reference_tokens)}')"
   ]
  },
  {
   "cell_type": "markdown",
   "metadata": {},
   "source": [
    "### Mapping of phonemes"
   ]
  },
  {
   "cell_type": "code",
   "execution_count": 32,
   "metadata": {},
   "outputs": [],
   "source": [
    "def simplify(c):\n",
    "    d = {\n",
    "        'ŋ': 'n',\n",
    "        'ɨ': 'i',\n",
    "        'ə̃': 'ã',\n",
    "        'ɐ̃': 'ã',\n",
    "        'ɛ̃': 'ẽ', \n",
    "        'ɔ̃': 'õ',\n",
    "        'x': 'χ',\n",
    "        'g': 'ɡ',\n",
    "        'æ': 'a',\n",
    "        'ʁ': 'χ',\n",
    "        'ã': 'ã',\n",
    "        'ʀ': 'χ',\n",
    "        'õ': 'õ',\n",
    "        'ĩ': 'ĩ',\n",
    "        'ɡʷ': 'ɡ',\n",
    "        'kʷ': 'k',\n",
    "        'ẃ': 'w',\n",
    "        'lʲ': 'ʎ',\n",
    "        'y': 'ʎ',\n",
    "        'ỹ': 'ɲ',\n",
    "        'ɫ': 'w',\n",
    "    }\n",
    "    try:\n",
    "        return d[c]\n",
    "    except KeyError:\n",
    "        return c"
   ]
  },
  {
   "cell_type": "code",
   "execution_count": 33,
   "metadata": {
    "scrolled": true
   },
   "outputs": [
    {
     "data": {
      "text/html": [
       "<div>\n",
       "<style scoped>\n",
       "    .dataframe tbody tr th:only-of-type {\n",
       "        vertical-align: middle;\n",
       "    }\n",
       "\n",
       "    .dataframe tbody tr th {\n",
       "        vertical-align: top;\n",
       "    }\n",
       "\n",
       "    .dataframe thead th {\n",
       "        text-align: right;\n",
       "    }\n",
       "</style>\n",
       "<table border=\"1\" class=\"dataframe\">\n",
       "  <thead>\n",
       "    <tr style=\"text-align: right;\">\n",
       "      <th></th>\n",
       "      <th>pronunciation_clean</th>\n",
       "      <th>espeak_pronunciation_clean</th>\n",
       "      <th>falabrasil_pronunciation_clean</th>\n",
       "      <th>epitran_pronunciation_clean</th>\n",
       "      <th>phonetisaurus_pronunciation_clean</th>\n",
       "    </tr>\n",
       "  </thead>\n",
       "  <tbody>\n",
       "    <tr>\n",
       "      <th>0</th>\n",
       "      <td>lukəs</td>\n",
       "      <td>lukas</td>\n",
       "      <td>lukas</td>\n",
       "      <td>lukɐʃ</td>\n",
       "      <td>wukas</td>\n",
       "    </tr>\n",
       "    <tr>\n",
       "      <th>1</th>\n",
       "      <td>ʃaɾutʊ</td>\n",
       "      <td>ʃaɾutʊ</td>\n",
       "      <td>ʃarutu</td>\n",
       "      <td>kɐɾuto</td>\n",
       "      <td>ʃaχuto</td>\n",
       "    </tr>\n",
       "    <tr>\n",
       "      <th>2</th>\n",
       "      <td>mikɾofiwmaʒeɲ</td>\n",
       "      <td>mikrofiʊmaʒeɪn</td>\n",
       "      <td>mikrofiwmaʒẽj̃</td>\n",
       "      <td>mikχofilmɐʒẽ</td>\n",
       "      <td>mikχofiwmaɡem</td>\n",
       "    </tr>\n",
       "    <tr>\n",
       "      <th>3</th>\n",
       "      <td>χeʒejtʊ</td>\n",
       "      <td>χeʒeɪtʊ</td>\n",
       "      <td>χeʒejtu</td>\n",
       "      <td>χɛʒɛjto</td>\n",
       "      <td>χeʒeito</td>\n",
       "    </tr>\n",
       "    <tr>\n",
       "      <th>4</th>\n",
       "      <td>oliaʒinozʊ</td>\n",
       "      <td>oleaʒinozʊ</td>\n",
       "      <td>oleaʒĩnozu</td>\n",
       "      <td>olɛɐʒinozo</td>\n",
       "      <td>oweaɡinoso</td>\n",
       "    </tr>\n",
       "  </tbody>\n",
       "</table>\n",
       "</div>"
      ],
      "text/plain": [
       "  pronunciation_clean espeak_pronunciation_clean  \\\n",
       "0               lukəs                      lukas   \n",
       "1              ʃaɾutʊ                     ʃaɾutʊ   \n",
       "2       mikɾofiwmaʒeɲ             mikrofiʊmaʒeɪn   \n",
       "3             χeʒejtʊ                    χeʒeɪtʊ   \n",
       "4          oliaʒinozʊ                 oleaʒinozʊ   \n",
       "\n",
       "  falabrasil_pronunciation_clean epitran_pronunciation_clean  \\\n",
       "0                          lukas                       lukɐʃ   \n",
       "1                         ʃarutu                      kɐɾuto   \n",
       "2                mikrofiwmaʒẽj̃               mikχofilmɐʒẽ   \n",
       "3                        χeʒejtu                     χɛʒɛjto   \n",
       "4                    oleaʒĩnozu                  olɛɐʒinozo   \n",
       "\n",
       "  phonetisaurus_pronunciation_clean  \n",
       "0                             wukas  \n",
       "1                            ʃaχuto  \n",
       "2                     mikχofiwmaɡem  \n",
       "3                           χeʒeito  \n",
       "4                        oweaɡinoso  "
      ]
     },
     "execution_count": 33,
     "metadata": {},
     "output_type": "execute_result"
    }
   ],
   "source": [
    "df[cols_with_ref] = df[cols_with_ref].applymap(lambda v: ''.join(list(map(simplify, v))))\n",
    "df[cols_with_ref].head()"
   ]
  },
  {
   "cell_type": "code",
   "execution_count": 34,
   "metadata": {},
   "outputs": [
    {
     "name": "stdout",
     "output_type": "stream",
     "text": [
      "espeak_pronunciation_clean           0.226303\n",
      "falabrasil_pronunciation_clean       0.213601\n",
      "epitran_pronunciation_clean          0.463641\n",
      "phonetisaurus_pronunciation_clean    0.365336\n",
      "dtype: float64\n"
     ]
    }
   ],
   "source": [
    "new_cer_s = pd.Series(get_cer_df(df, 'pronunciation_clean', cols))\n",
    "print(new_cer_s)"
   ]
  },
  {
   "cell_type": "markdown",
   "metadata": {},
   "source": [
    "## Error analysis"
   ]
  },
  {
   "cell_type": "code",
   "execution_count": 35,
   "metadata": {},
   "outputs": [],
   "source": [
    "df_cer = df.apply(lambda row: [cer(row['pronunciation_clean'], row[col]) \\\n",
    "                                   for col in cols\n",
    "                                  ], \n",
    "                      axis=1, result_type='expand')\n",
    "df_cer.columns = cols"
   ]
  },
  {
   "cell_type": "code",
   "execution_count": 56,
   "metadata": {},
   "outputs": [
    {
     "data": {
      "image/png": "[encoded data removed]",
      "text/plain": [
       "<Figure size 640x480 with 1 Axes>"
      ]
     },
     "metadata": {},
     "output_type": "display_data"
    }
   ],
   "source": [
    "import seaborn as sns\n",
    "import matplotlib.pyplot as plt\n",
    "import numpy as np\n",
    "\n",
    "bins = np.arange(min(df_cer['falabrasil_pronunciation_clean']), max(df_cer['falabrasil_pronunciation_clean']) + 0.1, 0.1)\n",
    "sns.histplot(df_cer['espeak_pronunciation_clean'], label='espeak', bins=bins)\n",
    "sns.histplot(df_cer['falabrasil_pronunciation_clean'], label='falabrasil', bins=bins)\n",
    "plt.title('PER histogram')\n",
    "plt.legend()\n",
    "plt.show()"
   ]
  },
  {
   "cell_type": "code",
   "execution_count": 37,
   "metadata": {},
   "outputs": [
    {
     "data": {
      "text/html": [
       "<div>\n",
       "<style scoped>\n",
       "    .dataframe tbody tr th:only-of-type {\n",
       "        vertical-align: middle;\n",
       "    }\n",
       "\n",
       "    .dataframe tbody tr th {\n",
       "        vertical-align: top;\n",
       "    }\n",
       "\n",
       "    .dataframe thead th {\n",
       "        text-align: right;\n",
       "    }\n",
       "</style>\n",
       "<table border=\"1\" class=\"dataframe\">\n",
       "  <thead>\n",
       "    <tr style=\"text-align: right;\">\n",
       "      <th></th>\n",
       "      <th>word</th>\n",
       "      <th>category</th>\n",
       "      <th>pronunciation</th>\n",
       "      <th>pronunciation_clean</th>\n",
       "      <th>word_clean</th>\n",
       "      <th>epitran_pronunciation</th>\n",
       "      <th>epitran_pronunciation_clean</th>\n",
       "      <th>espeak_pronunciation</th>\n",
       "      <th>espeak_pronunciation_clean</th>\n",
       "      <th>falabrasil_pronunciation</th>\n",
       "      <th>falabrasil_pronunciation_clean</th>\n",
       "      <th>phonetisaurus_pronunciation</th>\n",
       "      <th>phonetisaurus_pronunciation_clean</th>\n",
       "    </tr>\n",
       "  </thead>\n",
       "  <tbody>\n",
       "    <tr>\n",
       "      <th>125</th>\n",
       "      <td>cri·a·da·gem</td>\n",
       "      <td>nome feminino</td>\n",
       "      <td>kɾja.dˈa.ʒeɲ</td>\n",
       "      <td>kɾjadaʒeɲ</td>\n",
       "      <td>criadagem</td>\n",
       "      <td>kɾiɐdɐʒɛ̃</td>\n",
       "      <td>kɾiɐdɐʒẽ</td>\n",
       "      <td>k_r_i__a_d_a_ʒ_eɪ_ŋ</td>\n",
       "      <td>kriadaʒeɪn</td>\n",
       "      <td>k r i a d a Z e~ j~</td>\n",
       "      <td>kriadaʒẽj̃</td>\n",
       "      <td>k ʁ i a d a g e m</td>\n",
       "      <td>kχiadaɡem</td>\n",
       "    </tr>\n",
       "    <tr>\n",
       "      <th>339</th>\n",
       "      <td>lou·ro</td>\n",
       "      <td>nome masculino</td>\n",
       "      <td>lˈo.ɾʊ</td>\n",
       "      <td>loɾʊ</td>\n",
       "      <td>louro</td>\n",
       "      <td>lowuɾo</td>\n",
       "      <td>lowuɾo</td>\n",
       "      <td>l_o_w_ɾ_ʊ</td>\n",
       "      <td>lowɾʊ</td>\n",
       "      <td>l o w  r u</td>\n",
       "      <td>lowru</td>\n",
       "      <td>ɫ o u ʁ o</td>\n",
       "      <td>wouχo</td>\n",
       "    </tr>\n",
       "    <tr>\n",
       "      <th>360</th>\n",
       "      <td>sa·xão</td>\n",
       "      <td>nome masculino</td>\n",
       "      <td>sa.kə.sˈə̃w</td>\n",
       "      <td>sakəsãw</td>\n",
       "      <td>saxão</td>\n",
       "      <td>sɐksɐ̃w̃</td>\n",
       "      <td>sɐksãw̃</td>\n",
       "      <td>s_a_k_s_ɐ̃ʊ̃</td>\n",
       "      <td>saksãʊ̃</td>\n",
       "      <td>s a S a~ w~</td>\n",
       "      <td>saʃãw̃</td>\n",
       "      <td>s a k s ɐ̃ o</td>\n",
       "      <td>saksão</td>\n",
       "    </tr>\n",
       "    <tr>\n",
       "      <th>479</th>\n",
       "      <td>em·pre·en·der</td>\n",
       "      <td>verbo</td>\n",
       "      <td>ĩ.pɾi.en.dˈe</td>\n",
       "      <td>ĩpɾiende</td>\n",
       "      <td>empreender</td>\n",
       "      <td>ɛmpɾɛɛndɛɾ</td>\n",
       "      <td>ɛmpɾɛɛndɛɾ</td>\n",
       "      <td>eɪ_m_p_r_e_eɪ_ŋ_d_e_r</td>\n",
       "      <td>eɪmpreeɪnder</td>\n",
       "      <td>e~  p r e e~  d e X</td>\n",
       "      <td>ẽpreẽdeχ</td>\n",
       "      <td>e m p ʁ e n d e ʁ</td>\n",
       "      <td>empχendeχ</td>\n",
       "    </tr>\n",
       "    <tr>\n",
       "      <th>498</th>\n",
       "      <td>es·tra·nho</td>\n",
       "      <td>nome masculino</td>\n",
       "      <td>is.tɾˈə.ɲʊ</td>\n",
       "      <td>istɾəɲʊ</td>\n",
       "      <td>estranho</td>\n",
       "      <td>ɛʃtɾɐno</td>\n",
       "      <td>ɛʃtɾɐno</td>\n",
       "      <td>e_s_t_r_ɐ̃_ɲ_ʊ</td>\n",
       "      <td>estrãɲʊ</td>\n",
       "      <td>e s t r a~ J  u</td>\n",
       "      <td>estrãɲu</td>\n",
       "      <td>e s t ʁ a ɲ o</td>\n",
       "      <td>estχaɲo</td>\n",
       "    </tr>\n",
       "    <tr>\n",
       "      <th>...</th>\n",
       "      <td>...</td>\n",
       "      <td>...</td>\n",
       "      <td>...</td>\n",
       "      <td>...</td>\n",
       "      <td>...</td>\n",
       "      <td>...</td>\n",
       "      <td>...</td>\n",
       "      <td>...</td>\n",
       "      <td>...</td>\n",
       "      <td>...</td>\n",
       "      <td>...</td>\n",
       "      <td>...</td>\n",
       "      <td>...</td>\n",
       "    </tr>\n",
       "    <tr>\n",
       "      <th>5116</th>\n",
       "      <td>ga·ra·gem</td>\n",
       "      <td>nome feminino</td>\n",
       "      <td>ga.ɾˈa.ʒeɲ</td>\n",
       "      <td>ɡaɾaʒeɲ</td>\n",
       "      <td>garagem</td>\n",
       "      <td>ɡɐɾɐʒɛ̃</td>\n",
       "      <td>ɡɐɾɐʒẽ</td>\n",
       "      <td>ɡ_a_ɾ_a_ʒ_eɪ_ŋ</td>\n",
       "      <td>ɡaɾaʒeɪn</td>\n",
       "      <td>g a r a Z e~ j~</td>\n",
       "      <td>ɡaraʒẽj̃</td>\n",
       "      <td>g a ʁ a g e m</td>\n",
       "      <td>ɡaχaɡem</td>\n",
       "    </tr>\n",
       "    <tr>\n",
       "      <th>5120</th>\n",
       "      <td>tri·ne·to</td>\n",
       "      <td>nome masculino</td>\n",
       "      <td>tɾi.nˈɛ.tʊ</td>\n",
       "      <td>tɾinɛtʊ</td>\n",
       "      <td>trineto</td>\n",
       "      <td>tɾinɛto</td>\n",
       "      <td>tɾinɛto</td>\n",
       "      <td>t_r_i_n_e_t_ʊ</td>\n",
       "      <td>trinetʊ</td>\n",
       "      <td>t r i~ n e t u</td>\n",
       "      <td>trĩnetu</td>\n",
       "      <td>t ʁ i n e t o</td>\n",
       "      <td>tχineto</td>\n",
       "    </tr>\n",
       "    <tr>\n",
       "      <th>5121</th>\n",
       "      <td>e·na</td>\n",
       "      <td>interjeição</td>\n",
       "      <td>ˈɛ.nə</td>\n",
       "      <td>ɛnə</td>\n",
       "      <td>ena</td>\n",
       "      <td>ɛnɐ</td>\n",
       "      <td>ɛnɐ</td>\n",
       "      <td>e_n_æ</td>\n",
       "      <td>ena</td>\n",
       "      <td>e~ n a</td>\n",
       "      <td>ẽna</td>\n",
       "      <td>e n a</td>\n",
       "      <td>ena</td>\n",
       "    </tr>\n",
       "    <tr>\n",
       "      <th>5216</th>\n",
       "      <td>boo·le·a·no</td>\n",
       "      <td>adjetivo</td>\n",
       "      <td>bo.li.ˈə.nʊ</td>\n",
       "      <td>boliənʊ</td>\n",
       "      <td>booleano</td>\n",
       "      <td>bowolɛɐno</td>\n",
       "      <td>bowolɛɐno</td>\n",
       "      <td>b_o_o_l_e_ɐ̃_n_ʊ</td>\n",
       "      <td>booleãnʊ</td>\n",
       "      <td>b o o l e a~ n u</td>\n",
       "      <td>booleãnu</td>\n",
       "      <td>b o ɫ e a n o</td>\n",
       "      <td>boweano</td>\n",
       "    </tr>\n",
       "    <tr>\n",
       "      <th>5300</th>\n",
       "      <td>ou·sar</td>\n",
       "      <td>verbo</td>\n",
       "      <td>o.zˈa</td>\n",
       "      <td>oza</td>\n",
       "      <td>ousar</td>\n",
       "      <td>owuzɐɾ</td>\n",
       "      <td>owuzɐɾ</td>\n",
       "      <td>o_w_z_a_r</td>\n",
       "      <td>owzar</td>\n",
       "      <td>o w  z a X</td>\n",
       "      <td>owzaχ</td>\n",
       "      <td>o u s a ʁ</td>\n",
       "      <td>ousaχ</td>\n",
       "    </tr>\n",
       "  </tbody>\n",
       "</table>\n",
       "<p>94 rows × 13 columns</p>\n",
       "</div>"
      ],
      "text/plain": [
       "               word        category  pronunciation pronunciation_clean  \\\n",
       "125    cri·a·da·gem   nome feminino   kɾja.dˈa.ʒeɲ           kɾjadaʒeɲ   \n",
       "339          lou·ro  nome masculino         lˈo.ɾʊ                loɾʊ   \n",
       "360          sa·xão  nome masculino    sa.kə.sˈə̃w             sakəsãw   \n",
       "479   em·pre·en·der           verbo  ĩ.pɾi.en.dˈe           ĩpɾiende   \n",
       "498      es·tra·nho  nome masculino     is.tɾˈə.ɲʊ             istɾəɲʊ   \n",
       "...             ...             ...            ...                 ...   \n",
       "5116      ga·ra·gem   nome feminino     ga.ɾˈa.ʒeɲ             ɡaɾaʒeɲ   \n",
       "5120      tri·ne·to  nome masculino     tɾi.nˈɛ.tʊ             tɾinɛtʊ   \n",
       "5121           e·na     interjeição          ˈɛ.nə                 ɛnə   \n",
       "5216    boo·le·a·no        adjetivo    bo.li.ˈə.nʊ             boliənʊ   \n",
       "5300         ou·sar           verbo          o.zˈa                 oza   \n",
       "\n",
       "      word_clean epitran_pronunciation epitran_pronunciation_clean  \\\n",
       "125    criadagem             kɾiɐdɐʒɛ̃                   kɾiɐdɐʒẽ   \n",
       "339        louro                lowuɾo                      lowuɾo   \n",
       "360        saxão              sɐksɐ̃w̃                     sɐksãw̃   \n",
       "479   empreender            ɛmpɾɛɛndɛɾ                  ɛmpɾɛɛndɛɾ   \n",
       "498     estranho               ɛʃtɾɐno                     ɛʃtɾɐno   \n",
       "...          ...                   ...                         ...   \n",
       "5116     garagem               ɡɐɾɐʒɛ̃                     ɡɐɾɐʒẽ   \n",
       "5120     trineto               tɾinɛto                     tɾinɛto   \n",
       "5121         ena                   ɛnɐ                         ɛnɐ   \n",
       "5216    booleano             bowolɛɐno                   bowolɛɐno   \n",
       "5300       ousar                owuzɐɾ                      owuzɐɾ   \n",
       "\n",
       "        espeak_pronunciation espeak_pronunciation_clean  \\\n",
       "125      k_r_i__a_d_a_ʒ_eɪ_ŋ                 kriadaʒeɪn   \n",
       "339                l_o_w_ɾ_ʊ                      lowɾʊ   \n",
       "360             s_a_k_s_ɐ̃ʊ̃                    saksãʊ̃   \n",
       "479    eɪ_m_p_r_e_eɪ_ŋ_d_e_r               eɪmpreeɪnder   \n",
       "498           e_s_t_r_ɐ̃_ɲ_ʊ                    estrãɲʊ   \n",
       "...                      ...                        ...   \n",
       "5116          ɡ_a_ɾ_a_ʒ_eɪ_ŋ                   ɡaɾaʒeɪn   \n",
       "5120           t_r_i_n_e_t_ʊ                    trinetʊ   \n",
       "5121                   e_n_æ                        ena   \n",
       "5216        b_o_o_l_e_ɐ̃_n_ʊ                   booleãnʊ   \n",
       "5300               o_w_z_a_r                      owzar   \n",
       "\n",
       "     falabrasil_pronunciation falabrasil_pronunciation_clean  \\\n",
       "125       k r i a d a Z e~ j~                    kriadaʒẽj̃   \n",
       "339                l o w  r u                          lowru   \n",
       "360               s a S a~ w~                         saʃãw̃   \n",
       "479       e~  p r e e~  d e X                     ẽpreẽdeχ   \n",
       "498           e s t r a~ J  u                        estrãɲu   \n",
       "...                       ...                            ...   \n",
       "5116          g a r a Z e~ j~                      ɡaraʒẽj̃   \n",
       "5120           t r i~ n e t u                       trĩnetu   \n",
       "5121                   e~ n a                           ẽna   \n",
       "5216         b o o l e a~ n u                       booleãnu   \n",
       "5300               o w  z a X                          owzaχ   \n",
       "\n",
       "     phonetisaurus_pronunciation phonetisaurus_pronunciation_clean  \n",
       "125            k ʁ i a d a g e m                         kχiadaɡem  \n",
       "339                    ɫ o u ʁ o                             wouχo  \n",
       "360                 s a k s ɐ̃ o                            saksão  \n",
       "479            e m p ʁ e n d e ʁ                         empχendeχ  \n",
       "498                e s t ʁ a ɲ o                           estχaɲo  \n",
       "...                          ...                               ...  \n",
       "5116               g a ʁ a g e m                           ɡaχaɡem  \n",
       "5120               t ʁ i n e t o                           tχineto  \n",
       "5121                       e n a                               ena  \n",
       "5216               b o ɫ e a n o                           boweano  \n",
       "5300                   o u s a ʁ                             ousaχ  \n",
       "\n",
       "[94 rows x 13 columns]"
      ]
     },
     "execution_count": 37,
     "metadata": {},
     "output_type": "execute_result"
    }
   ],
   "source": [
    "idx = df_cer[df_cer['falabrasil_pronunciation_clean'] > 0.5].index\n",
    "df.loc[idx]"
   ]
  },
  {
   "cell_type": "code",
   "execution_count": 38,
   "metadata": {},
   "outputs": [],
   "source": [
    "df.loc[idx].to_csv('data/main_errors.csv', index=False)"
   ]
  },
  {
   "cell_type": "code",
   "execution_count": null,
   "metadata": {},
   "outputs": [],
   "source": []
  }
 ],
 "metadata": {
  "kernelspec": {
   "display_name": "Python 3 (ipykernel)",
   "language": "python",
   "name": "python3"
  },
  "language_info": {
   "codemirror_mode": {
    "name": "ipython",
    "version": 3
   },
   "file_extension": ".py",
   "mimetype": "text/x-python",
   "name": "python",
   "nbconvert_exporter": "python",
   "pygments_lexer": "ipython3",
   "version": "3.11.4"
  }
 },
 "nbformat": 4,
 "nbformat_minor": 4
}
