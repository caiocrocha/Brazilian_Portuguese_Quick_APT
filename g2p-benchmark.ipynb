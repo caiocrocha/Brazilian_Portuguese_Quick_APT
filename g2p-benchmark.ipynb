{
 "cells": [
  {
   "cell_type": "markdown",
   "metadata": {},
   "source": [
    "## Load dataset"
   ]
  },
  {
   "cell_type": "code",
   "execution_count": 1,
   "metadata": {
    "tags": []
   },
   "outputs": [],
   "source": [
    "import pandas as pd\n",
    "import re\n",
    "from PString import PString"
   ]
  },
  {
   "cell_type": "code",
   "execution_count": 2,
   "metadata": {
    "tags": []
   },
   "outputs": [
    {
     "data": {
      "text/html": [
       "<div>\n",
       "<style scoped>\n",
       "    .dataframe tbody tr th:only-of-type {\n",
       "        vertical-align: middle;\n",
       "    }\n",
       "\n",
       "    .dataframe tbody tr th {\n",
       "        vertical-align: top;\n",
       "    }\n",
       "\n",
       "    .dataframe thead th {\n",
       "        text-align: right;\n",
       "    }\n",
       "</style>\n",
       "<table border=\"1\" class=\"dataframe\">\n",
       "  <thead>\n",
       "    <tr style=\"text-align: right;\">\n",
       "      <th></th>\n",
       "      <th>word</th>\n",
       "      <th>category</th>\n",
       "      <th>pronunciation</th>\n",
       "    </tr>\n",
       "  </thead>\n",
       "  <tbody>\n",
       "    <tr>\n",
       "      <th>0</th>\n",
       "      <td>a</td>\n",
       "      <td>artigo</td>\n",
       "      <td>a</td>\n",
       "    </tr>\n",
       "    <tr>\n",
       "      <th>1</th>\n",
       "      <td>a</td>\n",
       "      <td>preposição</td>\n",
       "      <td>a</td>\n",
       "    </tr>\n",
       "    <tr>\n",
       "      <th>2</th>\n",
       "      <td>á-bê-cê</td>\n",
       "      <td>nome masculino</td>\n",
       "      <td>ˌa.bˌe.sˈe</td>\n",
       "    </tr>\n",
       "    <tr>\n",
       "      <th>3</th>\n",
       "      <td>a-pro·pó·si·to</td>\n",
       "      <td>nome masculino</td>\n",
       "      <td>a.pɾo.pˈɔ.zi.tʊ</td>\n",
       "    </tr>\n",
       "    <tr>\n",
       "      <th>4</th>\n",
       "      <td>à-von·ta·de</td>\n",
       "      <td>nome masculino</td>\n",
       "      <td>ˌa.võ.tˈa.dʒi</td>\n",
       "    </tr>\n",
       "  </tbody>\n",
       "</table>\n",
       "</div>"
      ],
      "text/plain": [
       "             word        category    pronunciation\n",
       "0               a          artigo                a\n",
       "1               a      preposição                a\n",
       "2         á-bê-cê  nome masculino       ˌa.bˌe.sˈe\n",
       "3  a-pro·pó·si·to  nome masculino  a.pɾo.pˈɔ.zi.tʊ\n",
       "4     à-von·ta·de  nome masculino   ˌa.võ.tˈa.dʒi"
      ]
     },
     "execution_count": 2,
     "metadata": {},
     "output_type": "execute_result"
    }
   ],
   "source": [
    "df = pd.read_csv('pronunciations/pronunciation_sp.csv')\n",
    "df.head()"
   ]
  },
  {
   "cell_type": "code",
   "execution_count": 3,
   "metadata": {
    "tags": []
   },
   "outputs": [
    {
     "data": {
      "text/plain": [
       "(53397, 3)"
      ]
     },
     "execution_count": 3,
     "metadata": {},
     "output_type": "execute_result"
    }
   ],
   "source": [
    "df.dropna(inplace=True, subset=['word', 'pronunciation'])\n",
    "df.drop_duplicates(inplace=True, subset=['word'])\n",
    "df.shape"
   ]
  },
  {
   "cell_type": "code",
   "execution_count": 4,
   "metadata": {},
   "outputs": [],
   "source": [
    "df['pronunciation'] = df['pronunciation'].apply(lambda v: v.split('$')[0].strip() if '$' in v else v.strip())"
   ]
  },
  {
   "cell_type": "markdown",
   "metadata": {},
   "source": [
    "## Clean dataset\n",
    "\n",
    "When manipulating the dataset, some inconsistencies were detected. These are addressed below."
   ]
  },
  {
   "cell_type": "code",
   "execution_count": 5,
   "metadata": {},
   "outputs": [
    {
     "name": "stdout",
     "output_type": "stream",
     "text": [
      "(686, 3)\n"
     ]
    },
    {
     "data": {
      "text/html": [
       "<div>\n",
       "<style scoped>\n",
       "    .dataframe tbody tr th:only-of-type {\n",
       "        vertical-align: middle;\n",
       "    }\n",
       "\n",
       "    .dataframe tbody tr th {\n",
       "        vertical-align: top;\n",
       "    }\n",
       "\n",
       "    .dataframe thead th {\n",
       "        text-align: right;\n",
       "    }\n",
       "</style>\n",
       "<table border=\"1\" class=\"dataframe\">\n",
       "  <thead>\n",
       "    <tr style=\"text-align: right;\">\n",
       "      <th></th>\n",
       "      <th>word</th>\n",
       "      <th>category</th>\n",
       "      <th>pronunciation</th>\n",
       "    </tr>\n",
       "  </thead>\n",
       "  <tbody>\n",
       "    <tr>\n",
       "      <th>204</th>\n",
       "      <td>a·be·ta</td>\n",
       "      <td>nome feminino</td>\n",
       "      <td>a.bˈe.tə ou a.bˈɛ.tə</td>\n",
       "    </tr>\n",
       "    <tr>\n",
       "      <th>209</th>\n",
       "      <td>a·bi·be</td>\n",
       "      <td>nome masculino</td>\n",
       "      <td>a.bˈi.bi ou a.bˈi.bi</td>\n",
       "    </tr>\n",
       "    <tr>\n",
       "      <th>401</th>\n",
       "      <td>ab·sen·tis·ta</td>\n",
       "      <td>nome masculino</td>\n",
       "      <td>a.bi.sẽ.tʃˈis.tə ou a.bi.sẽ.tʃˈis.tə</td>\n",
       "    </tr>\n",
       "    <tr>\n",
       "      <th>447</th>\n",
       "      <td>abs·tra·ção</td>\n",
       "      <td>nome feminino</td>\n",
       "      <td>abs.tɾa.sˈə̃w ou abs.tɾa.sˈə̃w</td>\n",
       "    </tr>\n",
       "    <tr>\n",
       "      <th>457</th>\n",
       "      <td>abs·tra·to</td>\n",
       "      <td>adjetivo</td>\n",
       "      <td>abs.tɾˈa.tʊ ou abs.tɾˈa.tʊ</td>\n",
       "    </tr>\n",
       "  </tbody>\n",
       "</table>\n",
       "</div>"
      ],
      "text/plain": [
       "              word        category                           pronunciation\n",
       "204        a·be·ta   nome feminino                    a.bˈe.tə ou a.bˈɛ.tə\n",
       "209        a·bi·be  nome masculino                    a.bˈi.bi ou a.bˈi.bi\n",
       "401  ab·sen·tis·ta  nome masculino  a.bi.sẽ.tʃˈis.tə ou a.bi.sẽ.tʃˈis.tə\n",
       "447    abs·tra·ção   nome feminino          abs.tɾa.sˈə̃w ou abs.tɾa.sˈə̃w\n",
       "457     abs·tra·to        adjetivo              abs.tɾˈa.tʊ ou abs.tɾˈa.tʊ"
      ]
     },
     "execution_count": 5,
     "metadata": {},
     "output_type": "execute_result"
    }
   ],
   "source": [
    "# double pronunciations (\"ou\" == \"or\" in English)\n",
    "idx = df.loc[df['pronunciation'].str.contains(' ou')].index\n",
    "print(df.loc[idx].shape)\n",
    "df.loc[idx].head()"
   ]
  },
  {
   "cell_type": "code",
   "execution_count": 6,
   "metadata": {},
   "outputs": [],
   "source": [
    "# keep only first pronunciation\n",
    "df.loc[idx, 'pronunciation'] = df.loc[idx, 'pronunciation'].apply(lambda v: v.split('ou')[0].strip())"
   ]
  },
  {
   "cell_type": "code",
   "execution_count": 7,
   "metadata": {},
   "outputs": [
    {
     "name": "stdout",
     "output_type": "stream",
     "text": [
      "(26, 3)\n"
     ]
    },
    {
     "data": {
      "text/html": [
       "<div>\n",
       "<style scoped>\n",
       "    .dataframe tbody tr th:only-of-type {\n",
       "        vertical-align: middle;\n",
       "    }\n",
       "\n",
       "    .dataframe tbody tr th {\n",
       "        vertical-align: top;\n",
       "    }\n",
       "\n",
       "    .dataframe thead th {\n",
       "        text-align: right;\n",
       "    }\n",
       "</style>\n",
       "<table border=\"1\" class=\"dataframe\">\n",
       "  <thead>\n",
       "    <tr style=\"text-align: right;\">\n",
       "      <th></th>\n",
       "      <th>word</th>\n",
       "      <th>category</th>\n",
       "      <th>pronunciation</th>\n",
       "    </tr>\n",
       "  </thead>\n",
       "  <tbody>\n",
       "    <tr>\n",
       "      <th>7310</th>\n",
       "      <td>ba·by-sit·ter</td>\n",
       "      <td>nome masculino</td>\n",
       "      <td>ou</td>\n",
       "    </tr>\n",
       "    <tr>\n",
       "      <th>12390</th>\n",
       "      <td>chauf·feur</td>\n",
       "      <td>nome masculino</td>\n",
       "      <td>ou</td>\n",
       "    </tr>\n",
       "    <tr>\n",
       "      <th>15835</th>\n",
       "      <td>cor·don-bleu</td>\n",
       "      <td>nome masculino</td>\n",
       "      <td>ou</td>\n",
       "    </tr>\n",
       "    <tr>\n",
       "      <th>19794</th>\n",
       "      <td>de·sig·ner</td>\n",
       "      <td>nome masculino</td>\n",
       "      <td>ou</td>\n",
       "    </tr>\n",
       "    <tr>\n",
       "      <th>28998</th>\n",
       "      <td>free·lan·ce</td>\n",
       "      <td>nome masculino</td>\n",
       "      <td>ou</td>\n",
       "    </tr>\n",
       "  </tbody>\n",
       "</table>\n",
       "</div>"
      ],
      "text/plain": [
       "                word        category pronunciation\n",
       "7310   ba·by-sit·ter  nome masculino            ou\n",
       "12390     chauf·feur  nome masculino            ou\n",
       "15835   cor·don-bleu  nome masculino            ou\n",
       "19794     de·sig·ner  nome masculino            ou\n",
       "28998    free·lan·ce  nome masculino            ou"
      ]
     },
     "execution_count": 7,
     "metadata": {},
     "output_type": "execute_result"
    }
   ],
   "source": [
    "# some words don't have a valid transcription\n",
    "# instead their pronunciation appears as \"ou\"\n",
    "# which is incorrect\n",
    "idx = df.loc[df['pronunciation'].str.contains('ou')].index\n",
    "print(df.loc[idx].shape)\n",
    "df.loc[idx].head()"
   ]
  },
  {
   "cell_type": "code",
   "execution_count": 8,
   "metadata": {},
   "outputs": [],
   "source": [
    "# remove these invalid words\n",
    "df = df.loc[~df.index.isin(idx)]"
   ]
  },
  {
   "cell_type": "code",
   "execution_count": 9,
   "metadata": {},
   "outputs": [
    {
     "name": "stdout",
     "output_type": "stream",
     "text": [
      "word                     des·co·la·gem\n",
      "category                 nome feminino\n",
      "pronunciation    dʒis.ko.lˈa.ʒẽjʌ̃j_m\n",
      "Name: 18754, dtype: object\n",
      "\n",
      "word                mi·cro·volt\n",
      "category         nome masculino\n",
      "pronunciation           mi.kɾo.\n",
      "Name: 40017, dtype: object\n",
      "\n",
      "word                  pa·no-cru\n",
      "category         nome masculino\n",
      "pronunciation       pˌə.nʊ.crˈu\n",
      "Name: 44141, dtype: object\n"
     ]
    }
   ],
   "source": [
    "# fix pronunciations\n",
    "print(df.loc[18754]) # wrong suffix\n",
    "df.at[18754, 'pronunciation'] = 'dʒis.ko.lˈa.ʒẽj' \n",
    "\n",
    "print()\n",
    "print(df.loc[40017]) # missing suffix\n",
    "df.at[40017, 'pronunciation'] = 'mi.kɾo.voʊtʃ'\n",
    "\n",
    "print()\n",
    "print(df.loc[44141]) # wrong phoneme (/c/ instead of /k/)\n",
    "df.at[44141, 'pronunciation'] = 'pˌə.nʊ.krˈu'"
   ]
  },
  {
   "cell_type": "markdown",
   "metadata": {},
   "source": [
    "## Preprocess dataset"
   ]
  },
  {
   "cell_type": "code",
   "execution_count": 10,
   "metadata": {},
   "outputs": [
    {
     "data": {
      "text/html": [
       "<div>\n",
       "<style scoped>\n",
       "    .dataframe tbody tr th:only-of-type {\n",
       "        vertical-align: middle;\n",
       "    }\n",
       "\n",
       "    .dataframe tbody tr th {\n",
       "        vertical-align: top;\n",
       "    }\n",
       "\n",
       "    .dataframe thead th {\n",
       "        text-align: right;\n",
       "    }\n",
       "</style>\n",
       "<table border=\"1\" class=\"dataframe\">\n",
       "  <thead>\n",
       "    <tr style=\"text-align: right;\">\n",
       "      <th></th>\n",
       "      <th>word</th>\n",
       "      <th>category</th>\n",
       "      <th>pronunciation</th>\n",
       "      <th>pronunciation_clean</th>\n",
       "      <th>word_clean</th>\n",
       "    </tr>\n",
       "  </thead>\n",
       "  <tbody>\n",
       "    <tr>\n",
       "      <th>0</th>\n",
       "      <td>a</td>\n",
       "      <td>artigo</td>\n",
       "      <td>a</td>\n",
       "      <td>a</td>\n",
       "      <td>a</td>\n",
       "    </tr>\n",
       "    <tr>\n",
       "      <th>2</th>\n",
       "      <td>á-bê-cê</td>\n",
       "      <td>nome masculino</td>\n",
       "      <td>ˌa.bˌe.sˈe</td>\n",
       "      <td>abese</td>\n",
       "      <td>á-bê-cê</td>\n",
       "    </tr>\n",
       "    <tr>\n",
       "      <th>3</th>\n",
       "      <td>a-pro·pó·si·to</td>\n",
       "      <td>nome masculino</td>\n",
       "      <td>a.pɾo.pˈɔ.zi.tʊ</td>\n",
       "      <td>apɾopɔzitʊ</td>\n",
       "      <td>a-propósito</td>\n",
       "    </tr>\n",
       "    <tr>\n",
       "      <th>4</th>\n",
       "      <td>à-von·ta·de</td>\n",
       "      <td>nome masculino</td>\n",
       "      <td>ˌa.võ.tˈa.dʒi</td>\n",
       "      <td>avõtadʒi</td>\n",
       "      <td>à-vontade</td>\n",
       "    </tr>\n",
       "    <tr>\n",
       "      <th>5</th>\n",
       "      <td>a·a</td>\n",
       "      <td>nome feminino</td>\n",
       "      <td>a.ˈa</td>\n",
       "      <td>aa</td>\n",
       "      <td>aa</td>\n",
       "    </tr>\n",
       "  </tbody>\n",
       "</table>\n",
       "</div>"
      ],
      "text/plain": [
       "             word        category    pronunciation pronunciation_clean  \\\n",
       "0               a          artigo                a                   a   \n",
       "2         á-bê-cê  nome masculino       ˌa.bˌe.sˈe               abese   \n",
       "3  a-pro·pó·si·to  nome masculino  a.pɾo.pˈɔ.zi.tʊ          apɾopɔzitʊ   \n",
       "4     à-von·ta·de  nome masculino   ˌa.võ.tˈa.dʒi           avõtadʒi   \n",
       "5             a·a   nome feminino             a.ˈa                  aa   \n",
       "\n",
       "    word_clean  \n",
       "0            a  \n",
       "2      á-bê-cê  \n",
       "3  a-propósito  \n",
       "4    à-vontade  \n",
       "5           aa  "
      ]
     },
     "execution_count": 10,
     "metadata": {},
     "output_type": "execute_result"
    }
   ],
   "source": [
    "df['pronunciation_clean'] = df['pronunciation'].apply(lambda v: PString(re.sub('[ ˌ.ˈ_\\-]', '', v)))\n",
    "df['word_clean'] = df['word'].apply(lambda v: re.sub('[ˌ·ˈ\\'_]', '', v).replace(' ', '-').lower())\n",
    "df.head()"
   ]
  },
  {
   "cell_type": "code",
   "execution_count": 11,
   "metadata": {},
   "outputs": [],
   "source": [
    "def get_chars_list(series):\n",
    "    return series.apply(list).apply(pd.Series).stack().unique()"
   ]
  },
  {
   "cell_type": "code",
   "execution_count": 12,
   "metadata": {},
   "outputs": [
    {
     "name": "stdout",
     "output_type": "stream",
     "text": [
      "Tokens: ['a' 'b' 'e' 's' 'p' 'ɾ' 'o' 'ɔ' 'z' 'i' 't' 'ʊ' 'v' 'õ' 'dʒ' 'w' 'x'\n",
      " 'tʃ' 'g' 'd' 'j' 'ə' 'k' 'ə̃' 'ʃ' 'ʒ' 'f' 'm' 'ẽ' 'n' 'u' 'l' 'r' 'ʎ'\n",
      " 'ɛ' 'ɛ̃' 'ɲ' 'ũ' 'ĩ' 'ɨ' 'ɐ̃' 'h' 'ŋ' 'ɫ' 'ɔ̃']\n",
      "Number of tokens: 45\n",
      "Chars: ['a' 'á' '-' 'b' 'ê' 'c' 'p' 'r' 'o' 'ó' 's' 'i' 't' 'à' 'v' 'n' 'd' 'e'\n",
      " 'l' 'g' 'x' 'j' 'f' 'm' 'u' 'ç' 'ã' 'z' 'h' 'q' 'ô' 'é' 'í' 'ú' 'â' 'y'\n",
      " 'õ' 'w' 'k']\n",
      "Number of chars: 39\n"
     ]
    }
   ],
   "source": [
    "tokens = get_chars_list(df['pronunciation_clean'])\n",
    "print(f'Tokens: {tokens}')\n",
    "print(f'Number of tokens: {len(tokens)}')\n",
    "\n",
    "chars = get_chars_list(df['word_clean'])\n",
    "print(f'Chars: {chars}')\n",
    "print(f'Number of chars: {len(chars)}')"
   ]
  },
  {
   "cell_type": "code",
   "execution_count": 13,
   "metadata": {},
   "outputs": [],
   "source": [
    "df[['word_clean','pronunciation_clean']].to_csv('pronunciations/pronunciation_sp_clean.csv', index=False)\n",
    "df['word_clean'].to_csv('pronunciations/pronunciation_sp_clean.txt', index=False, header=False)"
   ]
  },
  {
   "cell_type": "code",
   "execution_count": 14,
   "metadata": {
    "tags": []
   },
   "outputs": [
    {
     "data": {
      "text/plain": [
       "(5337, 5)"
      ]
     },
     "execution_count": 14,
     "metadata": {},
     "output_type": "execute_result"
    }
   ],
   "source": [
    "df_val = df.sample(frac=0.1, random_state=82)\n",
    "df_val.shape"
   ]
  },
  {
   "cell_type": "code",
   "execution_count": 66,
   "metadata": {},
   "outputs": [],
   "source": [
    "df_val['word_clean'].to_csv('pronunciations/pronunciation_sp_val.txt', index=False, header=False)"
   ]
  },
  {
   "cell_type": "markdown",
   "metadata": {},
   "source": [
    "## G2P"
   ]
  },
  {
   "cell_type": "markdown",
   "metadata": {},
   "source": [
    "### Epitran G2P"
   ]
  },
  {
   "cell_type": "code",
   "execution_count": 15,
   "metadata": {},
   "outputs": [
    {
     "name": "stdout",
     "output_type": "stream",
     "text": [
      "INFO: Pandarallel will run on 4 workers.\n",
      "INFO: Pandarallel will use Memory file system to transfer data between the main process and workers.\n"
     ]
    }
   ],
   "source": [
    "from pandarallel import pandarallel\n",
    "import epitran\n",
    "\n",
    "pandarallel.initialize(progress_bar=False)\n",
    "\n",
    "def epitran_g2p(text, epi):\n",
    "    \"\"\"\n",
    "    Roda e pré-processa g2p do epitran para uma frase\n",
    "    \"\"\"\n",
    "    return epi.transliterate(u'{}'.format(text))"
   ]
  },
  {
   "cell_type": "code",
   "execution_count": 16,
   "metadata": {},
   "outputs": [],
   "source": [
    "epi = epitran.Epitran('por-Latn')"
   ]
  },
  {
   "cell_type": "code",
   "execution_count": 17,
   "metadata": {},
   "outputs": [
    {
     "data": {
      "text/plain": [
       "43758           pɐko\n",
       "12375    kɐʃko-pɾɛto\n",
       "44434          pɐɾɡo\n",
       "46213          piʃtõ\n",
       "51375      ʁɛɡɐtɛjɾɐ\n",
       "Name: epitran_pronunciation, dtype: object"
      ]
     },
     "execution_count": 17,
     "metadata": {},
     "output_type": "execute_result"
    }
   ],
   "source": [
    "df_val['epitran_pronunciation'] = df_val.parallel_apply(lambda row: epitran_g2p(row['word_clean'], epi), axis=1) # too slow\n",
    "df_val['epitran_pronunciation'].head()"
   ]
  },
  {
   "cell_type": "code",
   "execution_count": 18,
   "metadata": {},
   "outputs": [
    {
     "data": {
      "text/plain": [
       "43758          pɐko\n",
       "12375    kɐʃkopɾɛto\n",
       "44434         pɐɾɡo\n",
       "46213         piʃtõ\n",
       "51375     ʁɛɡɐtɛjɾɐ\n",
       "Name: epitran_pronunciation_clean, dtype: object"
      ]
     },
     "execution_count": 18,
     "metadata": {},
     "output_type": "execute_result"
    }
   ],
   "source": [
    "df_val['epitran_pronunciation_clean'] = df_val['epitran_pronunciation'].apply(lambda v: v.replace('-', ''))\n",
    "df_val['epitran_pronunciation_clean'].head()"
   ]
  },
  {
   "cell_type": "markdown",
   "metadata": {},
   "source": [
    "### Read G2P transcripts"
   ]
  },
  {
   "cell_type": "code",
   "execution_count": 19,
   "metadata": {},
   "outputs": [],
   "source": [
    "import subprocess\n",
    "from phonecodes.src.phonecodes import xsampa2ipa\n",
    "\n",
    "def translate_xsampa(text):\n",
    "    \"\"\"\n",
    "    Transforma XSAMPA para IPA (saída do falabrasil é em XSAMPA)\n",
    "    \"\"\"\n",
    "    return ' '.join('_'.join(xsampa2ipa(char, 'por-BR') for char in word.split('_')) for word in text.split())"
   ]
  },
  {
   "cell_type": "code",
   "execution_count": 20,
   "metadata": {},
   "outputs": [],
   "source": [
    "def clean_espeak_transcript(transcript):\n",
    "    transcript = transcript.strip().replace('ɾ_ə', 'ɾ')\n",
    "    return re.sub('__(a_ɡ_u_d_ʊ|s_i_r_k_ũ_ŋ_f_l_ɛ_k_s_ʊ|ɡ_r_a_v_i|tʃ_iʊ)_', '', transcript).replace('_', '')\n",
    "\n",
    "def remove_whitespaces(transcript):\n",
    "    return translate_xsampa(transcript).replace(' ', '')"
   ]
  },
  {
   "cell_type": "code",
   "execution_count": 21,
   "metadata": {
    "scrolled": true
   },
   "outputs": [
    {
     "data": {
      "text/html": [
       "<div>\n",
       "<style scoped>\n",
       "    .dataframe tbody tr th:only-of-type {\n",
       "        vertical-align: middle;\n",
       "    }\n",
       "\n",
       "    .dataframe tbody tr th {\n",
       "        vertical-align: top;\n",
       "    }\n",
       "\n",
       "    .dataframe thead th {\n",
       "        text-align: right;\n",
       "    }\n",
       "</style>\n",
       "<table border=\"1\" class=\"dataframe\">\n",
       "  <thead>\n",
       "    <tr style=\"text-align: right;\">\n",
       "      <th></th>\n",
       "      <th>word_clean</th>\n",
       "      <th>espeak_pronunciation</th>\n",
       "    </tr>\n",
       "  </thead>\n",
       "  <tbody>\n",
       "    <tr>\n",
       "      <th>0</th>\n",
       "      <td>pacho</td>\n",
       "      <td>p_a_ʃ_ʊ</td>\n",
       "    </tr>\n",
       "    <tr>\n",
       "      <th>1</th>\n",
       "      <td>chasco-preto</td>\n",
       "      <td>ʃ_a_s_k_ʊ_p_r_e_t_ʊ</td>\n",
       "    </tr>\n",
       "    <tr>\n",
       "      <th>2</th>\n",
       "      <td>pargo</td>\n",
       "      <td>p_a_ɾ_ə_ɡ_ʊ</td>\n",
       "    </tr>\n",
       "    <tr>\n",
       "      <th>3</th>\n",
       "      <td>pistom</td>\n",
       "      <td>p_i_s_t_o_ŋ</td>\n",
       "    </tr>\n",
       "    <tr>\n",
       "      <th>4</th>\n",
       "      <td>regateira</td>\n",
       "      <td>x_e_ɡ_a_t_eɪ_ɾ_æ</td>\n",
       "    </tr>\n",
       "  </tbody>\n",
       "</table>\n",
       "</div>"
      ],
      "text/plain": [
       "     word_clean  espeak_pronunciation\n",
       "0         pacho               p_a_ʃ_ʊ\n",
       "1  chasco-preto   ʃ_a_s_k_ʊ_p_r_e_t_ʊ\n",
       "2         pargo           p_a_ɾ_ə_ɡ_ʊ\n",
       "3        pistom           p_i_s_t_o_ŋ\n",
       "4     regateira      x_e_ɡ_a_t_eɪ_ɾ_æ"
      ]
     },
     "execution_count": 21,
     "metadata": {},
     "output_type": "execute_result"
    }
   ],
   "source": [
    "df_espeak = pd.read_csv('pronunciations/pronunciation_sp_val_espeak.csv', header=None)\n",
    "df_espeak.columns = ['word_clean', 'espeak_pronunciation']\n",
    "df_espeak.head()"
   ]
  },
  {
   "cell_type": "code",
   "execution_count": 22,
   "metadata": {},
   "outputs": [
    {
     "data": {
      "text/plain": [
       "0          paʃʊ\n",
       "1    ʃaskʊpretʊ\n",
       "2         paɾɡʊ\n",
       "3        pistoŋ\n",
       "4     xeɡateɪɾæ\n",
       "Name: espeak_pronunciation_clean, dtype: object"
      ]
     },
     "execution_count": 22,
     "metadata": {},
     "output_type": "execute_result"
    }
   ],
   "source": [
    "df_espeak['espeak_pronunciation_clean'] = df_espeak['espeak_pronunciation'].apply(clean_espeak_transcript)\n",
    "df_espeak['espeak_pronunciation_clean'].head()"
   ]
  },
  {
   "cell_type": "code",
   "execution_count": 23,
   "metadata": {
    "scrolled": true
   },
   "outputs": [
    {
     "data": {
      "text/html": [
       "<div>\n",
       "<style scoped>\n",
       "    .dataframe tbody tr th:only-of-type {\n",
       "        vertical-align: middle;\n",
       "    }\n",
       "\n",
       "    .dataframe tbody tr th {\n",
       "        vertical-align: top;\n",
       "    }\n",
       "\n",
       "    .dataframe thead th {\n",
       "        text-align: right;\n",
       "    }\n",
       "</style>\n",
       "<table border=\"1\" class=\"dataframe\">\n",
       "  <thead>\n",
       "    <tr style=\"text-align: right;\">\n",
       "      <th></th>\n",
       "      <th>word_clean</th>\n",
       "      <th>falabrasil_pronunciation</th>\n",
       "    </tr>\n",
       "  </thead>\n",
       "  <tbody>\n",
       "    <tr>\n",
       "      <th>0</th>\n",
       "      <td>pacho</td>\n",
       "      <td>p a S  u</td>\n",
       "    </tr>\n",
       "    <tr>\n",
       "      <th>1</th>\n",
       "      <td>chasco-preto</td>\n",
       "      <td>S  a s k u  p r e t u</td>\n",
       "    </tr>\n",
       "    <tr>\n",
       "      <th>2</th>\n",
       "      <td>pargo</td>\n",
       "      <td>p a R g u</td>\n",
       "    </tr>\n",
       "    <tr>\n",
       "      <th>3</th>\n",
       "      <td>pistom</td>\n",
       "      <td>p i s t o~</td>\n",
       "    </tr>\n",
       "    <tr>\n",
       "      <th>4</th>\n",
       "      <td>regateira</td>\n",
       "      <td>R e g a t e j  r a</td>\n",
       "    </tr>\n",
       "  </tbody>\n",
       "</table>\n",
       "</div>"
      ],
      "text/plain": [
       "     word_clean falabrasil_pronunciation\n",
       "0         pacho                 p a S  u\n",
       "1  chasco-preto    S  a s k u  p r e t u\n",
       "2         pargo                p a R g u\n",
       "3        pistom               p i s t o~\n",
       "4     regateira       R e g a t e j  r a"
      ]
     },
     "execution_count": 23,
     "metadata": {},
     "output_type": "execute_result"
    }
   ],
   "source": [
    "df_falabrasil = pd.read_csv('pronunciations/pronunciation_sp_val_falabrasil.csv', header=None)\n",
    "df_falabrasil.columns = ['word_clean', 'falabrasil_pronunciation']\n",
    "df_falabrasil.head()"
   ]
  },
  {
   "cell_type": "code",
   "execution_count": 24,
   "metadata": {
    "scrolled": true
   },
   "outputs": [
    {
     "data": {
      "text/plain": [
       "0          paʃu\n",
       "1    ʃaskupretu\n",
       "2         paʁɡu\n",
       "3        pistõ\n",
       "4     ʁeɡatejra\n",
       "Name: falabrasil_pronunciation_clean, dtype: object"
      ]
     },
     "execution_count": 24,
     "metadata": {},
     "output_type": "execute_result"
    }
   ],
   "source": [
    "df_falabrasil['falabrasil_pronunciation_clean'] = df_falabrasil['falabrasil_pronunciation'].apply(remove_whitespaces)\n",
    "df_falabrasil['falabrasil_pronunciation_clean'].head()"
   ]
  },
  {
   "cell_type": "code",
   "execution_count": 25,
   "metadata": {},
   "outputs": [
    {
     "data": {
      "text/html": [
       "<div>\n",
       "<style scoped>\n",
       "    .dataframe tbody tr th:only-of-type {\n",
       "        vertical-align: middle;\n",
       "    }\n",
       "\n",
       "    .dataframe tbody tr th {\n",
       "        vertical-align: top;\n",
       "    }\n",
       "\n",
       "    .dataframe thead th {\n",
       "        text-align: right;\n",
       "    }\n",
       "</style>\n",
       "<table border=\"1\" class=\"dataframe\">\n",
       "  <thead>\n",
       "    <tr style=\"text-align: right;\">\n",
       "      <th></th>\n",
       "      <th>word_clean</th>\n",
       "      <th>phonetisaurus_pronunciation</th>\n",
       "    </tr>\n",
       "  </thead>\n",
       "  <tbody>\n",
       "    <tr>\n",
       "      <th>0</th>\n",
       "      <td>pacho</td>\n",
       "      <td>p a ʃ o</td>\n",
       "    </tr>\n",
       "    <tr>\n",
       "      <th>1</th>\n",
       "      <td>chasco-preto</td>\n",
       "      <td>ʃ a s k o p ʁ e t o</td>\n",
       "    </tr>\n",
       "    <tr>\n",
       "      <th>2</th>\n",
       "      <td>pargo</td>\n",
       "      <td>p a ʁ g o</td>\n",
       "    </tr>\n",
       "    <tr>\n",
       "      <th>3</th>\n",
       "      <td>pistom</td>\n",
       "      <td>p i s t o m</td>\n",
       "    </tr>\n",
       "    <tr>\n",
       "      <th>4</th>\n",
       "      <td>regateira</td>\n",
       "      <td>ʁ e g a t e i ʁ a</td>\n",
       "    </tr>\n",
       "  </tbody>\n",
       "</table>\n",
       "</div>"
      ],
      "text/plain": [
       "     word_clean phonetisaurus_pronunciation\n",
       "0         pacho                     p a ʃ o\n",
       "1  chasco-preto         ʃ a s k o p ʁ e t o\n",
       "2         pargo                   p a ʁ g o\n",
       "3        pistom                 p i s t o m\n",
       "4     regateira           ʁ e g a t e i ʁ a"
      ]
     },
     "execution_count": 25,
     "metadata": {},
     "output_type": "execute_result"
    }
   ],
   "source": [
    "df_phonetisaurus = pd.read_csv('pronunciations/pronunciation_sp_val_phonetisaurus.csv', header=None)\n",
    "df_phonetisaurus.columns = ['word_clean', 'phonetisaurus_pronunciation']\n",
    "df_phonetisaurus.head()"
   ]
  },
  {
   "cell_type": "code",
   "execution_count": 26,
   "metadata": {},
   "outputs": [
    {
     "data": {
      "text/plain": [
       "0          paʃo\n",
       "1    ʃaskopʁeto\n",
       "2         paʁɡo\n",
       "3        pistom\n",
       "4     ʁeɡateiʁa\n",
       "Name: phonetisaurus_pronunciation_clean, dtype: object"
      ]
     },
     "execution_count": 26,
     "metadata": {},
     "output_type": "execute_result"
    }
   ],
   "source": [
    "df_phonetisaurus['phonetisaurus_pronunciation_clean'] = df_phonetisaurus['phonetisaurus_pronunciation'].\\\n",
    "apply(lambda v: v.replace('ˈ', '')).apply(remove_whitespaces)\n",
    "df_phonetisaurus['phonetisaurus_pronunciation_clean'].head()"
   ]
  },
  {
   "cell_type": "code",
   "execution_count": 27,
   "metadata": {},
   "outputs": [
    {
     "data": {
      "text/html": [
       "<div>\n",
       "<style scoped>\n",
       "    .dataframe tbody tr th:only-of-type {\n",
       "        vertical-align: middle;\n",
       "    }\n",
       "\n",
       "    .dataframe tbody tr th {\n",
       "        vertical-align: top;\n",
       "    }\n",
       "\n",
       "    .dataframe thead th {\n",
       "        text-align: right;\n",
       "    }\n",
       "</style>\n",
       "<table border=\"1\" class=\"dataframe\">\n",
       "  <thead>\n",
       "    <tr style=\"text-align: right;\">\n",
       "      <th></th>\n",
       "      <th>word</th>\n",
       "      <th>category</th>\n",
       "      <th>pronunciation</th>\n",
       "      <th>pronunciation_clean</th>\n",
       "      <th>word_clean</th>\n",
       "      <th>epitran_pronunciation</th>\n",
       "      <th>epitran_pronunciation_clean</th>\n",
       "      <th>espeak_pronunciation</th>\n",
       "      <th>espeak_pronunciation_clean</th>\n",
       "      <th>falabrasil_pronunciation</th>\n",
       "      <th>falabrasil_pronunciation_clean</th>\n",
       "      <th>phonetisaurus_pronunciation</th>\n",
       "      <th>phonetisaurus_pronunciation_clean</th>\n",
       "    </tr>\n",
       "  </thead>\n",
       "  <tbody>\n",
       "    <tr>\n",
       "      <th>0</th>\n",
       "      <td>pa·cho</td>\n",
       "      <td>nome masculino</td>\n",
       "      <td>pˈa.ʃʊ</td>\n",
       "      <td>paʃʊ</td>\n",
       "      <td>pacho</td>\n",
       "      <td>pɐko</td>\n",
       "      <td>pɐko</td>\n",
       "      <td>p_a_ʃ_ʊ</td>\n",
       "      <td>paʃʊ</td>\n",
       "      <td>p a S  u</td>\n",
       "      <td>paʃu</td>\n",
       "      <td>p a ʃ o</td>\n",
       "      <td>paʃo</td>\n",
       "    </tr>\n",
       "    <tr>\n",
       "      <th>1</th>\n",
       "      <td>chas·co-pre·to</td>\n",
       "      <td>nome masculino</td>\n",
       "      <td>ʃˌas.kʊ.pɾˈe.tʊ</td>\n",
       "      <td>ʃaskʊpɾetʊ</td>\n",
       "      <td>chasco-preto</td>\n",
       "      <td>kɐʃko-pɾɛto</td>\n",
       "      <td>kɐʃkopɾɛto</td>\n",
       "      <td>ʃ_a_s_k_ʊ_p_r_e_t_ʊ</td>\n",
       "      <td>ʃaskʊpretʊ</td>\n",
       "      <td>S  a s k u  p r e t u</td>\n",
       "      <td>ʃaskupretu</td>\n",
       "      <td>ʃ a s k o p ʁ e t o</td>\n",
       "      <td>ʃaskopʁeto</td>\n",
       "    </tr>\n",
       "    <tr>\n",
       "      <th>2</th>\n",
       "      <td>par·go</td>\n",
       "      <td>nome masculino</td>\n",
       "      <td>pˈaɾ.gʊ</td>\n",
       "      <td>paɾgʊ</td>\n",
       "      <td>pargo</td>\n",
       "      <td>pɐɾɡo</td>\n",
       "      <td>pɐɾɡo</td>\n",
       "      <td>p_a_ɾ_ə_ɡ_ʊ</td>\n",
       "      <td>paɾɡʊ</td>\n",
       "      <td>p a R g u</td>\n",
       "      <td>paʁɡu</td>\n",
       "      <td>p a ʁ g o</td>\n",
       "      <td>paʁɡo</td>\n",
       "    </tr>\n",
       "    <tr>\n",
       "      <th>3</th>\n",
       "      <td>pis·tom</td>\n",
       "      <td>nome masculino</td>\n",
       "      <td>pis.tˈõ</td>\n",
       "      <td>pistõ</td>\n",
       "      <td>pistom</td>\n",
       "      <td>piʃtõ</td>\n",
       "      <td>piʃtõ</td>\n",
       "      <td>p_i_s_t_o_ŋ</td>\n",
       "      <td>pistoŋ</td>\n",
       "      <td>p i s t o~</td>\n",
       "      <td>pistõ</td>\n",
       "      <td>p i s t o m</td>\n",
       "      <td>pistom</td>\n",
       "    </tr>\n",
       "    <tr>\n",
       "      <th>4</th>\n",
       "      <td>re·ga·tei·ra</td>\n",
       "      <td>nome feminino</td>\n",
       "      <td>xe.ga.tˈej.ɾə</td>\n",
       "      <td>xegatejɾə</td>\n",
       "      <td>regateira</td>\n",
       "      <td>ʁɛɡɐtɛjɾɐ</td>\n",
       "      <td>ʁɛɡɐtɛjɾɐ</td>\n",
       "      <td>x_e_ɡ_a_t_eɪ_ɾ_æ</td>\n",
       "      <td>xeɡateɪɾæ</td>\n",
       "      <td>R e g a t e j  r a</td>\n",
       "      <td>ʁeɡatejra</td>\n",
       "      <td>ʁ e g a t e i ʁ a</td>\n",
       "      <td>ʁeɡateiʁa</td>\n",
       "    </tr>\n",
       "  </tbody>\n",
       "</table>\n",
       "</div>"
      ],
      "text/plain": [
       "             word        category    pronunciation pronunciation_clean  \\\n",
       "0          pa·cho  nome masculino           pˈa.ʃʊ                paʃʊ   \n",
       "1  chas·co-pre·to  nome masculino  ʃˌas.kʊ.pɾˈe.tʊ          ʃaskʊpɾetʊ   \n",
       "2          par·go  nome masculino          pˈaɾ.gʊ               paɾgʊ   \n",
       "3         pis·tom  nome masculino         pis.tˈõ              pistõ   \n",
       "4    re·ga·tei·ra   nome feminino    xe.ga.tˈej.ɾə           xegatejɾə   \n",
       "\n",
       "     word_clean epitran_pronunciation epitran_pronunciation_clean  \\\n",
       "0         pacho                  pɐko                        pɐko   \n",
       "1  chasco-preto           kɐʃko-pɾɛto                  kɐʃkopɾɛto   \n",
       "2         pargo                 pɐɾɡo                       pɐɾɡo   \n",
       "3        pistom                 piʃtõ                       piʃtõ   \n",
       "4     regateira             ʁɛɡɐtɛjɾɐ                   ʁɛɡɐtɛjɾɐ   \n",
       "\n",
       "   espeak_pronunciation espeak_pronunciation_clean falabrasil_pronunciation  \\\n",
       "0               p_a_ʃ_ʊ                       paʃʊ                 p a S  u   \n",
       "1   ʃ_a_s_k_ʊ_p_r_e_t_ʊ                 ʃaskʊpretʊ    S  a s k u  p r e t u   \n",
       "2           p_a_ɾ_ə_ɡ_ʊ                      paɾɡʊ                p a R g u   \n",
       "3           p_i_s_t_o_ŋ                     pistoŋ               p i s t o~   \n",
       "4      x_e_ɡ_a_t_eɪ_ɾ_æ                  xeɡateɪɾæ       R e g a t e j  r a   \n",
       "\n",
       "  falabrasil_pronunciation_clean phonetisaurus_pronunciation  \\\n",
       "0                           paʃu                     p a ʃ o   \n",
       "1                     ʃaskupretu         ʃ a s k o p ʁ e t o   \n",
       "2                          paʁɡu                   p a ʁ g o   \n",
       "3                         pistõ                 p i s t o m   \n",
       "4                      ʁeɡatejra           ʁ e g a t e i ʁ a   \n",
       "\n",
       "  phonetisaurus_pronunciation_clean  \n",
       "0                              paʃo  \n",
       "1                        ʃaskopʁeto  \n",
       "2                             paʁɡo  \n",
       "3                            pistom  \n",
       "4                         ʁeɡateiʁa  "
      ]
     },
     "execution_count": 27,
     "metadata": {},
     "output_type": "execute_result"
    }
   ],
   "source": [
    "df_val = pd.merge(df_val, df_espeak, left_on='word_clean', right_on='word_clean')\n",
    "df_val = pd.merge(df_val, df_falabrasil, left_on='word_clean', right_on='word_clean')\n",
    "df_val = pd.merge(df_val, df_phonetisaurus, left_on='word_clean', right_on='word_clean')\n",
    "df_val.head()"
   ]
  },
  {
   "cell_type": "markdown",
   "metadata": {},
   "source": [
    "## CER analysis"
   ]
  },
  {
   "cell_type": "code",
   "execution_count": 29,
   "metadata": {
    "scrolled": true
   },
   "outputs": [],
   "source": [
    "from jiwer import cer"
   ]
  },
  {
   "cell_type": "code",
   "execution_count": 30,
   "metadata": {},
   "outputs": [],
   "source": [
    "def get_cer_df(df, ref_col, cols):\n",
    "    d = {}\n",
    "    for col in cols:\n",
    "        d[col] = cer(df[ref_col].tolist(), df[col].tolist())\n",
    "    return d"
   ]
  },
  {
   "cell_type": "code",
   "execution_count": 31,
   "metadata": {},
   "outputs": [],
   "source": [
    "cols = [\n",
    "    'espeak_pronunciation_clean', \n",
    "    'falabrasil_pronunciation_clean', \n",
    "    'epitran_pronunciation_clean', \n",
    "    'phonetisaurus_pronunciation_clean'\n",
    "]\n",
    "\n",
    "cols_with_ref = ['pronunciation_clean'] + cols\n",
    "df_val[cols_with_ref] = df_val[cols_with_ref].applymap(lambda v: PString(v))"
   ]
  },
  {
   "cell_type": "code",
   "execution_count": 32,
   "metadata": {},
   "outputs": [
    {
     "name": "stdout",
     "output_type": "stream",
     "text": [
      "espeak_pronunciation_clean           0.295518\n",
      "falabrasil_pronunciation_clean       0.265309\n",
      "epitran_pronunciation_clean          0.518693\n",
      "phonetisaurus_pronunciation_clean    0.442504\n",
      "dtype: float64\n"
     ]
    }
   ],
   "source": [
    "cer_s = pd.Series(get_cer_df(df_val, 'pronunciation_clean', cols))\n",
    "print(cer_s)"
   ]
  },
  {
   "cell_type": "code",
   "execution_count": 33,
   "metadata": {},
   "outputs": [
    {
     "name": "stdout",
     "output_type": "stream",
     "text": [
      "Number of chars and chars list:\n",
      "espeak: 39 ['p' 'a' 'ʃ' 'ʊ' 's' 'k' 'r' 'e' 't' 'ɾ' 'ɡ' 'i' 'o' 'ŋ' 'x' 'ɪ' 'æ' 'b'\n",
      " 'l' 'd' 'dʒ' 'y' 'ɐ̃' 'm' 'z' 'ʒ' 'tʃ' 'u' 'v' 'ʊ̃' 'ɔ' 'f' 'n' 'ɛ' 'ɲ'\n",
      " 'w' 'j' 'ũ' 'õ']\n",
      "falabrasil: 38 ['p' 'a' 'ʃ' 'u' 's' 'k' 'r' 'e' 't' 'ʁ' 'ɡ' 'i' 'õ' 'j' 'ẽ' 'b' 'l' 'd'\n",
      " 'dʒ' 'ã' 'm' 'ɛ' 'o' 'χ' 'z' 'ʒ' 'w' 'tʃ' 'ĩ' 'v' 'ũ' 'w̃' 'f' 'n' 'ɲ'\n",
      " 'ɔ' 'ʎ' 'j̃']\n",
      "epitran: 42 ['p' 'ɐ' 'k' 'o' 'ʃ' 'ɾ' 'ɛ' 't' 'ɡ' 'i' 'õ' 'ʁ' 'j' 'n' 'b' 'l' 'd' 'm'\n",
      " 'z' 'ʒ' 'a' 'w' 'u' 'v' 's' 'ɐ̃' 'w̃' 'f' 'kʷ' 'e' 'ɔ' 'j́' 'ɛ̃' 'ɡʷ' 'ẽ'\n",
      " 'ĩ' 'dʒ' 'lʒ' 'ẃ' 'ɡ̃' 'j̃' 'ũ']\n",
      "phonetisaurus 34 ['p' 'a' 'ʃ' 'o' 's' 'k' 'ʁ' 'e' 't' 'ɡ' 'i' 'm' 'n' 'b' 'ɫ' 'd' 'ʒ' 'u'\n",
      " 'z' 'v' 'ɐ̃' 'f' 'ɲ' 'ʎ' 'ɛ' 'ã' 'ɔ' 'ẽ' 'õ' 'dʒ' 'ʀ' 'ɾ' 'õ' 'w']\n"
     ]
    }
   ],
   "source": [
    "espeak_list = get_chars_list(df_val['espeak_pronunciation_clean'])\n",
    "falabrasil_list = get_chars_list(df_val['falabrasil_pronunciation_clean'])\n",
    "epitran_list = get_chars_list(df_val['epitran_pronunciation_clean'])\n",
    "phonetisaurus_list = get_chars_list(df_val['phonetisaurus_pronunciation_clean'])\n",
    "\n",
    "print('Number of chars and chars list:')\n",
    "print(f'espeak: {len(espeak_list)} {espeak_list}')\n",
    "print(f'falabrasil: {len(falabrasil_list)} {falabrasil_list}')\n",
    "print(f'epitran: {len(epitran_list)} {epitran_list}')\n",
    "print(f'phonetisaurus {len(phonetisaurus_list)} {phonetisaurus_list}')"
   ]
  },
  {
   "cell_type": "code",
   "execution_count": 34,
   "metadata": {},
   "outputs": [
    {
     "name": "stdout",
     "output_type": "stream",
     "text": [
      "falabrasil (X-SAMPA): 38 ['p' 'a' 'S' 'u' 's' 'k' 'r' 'e' 't' 'R' 'g' 'i' 'o~' 'j' 'e~' 'b' 'l' 'd'\n",
      " 'dZ' 'a~' 'm' 'E' 'o' 'X' 'z' 'Z' 'w' 'tS' 'i~' 'v' 'u~' 'w~' 'f' 'n' 'J'\n",
      " 'O' 'L' 'j~']\n"
     ]
    }
   ],
   "source": [
    "falabrasil_xsampa = get_chars_list(df_falabrasil['falabrasil_pronunciation'].apply(str.split))\n",
    "print('falabrasil (X-SAMPA):', len(falabrasil_xsampa), falabrasil_xsampa)"
   ]
  },
  {
   "cell_type": "code",
   "execution_count": 35,
   "metadata": {},
   "outputs": [
    {
     "name": "stdout",
     "output_type": "stream",
     "text": [
      "reference tokens: 41 ['p', 'b', 't', 'd', 'k', 'ɡ', 'tʃ', 'dʒ', 'f', 'v', 's', 'z', 'ʃ', 'ʒ', 'χ', 'ɣ', 'h', 'ɦ', 'm', 'n', 'ɲ', 'ɾ', 'r', 'ɹ', 'l', 'ʎ', 'i', 'ĩ', 'ɪ', 'e', 'ẽ', 'ɛ', 'ə', 'ã', 'a', 'ʊ', 'ũ', 'u', 'õ', 'o', 'ɔ']\n",
      "dictionnary tokens: 45 ['a' 'b' 'e' 's' 'p' 'ɾ' 'o' 'ɔ' 'z' 'i' 't' 'ʊ' 'v' 'õ' 'dʒ' 'w' 'x'\n",
      " 'tʃ' 'g' 'd' 'j' 'ə' 'k' 'ə̃' 'ʃ' 'ʒ' 'f' 'm' 'ẽ' 'n' 'u' 'l' 'r' 'ʎ'\n",
      " 'ɛ' 'ɛ̃' 'ɲ' 'ũ' 'ĩ' 'ɨ' 'ɐ̃' 'h' 'ŋ' 'ɫ' 'ɔ̃']\n"
     ]
    }
   ],
   "source": [
    "reference_tokens = ['p', 'b', 't', 'd', 'k', 'ɡ', 'tʃ', 'dʒ', 'f', 'v', 's', 'z', 'ʃ', 'ʒ', \n",
    "                    'χ', 'ɣ', 'h', 'ɦ', 'm', 'n', 'ɲ', 'ɾ', 'r', 'ɹ', 'l', 'ʎ',\n",
    "                   'i', 'ĩ', 'ɪ', 'e', 'ẽ', 'ɛ', 'ə', 'ã', 'a', 'ʊ', 'ũ', 'u', 'õ', 'o', 'ɔ']\n",
    "print(f'reference tokens: {len(reference_tokens)} {reference_tokens}')\n",
    "print(f'dictionnary tokens: {len(tokens)} {tokens}')"
   ]
  },
  {
   "cell_type": "code",
   "execution_count": 36,
   "metadata": {},
   "outputs": [
    {
     "name": "stdout",
     "output_type": "stream",
     "text": [
      "dictionnary tokens not in reference: {'ɐ̃', 'ə̃', 'ɛ̃', 'ɫ', 'j', 'w', 'x', 'ŋ', 'ɔ̃', 'õ', 'ɨ', 'g'}\n",
      "espeak tokens not in reference: {'ɐ̃', 'æ', 'y', 'ʊ̃', 'j', 'w', 'x', 'ŋ', 'õ'}\n",
      "falabrasil tokens not in reference: {'ʁ', 'w̃', 'j̃', 'j', 'w', 'ã', 'õ'}\n",
      "epitran tokens not in reference: {'ʁ', 'j́', 'ɡ̃', 'ɐ̃', 'kʷ', 'ẃ', 'w̃', 'ũ', 'ɛ̃', 'ɐ', 'ẽ', 'j', 'ɡʷ', 'w', 'lʒ', 'j̃', 'ĩ'}\n",
      "phonetisaurus tokens not in reference: {'ʁ', 'ɐ̃', 'ʀ', 'ɫ', 'w', 'õ'}\n"
     ]
    }
   ],
   "source": [
    "print(f'dictionnary tokens not in reference: {set(tokens) - set(reference_tokens)}')\n",
    "print(f'espeak tokens not in reference: {set(espeak_list) - set(reference_tokens)}')\n",
    "print(f'falabrasil tokens not in reference: {set(falabrasil_list) - set(reference_tokens)}')\n",
    "print(f'epitran tokens not in reference: {set(epitran_list) - set(reference_tokens)}')\n",
    "print(f'phonetisaurus tokens not in reference: {set(phonetisaurus_list) - set(reference_tokens)}')"
   ]
  },
  {
   "cell_type": "markdown",
   "metadata": {},
   "source": [
    "### Mapping of phonemes"
   ]
  },
  {
   "cell_type": "code",
   "execution_count": 37,
   "metadata": {},
   "outputs": [],
   "source": [
    "def simplify(c):\n",
    "    d = {\n",
    "        'w': 'ʊ',\n",
    "        'ŋ': 'n',\n",
    "        'j': 'ɪ',\n",
    "        'ɨ': 'i',\n",
    "        'ə̃': 'ã',\n",
    "        'ɐ̃': 'ã',\n",
    "        'ɛ̃': 'ẽ', \n",
    "        'ɔ̃': 'õ',\n",
    "        'x': 'χ',\n",
    "        'g': 'ɡ',\n",
    "        'y': 'i',\n",
    "        'æ': 'a',\n",
    "        'w̃': 'ʊ̃',\n",
    "        'j̃': 'ɪ',\n",
    "        'ʁ': 'χ',\n",
    "        'ã': 'ã',\n",
    "        'ʀ': 'χ',\n",
    "        'õ': 'õ',\n",
    "        'j́': 'ɪ',\n",
    "        'ĩ': 'ĩ',\n",
    "        'ɡʷ': 'ɡ',\n",
    "        'kʷ': 'k',\n",
    "        'ẃ': 'u',\n",
    "        'lʲ': 'ʎ',\n",
    "        'ỹ': 'ɲ',\n",
    "        'ɫ': 'l',\n",
    "    }\n",
    "    try:\n",
    "        return d[c]\n",
    "    except KeyError:\n",
    "        return c"
   ]
  },
  {
   "cell_type": "code",
   "execution_count": 38,
   "metadata": {
    "scrolled": true
   },
   "outputs": [
    {
     "data": {
      "text/html": [
       "<div>\n",
       "<style scoped>\n",
       "    .dataframe tbody tr th:only-of-type {\n",
       "        vertical-align: middle;\n",
       "    }\n",
       "\n",
       "    .dataframe tbody tr th {\n",
       "        vertical-align: top;\n",
       "    }\n",
       "\n",
       "    .dataframe thead th {\n",
       "        text-align: right;\n",
       "    }\n",
       "</style>\n",
       "<table border=\"1\" class=\"dataframe\">\n",
       "  <thead>\n",
       "    <tr style=\"text-align: right;\">\n",
       "      <th></th>\n",
       "      <th>pronunciation_clean</th>\n",
       "      <th>espeak_pronunciation_clean</th>\n",
       "      <th>falabrasil_pronunciation_clean</th>\n",
       "      <th>epitran_pronunciation_clean</th>\n",
       "      <th>phonetisaurus_pronunciation_clean</th>\n",
       "    </tr>\n",
       "  </thead>\n",
       "  <tbody>\n",
       "    <tr>\n",
       "      <th>0</th>\n",
       "      <td>paʃʊ</td>\n",
       "      <td>paʃʊ</td>\n",
       "      <td>paʃu</td>\n",
       "      <td>pɐko</td>\n",
       "      <td>paʃo</td>\n",
       "    </tr>\n",
       "    <tr>\n",
       "      <th>1</th>\n",
       "      <td>ʃaskʊpɾetʊ</td>\n",
       "      <td>ʃaskʊpretʊ</td>\n",
       "      <td>ʃaskupretu</td>\n",
       "      <td>kɐʃkopɾɛto</td>\n",
       "      <td>ʃaskopχeto</td>\n",
       "    </tr>\n",
       "    <tr>\n",
       "      <th>2</th>\n",
       "      <td>paɾɡʊ</td>\n",
       "      <td>paɾɡʊ</td>\n",
       "      <td>paχɡu</td>\n",
       "      <td>pɐɾɡo</td>\n",
       "      <td>paχɡo</td>\n",
       "    </tr>\n",
       "    <tr>\n",
       "      <th>3</th>\n",
       "      <td>pistõ</td>\n",
       "      <td>piston</td>\n",
       "      <td>pistõ</td>\n",
       "      <td>piʃtõ</td>\n",
       "      <td>pistom</td>\n",
       "    </tr>\n",
       "    <tr>\n",
       "      <th>4</th>\n",
       "      <td>χeɡateɪɾə</td>\n",
       "      <td>χeɡateɪɾa</td>\n",
       "      <td>χeɡateɪra</td>\n",
       "      <td>χɛɡɐtɛɪɾɐ</td>\n",
       "      <td>χeɡateiχa</td>\n",
       "    </tr>\n",
       "  </tbody>\n",
       "</table>\n",
       "</div>"
      ],
      "text/plain": [
       "  pronunciation_clean espeak_pronunciation_clean  \\\n",
       "0                paʃʊ                       paʃʊ   \n",
       "1          ʃaskʊpɾetʊ                 ʃaskʊpretʊ   \n",
       "2               paɾɡʊ                      paɾɡʊ   \n",
       "3               pistõ                     piston   \n",
       "4           χeɡateɪɾə                  χeɡateɪɾa   \n",
       "\n",
       "  falabrasil_pronunciation_clean epitran_pronunciation_clean  \\\n",
       "0                           paʃu                        pɐko   \n",
       "1                     ʃaskupretu                  kɐʃkopɾɛto   \n",
       "2                          paχɡu                       pɐɾɡo   \n",
       "3                          pistõ                       piʃtõ   \n",
       "4                      χeɡateɪra                   χɛɡɐtɛɪɾɐ   \n",
       "\n",
       "  phonetisaurus_pronunciation_clean  \n",
       "0                              paʃo  \n",
       "1                        ʃaskopχeto  \n",
       "2                             paχɡo  \n",
       "3                            pistom  \n",
       "4                         χeɡateiχa  "
      ]
     },
     "execution_count": 38,
     "metadata": {},
     "output_type": "execute_result"
    }
   ],
   "source": [
    "df_val[cols_with_ref] = df_val[cols_with_ref].applymap(lambda v: ''.join(list(map(simplify, v))))\n",
    "df_val[cols_with_ref].head()"
   ]
  },
  {
   "cell_type": "code",
   "execution_count": 39,
   "metadata": {},
   "outputs": [
    {
     "name": "stdout",
     "output_type": "stream",
     "text": [
      "espeak_pronunciation_clean           0.183902\n",
      "falabrasil_pronunciation_clean       0.212163\n",
      "epitran_pronunciation_clean          0.459288\n",
      "phonetisaurus_pronunciation_clean    0.348186\n",
      "dtype: float64\n"
     ]
    }
   ],
   "source": [
    "new_cer_s = pd.Series(get_cer_df(df_val, 'pronunciation_clean', cols))\n",
    "print(new_cer_s)"
   ]
  },
  {
   "cell_type": "markdown",
   "metadata": {},
   "source": [
    "### Pattern substitution"
   ]
  },
  {
   "cell_type": "code",
   "execution_count": 36,
   "metadata": {},
   "outputs": [],
   "source": [
    "import re\n",
    "\n",
    "def replace_im_with_i_nasal(text):\n",
    "    def replace(match):\n",
    "        return \"ĩ\" + match.group(1)\n",
    "\n",
    "    pattern = r'im([pb])'\n",
    "    result = re.sub(pattern, replace, text)\n",
    "    return result\n",
    "\n",
    "def replace_in_with_i_nasal(text):\n",
    "    def replace(match):\n",
    "        return \"ĩ\" + match.group(1)\n",
    "\n",
    "    pattern = r'im([pb])'\n",
    "    result = re.sub(pattern, replace, text)\n",
    "    return result\n",
    "\n",
    "def replace_ein_with_ei(text):\n",
    "    def replace(match):\n",
    "        return \"ẽɪ\" + match.group(1)\n",
    "\n",
    "    pattern = r'eɪn([pbtdkɡtʃdʒfvszʃʒχɣhɦmnɲỹɾrɹlɫʎlʲ])'\n",
    "    result = re.sub(pattern, replace, text)\n",
    "    return result\n",
    "\n",
    "def replace_ein_with_en(text):\n",
    "    def replace(match):\n",
    "        return \"en\"\n",
    "\n",
    "    pattern = r'eɪn$'\n",
    "    result = re.sub(pattern, replace, text)\n",
    "    return result\n",
    "\n",
    "def replace_e_nasal_with_ei(text):\n",
    "    def replace(match):\n",
    "        return \"ẽɪ\"\n",
    "\n",
    "    pattern = r'ẽ(?=[pbtdkɡtʃdʒfvszʃʒχɣhɦmɾrɹlɫʎlʲ])'\n",
    "    result = re.sub(pattern, replace, text)\n",
    "    return result\n",
    "\n",
    "def translate(transcript):\n",
    "    transcript = replace_im_with_i_nasal(transcript)\n",
    "    transcript = replace_ein_with_ei(transcript)\n",
    "    transcript = replace_ein_with_en(transcript)\n",
    "    transcript = replace_e_nasal_with_ei(transcript)\n",
    "    return transcript"
   ]
  },
  {
   "cell_type": "code",
   "execution_count": 37,
   "metadata": {
    "scrolled": true
   },
   "outputs": [],
   "source": [
    "# df_val[cols] = df_val[cols].applymap(lambda v: translate(v))\n",
    "# df_val[cols_with_ref].head()"
   ]
  },
  {
   "cell_type": "code",
   "execution_count": 38,
   "metadata": {},
   "outputs": [],
   "source": [
    "# new_cer_s = pd.Series(get_cer_df(df_val, 'pronunciation_clean', cols))\n",
    "# print(new_cer_s)"
   ]
  },
  {
   "cell_type": "markdown",
   "metadata": {},
   "source": [
    "## Error analysis"
   ]
  },
  {
   "cell_type": "code",
   "execution_count": 40,
   "metadata": {},
   "outputs": [],
   "source": [
    "df_cer = df_val.apply(lambda row: [cer(row['pronunciation_clean'], row[col]) \\\n",
    "                                   for col in cols\n",
    "                                  ], \n",
    "                      axis=1, result_type='expand')\n",
    "df_cer.columns = cols"
   ]
  },
  {
   "cell_type": "code",
   "execution_count": 44,
   "metadata": {},
   "outputs": [
    {
     "data": {
      "image/png": "[encoded data removed]",
      "text/plain": [
       "<Figure size 640x480 with 1 Axes>"
      ]
     },
     "metadata": {},
     "output_type": "display_data"
    }
   ],
   "source": [
    "import seaborn as sns\n",
    "import matplotlib.pyplot as plt\n",
    "\n",
    "sns.kdeplot(df_cer['falabrasil_pronunciation_clean'])\n",
    "plt.title('Histograma do PER')\n",
    "plt.show()"
   ]
  },
  {
   "cell_type": "code",
   "execution_count": 46,
   "metadata": {},
   "outputs": [
    {
     "data": {
      "text/html": [
       "<div>\n",
       "<style scoped>\n",
       "    .dataframe tbody tr th:only-of-type {\n",
       "        vertical-align: middle;\n",
       "    }\n",
       "\n",
       "    .dataframe tbody tr th {\n",
       "        vertical-align: top;\n",
       "    }\n",
       "\n",
       "    .dataframe thead th {\n",
       "        text-align: right;\n",
       "    }\n",
       "</style>\n",
       "<table border=\"1\" class=\"dataframe\">\n",
       "  <thead>\n",
       "    <tr style=\"text-align: right;\">\n",
       "      <th></th>\n",
       "      <th>word</th>\n",
       "      <th>category</th>\n",
       "      <th>pronunciation</th>\n",
       "      <th>pronunciation_clean</th>\n",
       "      <th>word_clean</th>\n",
       "      <th>epitran_pronunciation</th>\n",
       "      <th>epitran_pronunciation_clean</th>\n",
       "      <th>espeak_pronunciation</th>\n",
       "      <th>espeak_pronunciation_clean</th>\n",
       "      <th>falabrasil_pronunciation</th>\n",
       "      <th>falabrasil_pronunciation_clean</th>\n",
       "      <th>phonetisaurus_pronunciation</th>\n",
       "      <th>phonetisaurus_pronunciation_clean</th>\n",
       "    </tr>\n",
       "  </thead>\n",
       "  <tbody>\n",
       "    <tr>\n",
       "      <th>2860</th>\n",
       "      <td>hou</td>\n",
       "      <td>interjeição</td>\n",
       "      <td>ˈo</td>\n",
       "      <td>o</td>\n",
       "      <td>hou</td>\n",
       "      <td>owu</td>\n",
       "      <td>oʊu</td>\n",
       "      <td>o_w</td>\n",
       "      <td>oʊ</td>\n",
       "      <td>o w</td>\n",
       "      <td>oʊ</td>\n",
       "      <td>o u</td>\n",
       "      <td>ou</td>\n",
       "    </tr>\n",
       "    <tr>\n",
       "      <th>3122</th>\n",
       "      <td>e·ra</td>\n",
       "      <td>nome feminino</td>\n",
       "      <td>ˈɛ.ɾə</td>\n",
       "      <td>ɛɾə</td>\n",
       "      <td>era</td>\n",
       "      <td>ɛɾɐ</td>\n",
       "      <td>ɛɾɐ</td>\n",
       "      <td>ɛ_ɾ_æ</td>\n",
       "      <td>ɛɾa</td>\n",
       "      <td>e r a</td>\n",
       "      <td>era</td>\n",
       "      <td>e ʁ a</td>\n",
       "      <td>eχa</td>\n",
       "    </tr>\n",
       "    <tr>\n",
       "      <th>3130</th>\n",
       "      <td>tra·ção</td>\n",
       "      <td>nome masculino</td>\n",
       "      <td>se.lˈɛ.tʊ</td>\n",
       "      <td>selɛtʊ</td>\n",
       "      <td>tração</td>\n",
       "      <td>tɾɐsɐ̃w̃</td>\n",
       "      <td>tɾɐsãʊ̃</td>\n",
       "      <td>t_r_a_s_ɐ̃ʊ̃</td>\n",
       "      <td>trasãʊ̃</td>\n",
       "      <td>t r a s a~ w~</td>\n",
       "      <td>trasãʊ̃</td>\n",
       "      <td>t ʁ a s ɐ̃ o</td>\n",
       "      <td>tχasão</td>\n",
       "    </tr>\n",
       "    <tr>\n",
       "      <th>3427</th>\n",
       "      <td>dram</td>\n",
       "      <td>nome masculino</td>\n",
       "      <td>dɾˈə̃</td>\n",
       "      <td>dɾã</td>\n",
       "      <td>dram</td>\n",
       "      <td>dɾɐ̃</td>\n",
       "      <td>dɾã</td>\n",
       "      <td>d_r_ɐ̃ʊ̃</td>\n",
       "      <td>drãʊ̃</td>\n",
       "      <td>d r a~ w~</td>\n",
       "      <td>drãʊ̃</td>\n",
       "      <td>d ʁ a m</td>\n",
       "      <td>dχam</td>\n",
       "    </tr>\n",
       "    <tr>\n",
       "      <th>3758</th>\n",
       "      <td>cor·ta-u·nhas</td>\n",
       "      <td>nome masculino</td>\n",
       "      <td>kˌɔɾ.tə.fˈo.gʊ</td>\n",
       "      <td>kɔɾtəfoɡʊ</td>\n",
       "      <td>corta-unhas</td>\n",
       "      <td>koɾtɐ-unɐʃ</td>\n",
       "      <td>koɾtɐunɐʃ</td>\n",
       "      <td>k_ɔ_ɾ_ə_t_æ_ũ_ɲ_æ_s</td>\n",
       "      <td>kɔɾtaũɲas</td>\n",
       "      <td>k o X t a  u~ J  a s</td>\n",
       "      <td>koχtaũɲas</td>\n",
       "      <td>k o ʁ t a u ɲ a s</td>\n",
       "      <td>koχtauɲas</td>\n",
       "    </tr>\n",
       "    <tr>\n",
       "      <th>3861</th>\n",
       "      <td>he·na</td>\n",
       "      <td>nome feminino</td>\n",
       "      <td>ˈɛ.nə</td>\n",
       "      <td>ɛnə</td>\n",
       "      <td>hena</td>\n",
       "      <td>ɛnɐ</td>\n",
       "      <td>ɛnɐ</td>\n",
       "      <td>e_n_æ</td>\n",
       "      <td>ena</td>\n",
       "      <td>e~ n a</td>\n",
       "      <td>ẽna</td>\n",
       "      <td>e n a</td>\n",
       "      <td>ena</td>\n",
       "    </tr>\n",
       "    <tr>\n",
       "      <th>4096</th>\n",
       "      <td>fru·ir</td>\n",
       "      <td>verbo</td>\n",
       "      <td>fɾwˈi</td>\n",
       "      <td>fɾʊi</td>\n",
       "      <td>fruir</td>\n",
       "      <td>fɾujɾ</td>\n",
       "      <td>fɾuɪɾ</td>\n",
       "      <td>f_r_u_i_r</td>\n",
       "      <td>fruir</td>\n",
       "      <td>f r u j X</td>\n",
       "      <td>fruɪχ</td>\n",
       "      <td>f ʁ u i ʁ</td>\n",
       "      <td>fχuiχ</td>\n",
       "    </tr>\n",
       "    <tr>\n",
       "      <th>4676</th>\n",
       "      <td>bo·é·mi·a</td>\n",
       "      <td>nome feminino</td>\n",
       "      <td>bwˈɛ.mjə</td>\n",
       "      <td>bʊɛmɪə</td>\n",
       "      <td>boémia</td>\n",
       "      <td>bowemiɐ</td>\n",
       "      <td>boʊemiɐ</td>\n",
       "      <td>b_o_ɛ_m_j_æ</td>\n",
       "      <td>boɛmɪa</td>\n",
       "      <td>b o e~ m i a</td>\n",
       "      <td>boẽmia</td>\n",
       "      <td>b o ɛ m i a</td>\n",
       "      <td>boɛmia</td>\n",
       "    </tr>\n",
       "  </tbody>\n",
       "</table>\n",
       "</div>"
      ],
      "text/plain": [
       "               word        category   pronunciation pronunciation_clean  \\\n",
       "2860            hou     interjeição              ˈo                   o   \n",
       "3122           e·ra   nome feminino           ˈɛ.ɾə                 ɛɾə   \n",
       "3130        tra·ção  nome masculino       se.lˈɛ.tʊ              selɛtʊ   \n",
       "3427           dram  nome masculino           dɾˈə̃                 dɾã   \n",
       "3758  cor·ta-u·nhas  nome masculino  kˌɔɾ.tə.fˈo.gʊ           kɔɾtəfoɡʊ   \n",
       "3861          he·na   nome feminino           ˈɛ.nə                 ɛnə   \n",
       "4096         fru·ir           verbo           fɾwˈi                fɾʊi   \n",
       "4676      bo·é·mi·a   nome feminino        bwˈɛ.mjə              bʊɛmɪə   \n",
       "\n",
       "       word_clean epitran_pronunciation epitran_pronunciation_clean  \\\n",
       "2860          hou                   owu                         oʊu   \n",
       "3122          era                   ɛɾɐ                         ɛɾɐ   \n",
       "3130       tração              tɾɐsɐ̃w̃                     tɾɐsãʊ̃   \n",
       "3427         dram                  dɾɐ̃                         dɾã   \n",
       "3758  corta-unhas            koɾtɐ-unɐʃ                   koɾtɐunɐʃ   \n",
       "3861         hena                   ɛnɐ                         ɛnɐ   \n",
       "4096        fruir                 fɾujɾ                       fɾuɪɾ   \n",
       "4676       boémia               bowemiɐ                     boʊemiɐ   \n",
       "\n",
       "       espeak_pronunciation espeak_pronunciation_clean  \\\n",
       "2860                    o_w                         oʊ   \n",
       "3122                  ɛ_ɾ_æ                        ɛɾa   \n",
       "3130           t_r_a_s_ɐ̃ʊ̃                    trasãʊ̃   \n",
       "3427               d_r_ɐ̃ʊ̃                      drãʊ̃   \n",
       "3758   k_ɔ_ɾ_ə_t_æ_ũ_ɲ_æ_s                 kɔɾtaũɲas   \n",
       "3861                  e_n_æ                        ena   \n",
       "4096              f_r_u_i_r                      fruir   \n",
       "4676            b_o_ɛ_m_j_æ                     boɛmɪa   \n",
       "\n",
       "     falabrasil_pronunciation falabrasil_pronunciation_clean  \\\n",
       "2860                      o w                             oʊ   \n",
       "3122                    e r a                            era   \n",
       "3130            t r a s a~ w~                        trasãʊ̃   \n",
       "3427                d r a~ w~                          drãʊ̃   \n",
       "3758     k o X t a  u~ J  a s                     koχtaũɲas   \n",
       "3861                   e~ n a                           ẽna   \n",
       "4096                f r u j X                          fruɪχ   \n",
       "4676             b o e~ m i a                        boẽmia   \n",
       "\n",
       "     phonetisaurus_pronunciation phonetisaurus_pronunciation_clean  \n",
       "2860                         o u                                ou  \n",
       "3122                       e ʁ a                               eχa  \n",
       "3130                t ʁ a s ɐ̃ o                            tχasão  \n",
       "3427                     d ʁ a m                              dχam  \n",
       "3758           k o ʁ t a u ɲ a s                         koχtauɲas  \n",
       "3861                       e n a                               ena  \n",
       "4096                   f ʁ u i ʁ                             fχuiχ  \n",
       "4676                 b o ɛ m i a                            boɛmia  "
      ]
     },
     "execution_count": 46,
     "metadata": {},
     "output_type": "execute_result"
    }
   ],
   "source": [
    "highest_error = df_cer[df_cer['falabrasil_pronunciation_clean'] > 0.8].index\n",
    "index = df_val.loc[highest_error, ['word_clean', 'pronunciation_clean', 'falabrasil_pronunciation_clean']].index\n",
    "df_val.loc[index]"
   ]
  },
  {
   "cell_type": "code",
   "execution_count": 43,
   "metadata": {},
   "outputs": [],
   "source": [
    "df_cer = df_val.apply(lambda row: [cer(row['pronunciation_clean'], row[col]) \\\n",
    "                                   for col in cols\n",
    "                                  ], \n",
    "                      axis=1, result_type='expand')\n",
    "df_cer.columns = cols"
   ]
  },
  {
   "cell_type": "code",
   "execution_count": 47,
   "metadata": {},
   "outputs": [
    {
     "data": {
      "text/html": [
       "<div>\n",
       "<style scoped>\n",
       "    .dataframe tbody tr th:only-of-type {\n",
       "        vertical-align: middle;\n",
       "    }\n",
       "\n",
       "    .dataframe tbody tr th {\n",
       "        vertical-align: top;\n",
       "    }\n",
       "\n",
       "    .dataframe thead th {\n",
       "        text-align: right;\n",
       "    }\n",
       "</style>\n",
       "<table border=\"1\" class=\"dataframe\">\n",
       "  <thead>\n",
       "    <tr style=\"text-align: right;\">\n",
       "      <th></th>\n",
       "      <th>word</th>\n",
       "      <th>category</th>\n",
       "      <th>pronunciation</th>\n",
       "      <th>pronunciation_clean</th>\n",
       "      <th>word_clean</th>\n",
       "      <th>epitran_pronunciation</th>\n",
       "      <th>epitran_pronunciation_clean</th>\n",
       "      <th>espeak_pronunciation</th>\n",
       "      <th>espeak_pronunciation_clean</th>\n",
       "      <th>falabrasil_pronunciation</th>\n",
       "      <th>falabrasil_pronunciation_clean</th>\n",
       "      <th>phonetisaurus_pronunciation</th>\n",
       "      <th>phonetisaurus_pronunciation_clean</th>\n",
       "      <th>pronunciation_clean_standard</th>\n",
       "    </tr>\n",
       "  </thead>\n",
       "  <tbody>\n",
       "    <tr>\n",
       "      <th>744</th>\n",
       "      <td>ou·trem</td>\n",
       "      <td>pronome</td>\n",
       "      <td>ˈo.tɾeɲ</td>\n",
       "      <td>otɾeɲ</td>\n",
       "      <td>outrem</td>\n",
       "      <td>owutʁɛ̃</td>\n",
       "      <td>oʊutχẽ</td>\n",
       "      <td>o_w_t_r_eɪ_ŋ</td>\n",
       "      <td>oʊtreɪn</td>\n",
       "      <td>o w  t r e~ j~</td>\n",
       "      <td>oʊtrẽɪ</td>\n",
       "      <td>o u t ʁ e m</td>\n",
       "      <td>outχem</td>\n",
       "      <td>otɾeɲ</td>\n",
       "    </tr>\n",
       "    <tr>\n",
       "      <th>1381</th>\n",
       "      <td>po·e·ma</td>\n",
       "      <td>nome masculino</td>\n",
       "      <td>pwˈɛ.mə</td>\n",
       "      <td>pʊɛmə</td>\n",
       "      <td>poema</td>\n",
       "      <td>powɛmɐ</td>\n",
       "      <td>poʊɛmɐ</td>\n",
       "      <td>p_o_e_m_æ</td>\n",
       "      <td>poema</td>\n",
       "      <td>p o e~ m a</td>\n",
       "      <td>poẽma</td>\n",
       "      <td>p o e m a</td>\n",
       "      <td>poema</td>\n",
       "      <td>puɛma</td>\n",
       "    </tr>\n",
       "    <tr>\n",
       "      <th>1415</th>\n",
       "      <td>a·nu·ir</td>\n",
       "      <td>verbo</td>\n",
       "      <td>a.nwˈi</td>\n",
       "      <td>anʊi</td>\n",
       "      <td>anuir</td>\n",
       "      <td>ɐnujɾ</td>\n",
       "      <td>ɐnuɪɾ</td>\n",
       "      <td>æ_n_u_i_r</td>\n",
       "      <td>anuir</td>\n",
       "      <td>a n u j X</td>\n",
       "      <td>anuɪχ</td>\n",
       "      <td>a n u i ʁ</td>\n",
       "      <td>anuiχ</td>\n",
       "      <td>anuiʁ</td>\n",
       "    </tr>\n",
       "    <tr>\n",
       "      <th>2249</th>\n",
       "      <td>he·xa·no</td>\n",
       "      <td>nome masculino</td>\n",
       "      <td>e.gə.zˈə.nʊ</td>\n",
       "      <td>eɡəzənʊ</td>\n",
       "      <td>hexano</td>\n",
       "      <td>ɛzɐno</td>\n",
       "      <td>ɛzɐno</td>\n",
       "      <td>e_k_s_ɐ̃_n_ʊ</td>\n",
       "      <td>eksãnʊ</td>\n",
       "      <td>E k z a~ n u</td>\n",
       "      <td>ɛkzãnu</td>\n",
       "      <td>e k s a n o</td>\n",
       "      <td>eksano</td>\n",
       "      <td>eɡazanu</td>\n",
       "    </tr>\n",
       "    <tr>\n",
       "      <th>3524</th>\n",
       "      <td>glam</td>\n",
       "      <td>nome masculino</td>\n",
       "      <td>glˈam</td>\n",
       "      <td>ɡlam</td>\n",
       "      <td>glam</td>\n",
       "      <td>ɡlɐ̃</td>\n",
       "      <td>ɡlã</td>\n",
       "      <td>ɡ_l_ɐ̃ʊ̃</td>\n",
       "      <td>ɡlãʊ̃</td>\n",
       "      <td>g l a~ w~</td>\n",
       "      <td>ɡlãʊ̃</td>\n",
       "      <td>g ɫ a m</td>\n",
       "      <td>ɡlam</td>\n",
       "      <td>ɡlam</td>\n",
       "    </tr>\n",
       "    <tr>\n",
       "      <th>4077</th>\n",
       "      <td>or·cha·ta</td>\n",
       "      <td>nome feminino</td>\n",
       "      <td>ɔɾ.ʃˈa.tə ou ɔɾ.ʃˈa.tə</td>\n",
       "      <td>ɔɾʃatəouɔɾʃatə</td>\n",
       "      <td>orchata</td>\n",
       "      <td>oɾkɐtɐ</td>\n",
       "      <td>oɾkɐtɐ</td>\n",
       "      <td>o_ɾ_ə_ʃ_a_t_æ</td>\n",
       "      <td>oɾʃata</td>\n",
       "      <td>o X S  a t a</td>\n",
       "      <td>oχʃata</td>\n",
       "      <td>o ʁ ʃ a t a</td>\n",
       "      <td>oχʃata</td>\n",
       "      <td>ɔʁʃataouɔʁʃata</td>\n",
       "    </tr>\n",
       "    <tr>\n",
       "      <th>4531</th>\n",
       "      <td>ru·fi·a</td>\n",
       "      <td>nome masculino</td>\n",
       "      <td>xu.fˈi.jə ou xu.fˈi.jə</td>\n",
       "      <td>χufiɪəouχufiɪə</td>\n",
       "      <td>rufia</td>\n",
       "      <td>ʁufiɐ</td>\n",
       "      <td>χufiɐ</td>\n",
       "      <td>x_u_f_i__æ</td>\n",
       "      <td>χufia</td>\n",
       "      <td>R u f i a</td>\n",
       "      <td>χufia</td>\n",
       "      <td>ʁ u f i a</td>\n",
       "      <td>χufia</td>\n",
       "      <td>χufiɪaouχufiɪa</td>\n",
       "    </tr>\n",
       "    <tr>\n",
       "      <th>5048</th>\n",
       "      <td>lé·ri·as</td>\n",
       "      <td>nome masculino</td>\n",
       "      <td>lˈɛ.ɾjəs ou lˈɛ.ɾjəs</td>\n",
       "      <td>lɛɾɪəsoulɛɾɪəs</td>\n",
       "      <td>lérias</td>\n",
       "      <td>leɾiɐʃ</td>\n",
       "      <td>leɾiɐʃ</td>\n",
       "      <td>l_ɛ_ɾ_j_æ_s</td>\n",
       "      <td>lɛɾɪas</td>\n",
       "      <td>l E r i a s</td>\n",
       "      <td>lɛrias</td>\n",
       "      <td>ɫ ɛ ʁ i a s</td>\n",
       "      <td>lɛχias</td>\n",
       "      <td>lɛɾɪasoulɛɾɪas</td>\n",
       "    </tr>\n",
       "    <tr>\n",
       "      <th>5273</th>\n",
       "      <td>sé·pi·a</td>\n",
       "      <td>nome masculino</td>\n",
       "      <td>sˈɛ.pjə ou sˈɛ.pjə</td>\n",
       "      <td>sɛpɪəousɛpɪə</td>\n",
       "      <td>sépia</td>\n",
       "      <td>sepiɐ</td>\n",
       "      <td>sepiɐ</td>\n",
       "      <td>s_ɛ_p_j_æ</td>\n",
       "      <td>sɛpɪa</td>\n",
       "      <td>s E p i a</td>\n",
       "      <td>sɛpia</td>\n",
       "      <td>s ɛ p i a</td>\n",
       "      <td>sɛpia</td>\n",
       "      <td>sɛpɪaousɛpɪa</td>\n",
       "    </tr>\n",
       "  </tbody>\n",
       "</table>\n",
       "</div>"
      ],
      "text/plain": [
       "           word        category           pronunciation pronunciation_clean  \\\n",
       "744     ou·trem         pronome                 ˈo.tɾeɲ               otɾeɲ   \n",
       "1381    po·e·ma  nome masculino                 pwˈɛ.mə               pʊɛmə   \n",
       "1415    a·nu·ir           verbo                  a.nwˈi                anʊi   \n",
       "2249   he·xa·no  nome masculino             e.gə.zˈə.nʊ             eɡəzənʊ   \n",
       "3524       glam  nome masculino                   glˈam                ɡlam   \n",
       "4077  or·cha·ta   nome feminino  ɔɾ.ʃˈa.tə ou ɔɾ.ʃˈa.tə      ɔɾʃatəouɔɾʃatə   \n",
       "4531    ru·fi·a  nome masculino  xu.fˈi.jə ou xu.fˈi.jə      χufiɪəouχufiɪə   \n",
       "5048   lé·ri·as  nome masculino    lˈɛ.ɾjəs ou lˈɛ.ɾjəs      lɛɾɪəsoulɛɾɪəs   \n",
       "5273    sé·pi·a  nome masculino      sˈɛ.pjə ou sˈɛ.pjə        sɛpɪəousɛpɪə   \n",
       "\n",
       "     word_clean epitran_pronunciation epitran_pronunciation_clean  \\\n",
       "744      outrem               owutʁɛ̃                     oʊutχẽ   \n",
       "1381      poema                powɛmɐ                      poʊɛmɐ   \n",
       "1415      anuir                 ɐnujɾ                       ɐnuɪɾ   \n",
       "2249     hexano                 ɛzɐno                       ɛzɐno   \n",
       "3524       glam                  ɡlɐ̃                         ɡlã   \n",
       "4077    orchata                oɾkɐtɐ                      oɾkɐtɐ   \n",
       "4531      rufia                 ʁufiɐ                       χufiɐ   \n",
       "5048     lérias                leɾiɐʃ                      leɾiɐʃ   \n",
       "5273      sépia                 sepiɐ                       sepiɐ   \n",
       "\n",
       "     espeak_pronunciation espeak_pronunciation_clean falabrasil_pronunciation  \\\n",
       "744          o_w_t_r_eɪ_ŋ                    oʊtreɪn           o w  t r e~ j~   \n",
       "1381            p_o_e_m_æ                      poema               p o e~ m a   \n",
       "1415            æ_n_u_i_r                      anuir                a n u j X   \n",
       "2249         e_k_s_ɐ̃_n_ʊ                     eksãnʊ             E k z a~ n u   \n",
       "3524             ɡ_l_ɐ̃ʊ̃                      ɡlãʊ̃                g l a~ w~   \n",
       "4077        o_ɾ_ə_ʃ_a_t_æ                     oɾʃata             o X S  a t a   \n",
       "4531           x_u_f_i__æ                      χufia                R u f i a   \n",
       "5048          l_ɛ_ɾ_j_æ_s                     lɛɾɪas              l E r i a s   \n",
       "5273            s_ɛ_p_j_æ                      sɛpɪa                s E p i a   \n",
       "\n",
       "     falabrasil_pronunciation_clean phonetisaurus_pronunciation  \\\n",
       "744                         oʊtrẽɪ                 o u t ʁ e m   \n",
       "1381                         poẽma                   p o e m a   \n",
       "1415                          anuɪχ                   a n u i ʁ   \n",
       "2249                         ɛkzãnu                 e k s a n o   \n",
       "3524                          ɡlãʊ̃                     g ɫ a m   \n",
       "4077                         oχʃata                 o ʁ ʃ a t a   \n",
       "4531                          χufia                   ʁ u f i a   \n",
       "5048                         lɛrias                 ɫ ɛ ʁ i a s   \n",
       "5273                          sɛpia                   s ɛ p i a   \n",
       "\n",
       "     phonetisaurus_pronunciation_clean pronunciation_clean_standard  \n",
       "744                             outχem                        otɾeɲ  \n",
       "1381                             poema                        puɛma  \n",
       "1415                             anuiχ                        anuiʁ  \n",
       "2249                            eksano                      eɡazanu  \n",
       "3524                              ɡlam                         ɡlam  \n",
       "4077                            oχʃata               ɔʁʃataouɔʁʃata  \n",
       "4531                             χufia               χufiɪaouχufiɪa  \n",
       "5048                            lɛχias               lɛɾɪasoulɛɾɪas  \n",
       "5273                             sɛpia                 sɛpɪaousɛpɪa  "
      ]
     },
     "execution_count": 47,
     "metadata": {},
     "output_type": "execute_result"
    }
   ],
   "source": [
    "highest_error = df_cer[df_cer['falabrasil_pronunciation_clean'] > 0.7].index\n",
    "index = df_val.loc[highest_error, ['word_clean', 'pronunciation_clean', 'falabrasil_pronunciation_clean']].index\n",
    "df_val.loc[index]"
   ]
  },
  {
   "cell_type": "markdown",
   "metadata": {},
   "source": [
    "## Standardizing"
   ]
  },
  {
   "cell_type": "code",
   "execution_count": 45,
   "metadata": {},
   "outputs": [
    {
     "name": "stdout",
     "output_type": "stream",
     "text": [
      "falabrasil_pronunciation_clean    0.189284\n",
      "dtype: float64\n"
     ]
    }
   ],
   "source": [
    "df_val['pronunciation_clean_standard'] = df_val['pronunciation_clean'].apply(\n",
    "    lambda v: v.replace('ə̃', 'ã').replace('ə', 'a').replace('ʊ', 'u')\\\n",
    "    .replace('x', 'ʁ').replace('iɲ', 'ĩ').replace('ẽj', 'ẽ')\n",
    ")\n",
    "df_val['pronunciation_clean_standard'] = df_val['pronunciation_clean_standard'].apply(\n",
    "    lambda v: re.sub(r'(.)\\1+', r'\\1', v))\n",
    "df_val['pronunciation_clean_standard'] = df_val.apply(\n",
    "    lambda row: re.sub('iz', 'ez', row['pronunciation_clean_standard']) \\\n",
    "    if re.search('ex[eé]', row['word_clean']) \\\n",
    "    else row['pronunciation_clean_standard'], axis=1)\n",
    "df_val['pronunciation_clean_standard'] = df_val.apply(\n",
    "    lambda row: re.sub('[ʁɾ]*$', 'ʁ', row['pronunciation_clean_standard']) \\\n",
    "    if re.search('[aeiou]r$', row['word_clean']) \\\n",
    "    else row['pronunciation_clean_standard'], axis=1)\n",
    "\n",
    "df_val['pronunciation_clean_standard'] = df_val['pronunciation_clean_standard'].apply(\n",
    "    lambda v: re.sub('ɾ$', 'ʁ', v))\n",
    "df_val['pronunciation_clean_standard'] = df_val['pronunciation_clean_standard'].apply(\n",
    "    lambda v: re.sub('ɾ([ptnvdmlskxfɲgzʃbʒʎhɫŋ])', r'ʁ\\1', v))\n",
    "\n",
    "df_val.loc[3024, 'pronunciation_clean_standard'] = 'mikrovowtʃ' # corrige pronuncia de microvolt\n",
    "cer_standard_falabrasil = pd.Series(get_cer_df(df_val, \n",
    "                            'pronunciation_clean_standard', \n",
    "                           ['falabrasil_pronunciation_clean']\n",
    "                        )\n",
    "                    )\n",
    "print(cer_standard_falabrasil)"
   ]
  },
  {
   "cell_type": "code",
   "execution_count": null,
   "metadata": {},
   "outputs": [],
   "source": []
  }
 ],
 "metadata": {
  "kernelspec": {
   "display_name": "Python 3 (ipykernel)",
   "language": "python",
   "name": "python3"
  },
  "language_info": {
   "codemirror_mode": {
    "name": "ipython",
    "version": 3
   },
   "file_extension": ".py",
   "mimetype": "text/x-python",
   "name": "python",
   "nbconvert_exporter": "python",
   "pygments_lexer": "ipython3",
   "version": "3.11.4"
  }
 },
 "nbformat": 4,
 "nbformat_minor": 4
}
